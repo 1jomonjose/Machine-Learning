{
 "cells": [
  {
   "cell_type": "code",
   "execution_count": 8,
   "metadata": {},
   "outputs": [
    {
     "name": "stdout",
     "output_type": "stream",
     "text": [
      "('searchObj.group() : ', 'Cats are smarter than dogs')\n",
      "('searchObj.group(1) : ', 'Cats')\n",
      "('searchObj.group(2) : ', 'smarter')\n"
     ]
    }
   ],
   "source": [
    "import re\n",
    "\n",
    "line = \"Cats are smarter than dogs\";\n",
    "\n",
    "searchObj = re.search( r'(.*) are (.*?) .*', line, re.M|re.I)\n",
    "\n",
    "if searchObj:\n",
    "   print((\"searchObj.group() : \", searchObj.group()))\n",
    "   print((\"searchObj.group(1) : \", searchObj.group(1)))\n",
    "   print((\"searchObj.group(2) : \", searchObj.group(2)))\n",
    "else:\n",
    "   print (\"Nothing found!!\")"
   ]
  },
  {
   "cell_type": "code",
   "execution_count": 10,
   "metadata": {},
   "outputs": [
    {
     "name": "stdout",
     "output_type": "stream",
     "text": [
      "('Phone Num : ', '2004-959-559 ')\n",
      "('Phone Num : ', '2004959559')\n"
     ]
    }
   ],
   "source": [
    "import re\n",
    "\n",
    "phone = \"2004-959-559 # This is Phone Number\"\n",
    "\n",
    "# Delete Python-style comments\n",
    "num = re.sub(r'#.*$', \"\", phone)\n",
    "print((\"Phone Num : \", num))\n",
    "\n",
    "# Remove anything other than digits\n",
    "num = re.sub(r'\\D', \"\", phone)    \n",
    "print((\"Phone Num : \", num))"
   ]
  },
  {
   "cell_type": "code",
   "execution_count": 11,
   "metadata": {},
   "outputs": [
    {
     "data": {
      "text/plain": [
       "['car']"
      ]
     },
     "execution_count": 11,
     "metadata": {},
     "output_type": "execute_result"
    }
   ],
   "source": [
    "\n",
    "import re\n",
    "\n",
    "re.findall('car', 'car')\n",
    "re.findall('car', 'scary')\n",
    "re.findall('car', 'carry')\n"
   ]
  },
  {
   "cell_type": "code",
   "execution_count": 12,
   "metadata": {},
   "outputs": [
    {
     "name": "stdout",
     "output_type": "stream",
     "text": [
      "['Hm', 'Err', 'are', 'you', 'sure', 'he', 'said', 'sounding', 'insecure']\n"
     ]
    }
   ],
   "source": [
    "\n",
    "import re\n",
    "\n",
    "pat = '[a-zA-Z]+'\n",
    "text = '\"Hm Err -- are you sure?\" he said, sounding insecure.'\n",
    "print((re.findall(pat, text)))\n",
    "\n"
   ]
  },
  {
   "cell_type": "code",
   "execution_count": 13,
   "metadata": {},
   "outputs": [
    {
     "name": "stdout",
     "output_type": "stream",
     "text": [
      "['\"', '--', '?\"', ',', '.']\n"
     ]
    }
   ],
   "source": [
    "\n",
    "import re\n",
    "\n",
    "text = '\"Hm Err -- are you sure?\" he said, sounding insecure.'\n",
    "\n",
    "pat = r'[.?\\-\",]+'\n",
    "print((re.findall(pat, text)))\n",
    "\n"
   ]
  },
  {
   "cell_type": "code",
   "execution_count": 14,
   "metadata": {},
   "outputs": [
    {
     "name": "stdout",
     "output_type": "stream",
     "text": [
      "Greedy error          : /books/2001\n",
      "No error, base only   : /books\n"
     ]
    }
   ],
   "source": [
    "import re\n",
    "\n",
    "formatString1 = \"%-22s: %s\"   # string to format output \n",
    "\n",
    "testString1 = \"phone: 123-4567, e-mail: a@server.com\"\n",
    "expression1 = r\"(\\w+ \\w+), phone: (\\d{3}-\\d{4}), e-mail: (\\w+@\\w+\\.\\w{3})\"\n",
    "\n",
    "formatString2 = \"%-38s: %s\"   # string to format output\n",
    "\n",
    "pathString = \"/books/2001/python\"  # file path string\n",
    "\n",
    "expression2 = \"(/.+)/\"  # greedy operator expression\n",
    "print((formatString1 % ( \"Greedy error\",re.match( expression2, pathString ).group( 1 ) )))\n",
    "\n",
    "expression3 = \"(/.+?)/\"  # non-greedy operator expression\n",
    "print((formatString1 % ( \"No error, base only\",re.match( expression3, pathString ).group( 1 ) )))\n",
    "\n"
   ]
  },
  {
   "cell_type": "code",
   "execution_count": 15,
   "metadata": {},
   "outputs": [
    {
     "name": "stdout",
     "output_type": "stream",
     "text": [
      "Greedy error          : /books/2001\n",
      "No error, base only   : /books\n"
     ]
    },
    {
     "data": {
      "text/plain": [
       "('ab', 'b')"
      ]
     },
     "execution_count": 15,
     "metadata": {},
     "output_type": "execute_result"
    }
   ],
   "source": [
    "import re\n",
    "\n",
    "formatString1 = \"%-22s: %s\"   # string to format output \n",
    "\n",
    "testString1 = \"phone: 123-4567, e-mail: a@server.com\"\n",
    "expression1 = r\"(\\w+ \\w+), phone: (\\d{3}-\\d{4}), e-mail: (\\w+@\\w+\\.\\w{3})\"\n",
    "\n",
    "formatString2 = \"%-38s: %s\"   # string to format output\n",
    "\n",
    "pathString = \"/books/2001/python\"  # file path string\n",
    "\n",
    "expression2 = \"(/.+)/\"  # greedy operator expression\n",
    "print((formatString1 % ( \"Greedy error\",re.match( expression2, pathString ).group( 1 ) )))\n",
    "\n",
    "expression3 = \"(/.+?)/\"  # non-greedy operator expression\n",
    "print((formatString1 % ( \"No error, base only\",re.match( expression3, pathString ).group( 1 ) )))\n",
    "\n",
    "\n",
    "\n",
    "\n",
    "import re\n",
    "\n",
    "m = re.match('(\\w\\w\\w)-(\\d\\d\\d)', 'abc-123')\n",
    "m.group()                      # entire match\n",
    "\n",
    "m.group(1)                     # subgroup 1\n",
    "\n",
    "m.group(2)                     # subgroup 2\n",
    "\n",
    "m.groups()                     # all subgroups\n",
    "\n",
    "m = re.match('ab', 'ab')       # no subgroups\n",
    "m.group()                      # entire match\n",
    "\n",
    "m.groups()                     # all subgroups\n",
    "\n",
    "\n",
    "m = re.match('(ab)', 'ab')     # one subgroup\n",
    "m.group()                      # entire match\n",
    "\n",
    "m.group(1)                     # subgroup 1\n",
    "\n",
    "m.groups()                     # all subgroups\n",
    "\n",
    "m = re.match('(a)(b)', 'ab')   # two subgroups\n",
    "m.group()                      # entire match\n",
    "m.group(1)                     # subgroup 1\n",
    "m.group(2)                     # subgroup 2\n",
    "m.groups()                     # all subgroups\n",
    "\n",
    "m = re.match('(a(b))', 'ab')         # two subgroups\n",
    "m.group()                      # entire match\n",
    "\n",
    "m.group(1)                     # subgroup 1\n",
    "m.group(2)                     # subgroup 2\n",
    "m.groups()                     # all subgroups"
   ]
  },
  {
   "cell_type": "code",
   "execution_count": 16,
   "metadata": {},
   "outputs": [],
   "source": [
    "\n",
    "\n",
    "import re\n",
    "\n",
    "m = re.match('foo', 'foo')    # pattern matches string\n",
    "if m is not None:         # show match if successful\n",
    "     m.group()\n",
    "     \n",
    "     "
   ]
  },
  {
   "cell_type": "code",
   "execution_count": 17,
   "metadata": {},
   "outputs": [
    {
     "name": "stdout",
     "output_type": "stream",
     "text": [
      "foo\n",
      "foo\n"
     ]
    }
   ],
   "source": [
    "\n",
    "import re\n",
    "\n",
    "m = re.match('foo', 'bar')# pattern does not match string\n",
    "if m is not None: m.group()# (1-line version of ifclause)\n",
    "\n",
    "m = re.match('foo', 'food on the table') # match succeeds\n",
    "print((m.group()))\n",
    "\n",
    "print((re.match('foo', 'food on the table').group()))\n",
    "\n"
   ]
  },
  {
   "cell_type": "code",
   "execution_count": 18,
   "metadata": {},
   "outputs": [
    {
     "data": {
      "text/plain": [
       "'nobody@www.xxx.yyy.zzz.com'"
      ]
     },
     "execution_count": 18,
     "metadata": {},
     "output_type": "execute_result"
    }
   ],
   "source": [
    "\n",
    "import re\n",
    "\n",
    "patt = '\\w+@(\\w+\\.)?\\w+\\.com'\n",
    "re.match(patt, 'nobody@xxx.com').group()\n",
    "re.match(patt, 'nobody@www.xxx.com').group()\n",
    "patt = '\\w+@(\\w+\\.)*\\w+\\.com'\n",
    "re.match(patt, 'nobody@www.xxx.yyy.zzz.com').group()\n"
   ]
  },
  {
   "cell_type": "code",
   "execution_count": 19,
   "metadata": {},
   "outputs": [
    {
     "name": "stdout",
     "output_type": "stream",
     "text": [
      "The expression                     : Hello\n",
      "The compiled expression            : re.compile('Hello')\n",
      "Non-compiled search                : <_sre.SRE_Match object; span=(0, 5), match='Hello'>\n",
      "Compiled search                    : <_sre.SRE_Match object; span=(0, 5), match='Hello'>\n",
      "search SRE_Match contains          : Hello\n",
      "compiled search SRE_Match contains : Hello\n"
     ]
    }
   ],
   "source": [
    "\n",
    "\n",
    "import re\n",
    "\n",
    "testString = \"Hello world\"\n",
    "formatString = \"%-35s: %s\"   # string for formatting the output\n",
    "\n",
    "expression = \"Hello\"\n",
    "compiledExpression = re.compile( expression ) \n",
    "\n",
    "print((formatString % ( \"The expression\", expression )))\n",
    "print((formatString % ( \"The compiled expression\",compiledExpression )))\n",
    "\n",
    "print((formatString % ( \"Non-compiled search\",re.search( expression, testString ) )))\n",
    "print((formatString % ( \"Compiled search\",compiledExpression.search( testString ) )))\n",
    "\n",
    "print((formatString % ( \"search SRE_Match contains\",re.search( expression, testString ).group() )))\n",
    "print((formatString % ( \"compiled search SRE_Match contains\",compiledExpression.search( testString ).group() )))\n",
    "\n"
   ]
  },
  {
   "cell_type": "code",
   "execution_count": 20,
   "metadata": {},
   "outputs": [
    {
     "name": "stdout",
     "output_type": "stream",
     "text": [
      "The expression                     : Hello\n",
      "The compiled expression            : re.compile('Hello')\n",
      "Non-compiled search                : <_sre.SRE_Match object; span=(0, 5), match='Hello'>\n",
      "Compiled search                    : <_sre.SRE_Match object; span=(0, 5), match='Hello'>\n",
      "search SRE_Match contains          : Hello\n",
      "compiled search SRE_Match contains : Hello\n"
     ]
    }
   ],
   "source": [
    "\n",
    "\n",
    "import re\n",
    "\n",
    "testString = \"Hello world\"\n",
    "formatString = \"%-35s: %s\"   # string for formatting the output\n",
    "\n",
    "expression = \"Hello\"\n",
    "compiledExpression = re.compile( expression ) \n",
    "\n",
    "print((formatString % ( \"The expression\", expression )))\n",
    "print((formatString % ( \"The compiled expression\",compiledExpression )))\n",
    "\n",
    "print((formatString % ( \"Non-compiled search\",re.search( expression, testString ) )))\n",
    "print((formatString % ( \"Compiled search\",compiledExpression.search( testString ) )))\n",
    "\n",
    "print((formatString % ( \"search SRE_Match contains\",re.search( expression, testString ).group() )))\n",
    "print((formatString % ( \"compiled search SRE_Match contains\",compiledExpression.search( testString ).group() )))\n",
    "\n",
    "\n"
   ]
  },
  {
   "cell_type": "code",
   "execution_count": 21,
   "metadata": {},
   "outputs": [
    {
     "name": "stdout",
     "output_type": "stream",
     "text": [
      "('2x\\\\+5y|7y-3z', 'matches', '2x+5y')\n",
      "('2x\\\\+5y|7y-3z', 'matches', '7y-3z')\n",
      "('[0-9][a-zA-Z0-9_].[0-9][yz]', 'matches', '2x+5y')\n",
      "('[0-9][a-zA-Z0-9_].[0-9][yz]', 'matches', '7y-3z')\n",
      "('\\\\d\\\\w-\\\\d\\\\w', 'matches', '7y-3z')\n",
      "('^\\\\d{3}-\\\\d{3}-\\\\d{4}$', 'matches', '000-123-4567')\n",
      "('^\\\\d{3}-\\\\d{3}-\\\\d{4}$', 'matches', '111-123-4567')\n",
      "('\\\\w+:\\\\s+\\\\w+@\\\\w+\\\\.(com|org|net)', 'matches', 'email: \\t joe_doe@deitel.com')\n"
     ]
    }
   ],
   "source": [
    "\n",
    "\n",
    "import re\n",
    "\n",
    "testStrings = [ \"2x+5y\",\"7y-3z\" ]\n",
    "expressions = [ r\"2x\\+5y|7y-3z\",r\"[0-9][a-zA-Z0-9_].[0-9][yz]\", r\"\\d\\w-\\d\\w\" ]\n",
    "\n",
    "for expression in expressions:\n",
    "   for testString in testStrings:\n",
    "      if re.match( expression, testString ):\n",
    "         print((expression, \"matches\", testString))\n",
    "\n",
    "testString1 = \"000-123-4567\"\n",
    "testString2 = \"111-123-4567\"\n",
    "testString3 = \"email: \\t joe_doe@deitel.com\"\n",
    "\n",
    "expression1 = r\"^\\d{3}-\\d{3}-\\d{4}$\"\n",
    "expression2 = r\"\\w+:\\s+\\w+@\\w+\\.(com|org|net)\"\n",
    "\n",
    "if re.match( expression1, testString1 ):\n",
    "   print((expression1, \"matches\", testString1))\n",
    "\n",
    "if re.match( expression1, testString2 ):\n",
    "   print((expression1, \"matches\", testString2))\n",
    "\n",
    "if re.match( expression2, testString3 ):\n",
    "   print((expression2, \"matches\", testString3))\n",
    "   \n",
    "   "
   ]
  },
  {
   "cell_type": "code",
   "execution_count": 22,
   "metadata": {},
   "outputs": [
    {
     "name": "stdout",
     "output_type": "stream",
     "text": [
      "('usr', 'home', 'joe')\n"
     ]
    }
   ],
   "source": [
    "\n",
    "import re\n",
    "\n",
    "\n",
    "match = re.match('/(.*)/(.*)/(.*)', '/usr/home/joe')\n",
    "print((match.groups(  )))\n",
    "\n",
    "\n"
   ]
  },
  {
   "cell_type": "code",
   "execution_count": 23,
   "metadata": {},
   "outputs": [
    {
     "name": "stdout",
     "output_type": "stream",
     "text": [
      "('000', '888', '1234')\n",
      "None\n"
     ]
    }
   ],
   "source": [
    "# Search\n",
    "\n",
    "\n",
    "\n",
    "\n",
    "import re \n",
    "phonePattern = re.compile(r'^(\\d{3})-(\\d{3})-(\\d{4})$')    \n",
    "print((phonePattern.search('000-888-1234').groups()))             \n",
    "print((phonePattern.search('000-888-1234-1234')))\n"
   ]
  },
  {
   "cell_type": "code",
   "execution_count": 24,
   "metadata": {},
   "outputs": [
    {
     "name": "stdout",
     "output_type": "stream",
     "text": [
      "('000', '888', '1234', '1234')\n",
      "None\n",
      "None\n"
     ]
    }
   ],
   "source": [
    "\n",
    "\n",
    "import re \n",
    "phonePattern = re.compile(r'^(\\d{3})-(\\d{3})-(\\d{4})-(\\d+)$') \n",
    "print((phonePattern.search('000-888-1234-1234').groups()))                  \n",
    "print((phonePattern.search('000 888 1234 1234')))                          \n",
    "print((phonePattern.search('000-888-1234')))\n"
   ]
  },
  {
   "cell_type": "code",
   "execution_count": 25,
   "metadata": {},
   "outputs": [
    {
     "name": "stdout",
     "output_type": "stream",
     "text": [
      "('000', '888', '1234', '1234')\n",
      "None\n",
      "None\n"
     ]
    }
   ],
   "source": [
    "\n",
    "import re \n",
    "phonePattern = re.compile(r'^(\\d{3})\\D+(\\d{3})\\D+(\\d{4})\\D+(\\d+)$')  \n",
    "phonePattern.search('000 888 1234 1234').groups()                  \n",
    "print((phonePattern.search('000-888-1234-1234').groups()))                 \n",
    "print((phonePattern.search('00088812341234')))                               \n",
    "print((phonePattern.search('000-888-1234')))\n",
    "\n",
    "\n"
   ]
  },
  {
   "cell_type": "code",
   "execution_count": 26,
   "metadata": {},
   "outputs": [
    {
     "name": "stdout",
     "output_type": "stream",
     "text": [
      "('000', '888', '1234', '1234')\n",
      "('000', '888', '1234', '1234')\n",
      "('000', '888', '1234', '')\n",
      "None\n"
     ]
    }
   ],
   "source": [
    "\n",
    "\n",
    "import re \n",
    "phonePattern = re.compile(r'^(\\d{3})\\D*(\\d{3})\\D*(\\d{4})\\D*(\\d*)$')  \n",
    "print((phonePattern.search('00088812341234').groups()))                     \n",
    "print((phonePattern.search('000.888.1234 x1234').groups()))                \n",
    "print((phonePattern.search('000-888-1234').groups()))                        \n",
    "print((phonePattern.search('(000)8881234 x1234')))\n",
    "\n"
   ]
  },
  {
   "cell_type": "code",
   "execution_count": 27,
   "metadata": {},
   "outputs": [
    {
     "name": "stdout",
     "output_type": "stream",
     "text": [
      "('000', '888', '1234', '1234')\n",
      "('000', '888', '1234', '')\n",
      "None\n"
     ]
    }
   ],
   "source": [
    "\n",
    "import re \n",
    "phonePattern = re.compile(r'^\\D*(\\d{3})\\D*(\\d{3})\\D*(\\d{4})\\D*(\\d*)$')    \n",
    "print((phonePattern.search('(000)8881234 ext. 1234').groups()))                  \n",
    "print((phonePattern.search('000-888-1234').groups()))                           \n",
    "print((phonePattern.search('work 1-(000) 888.1234 #1234')))\n",
    "\n"
   ]
  },
  {
   "cell_type": "code",
   "execution_count": 28,
   "metadata": {},
   "outputs": [
    {
     "name": "stdout",
     "output_type": "stream",
     "text": [
      "('000', '888', '1234', '1234')\n",
      "<_sre.SRE_Match object; span=(0, 12), match='000-888-1234'>\n",
      "<_sre.SRE_Match object; span=(0, 14), match='00088812341234'>\n"
     ]
    }
   ],
   "source": [
    "\n",
    "\n",
    "import re \n",
    "\n",
    "phonePattern = re.compile(r'(\\d{3})\\D*(\\d{3})\\D*(\\d{4})\\D*(\\d*)$')   \n",
    "print((phonePattern.search('work 1-(000) 888.1234 #1234').groups()))        \n",
    "print((phonePattern.search('000-888-1234')))                               \n",
    "print((phonePattern.search('00088812341234')))\n",
    "\n"
   ]
  },
  {
   "cell_type": "code",
   "execution_count": 29,
   "metadata": {},
   "outputs": [
    {
     "name": "stdout",
     "output_type": "stream",
     "text": [
      "('hello', 'not found in string', 'Hello World')\n",
      "('Hello', 'found in string', 'Hello World')\n",
      "('world!', 'not found in string', 'Hello World')\n",
      "\n",
      "('hello', 'not found in string', 'Hello world!')\n",
      "('Hello', 'found in string', 'Hello world!')\n",
      "('world!', 'found in string', 'Hello world!')\n",
      "\n",
      "('hello', 'found in string', 'hello world')\n",
      "('Hello', 'not found in string', 'hello world')\n",
      "('world!', 'not found in string', 'hello world')\n",
      "\n"
     ]
    }
   ],
   "source": [
    "\n",
    "import re\n",
    "\n",
    "# list of strings to search and expressions used to search\n",
    "testStrings = [ \"Hello World\", \"Hello world!\", \"hello world\" ]\n",
    "expressions = [ \"hello\", \"Hello\", \"world!\" ]\n",
    "\n",
    "# search every expression in every string\n",
    "for string in testStrings:\n",
    "   for expression in expressions:\n",
    "      if re.search( expression, string ):\n",
    "         print((expression, \"found in string\", string))\n",
    "      else:\n",
    "         print((expression, \"not found in string\", string))\n",
    "   print()"
   ]
  },
  {
   "cell_type": "code",
   "execution_count": 30,
   "metadata": {},
   "outputs": [
    {
     "name": "stdout",
     "output_type": "stream",
     "text": [
      "['alpha', 'beta', 'gamma', 'delta']\n"
     ]
    }
   ],
   "source": [
    "# Split\n",
    "\n",
    "\n",
    "\n",
    "import re\n",
    "\n",
    "some_text = 'alpha, beta,,,,gamma delta'\n",
    "\n",
    "print((re.split('[, ]+', some_text)))\n",
    "\n"
   ]
  },
  {
   "cell_type": "code",
   "execution_count": 31,
   "metadata": {},
   "outputs": [
    {
     "name": "stdout",
     "output_type": "stream",
     "text": [
      "['alpha', 'beta', 'gamma delta']\n",
      "['alpha', 'beta,,,,gamma delta']\n"
     ]
    }
   ],
   "source": [
    "\n",
    "import re\n",
    "\n",
    "\n",
    "some_text = 'alpha, beta,,,,gamma delta'\n",
    "\n",
    "\n",
    "print((re.split('[, ]+', some_text, maxsplit=2)))\n",
    "print((re.split('[, ]+', some_text, maxsplit=1)))\n",
    "\n"
   ]
  },
  {
   "cell_type": "code",
   "execution_count": 33,
   "metadata": {},
   "outputs": [
    {
     "ename": "FileNotFoundError",
     "evalue": "[Errno 2] No such file or directory: 'whodata.txt'",
     "output_type": "error",
     "traceback": [
      "\u001b[0;31m---------------------------------------------------------------------------\u001b[0m",
      "\u001b[0;31mFileNotFoundError\u001b[0m                         Traceback (most recent call last)",
      "\u001b[0;32m<ipython-input-33-6baba50d17b9>\u001b[0m in \u001b[0;36m<module>\u001b[0;34m()\u001b[0m\n\u001b[1;32m      2\u001b[0m \u001b[0;34m\u001b[0m\u001b[0m\n\u001b[1;32m      3\u001b[0m \u001b[0;32mimport\u001b[0m \u001b[0mre\u001b[0m\u001b[0;34m\u001b[0m\u001b[0m\n\u001b[0;32m----> 4\u001b[0;31m \u001b[0mf\u001b[0m \u001b[0;34m=\u001b[0m \u001b[0mopen\u001b[0m\u001b[0;34m(\u001b[0m\u001b[0;34m'whodata.txt'\u001b[0m\u001b[0;34m,\u001b[0m \u001b[0;34m'r'\u001b[0m\u001b[0;34m)\u001b[0m\u001b[0;34m\u001b[0m\u001b[0m\n\u001b[0m\u001b[1;32m      5\u001b[0m \u001b[0;32mfor\u001b[0m \u001b[0meachLine\u001b[0m \u001b[0;32min\u001b[0m \u001b[0mf\u001b[0m\u001b[0;34m.\u001b[0m\u001b[0mreadlines\u001b[0m\u001b[0;34m(\u001b[0m\u001b[0;34m)\u001b[0m\u001b[0;34m:\u001b[0m\u001b[0;34m\u001b[0m\u001b[0m\n\u001b[1;32m      6\u001b[0m          \u001b[0mprint\u001b[0m\u001b[0;34m(\u001b[0m\u001b[0;34m(\u001b[0m\u001b[0mre\u001b[0m\u001b[0;34m.\u001b[0m\u001b[0msplit\u001b[0m\u001b[0;34m(\u001b[0m\u001b[0;34m'\\s\\s+'\u001b[0m\u001b[0;34m,\u001b[0m \u001b[0meachLine\u001b[0m\u001b[0;34m)\u001b[0m\u001b[0;34m)\u001b[0m\u001b[0;34m)\u001b[0m\u001b[0;34m\u001b[0m\u001b[0m\n",
      "\u001b[0;31mFileNotFoundError\u001b[0m: [Errno 2] No such file or directory: 'whodata.txt'"
     ]
    }
   ],
   "source": [
    "\n",
    "\n",
    "import re\n",
    "f = open('whodata.txt', 'r')\n",
    "for eachLine in f.readlines():\n",
    "         print((re.split('\\s\\s+', eachLine)))\n",
    "f.close()\n",
    "\n"
   ]
  },
  {
   "cell_type": "code",
   "execution_count": 34,
   "metadata": {},
   "outputs": [
    {
     "name": "stdout",
     "output_type": "stream",
     "text": [
      "Original string                   : This sentence ends in 5 stars *****\n",
      "^ substituted for *               : This sentence ends in 5 stars ^^^^^\n",
      "\"carets\" substituted for \"stars\"  : This sentence ends in 5 carets ^^^^^\n",
      "Every word replaced by \"word\"     : word word word word word word ^^^^^\n",
      "Replace first 3 digits by \"digit\" : digit,digit,digit,4,5,6,7\n",
      "Splitting 1,2,3,4,5,6,7           : ['1', '2', '3', '4', '5', '6', '7']\n",
      "Splitting 1+2x*3-y                : ['1', '2x', '3', 'y']\n"
     ]
    }
   ],
   "source": [
    "\n",
    "import re\n",
    "\n",
    "testString1 = \"This sentence ends in 5 stars *****\"\n",
    "testString2 = \"1,2,3,4,5,6,7\"\n",
    "testString3 = \"1+2x*3-y\"\n",
    "formatString = \"%-34s: %s\"   # string to format output\n",
    "\n",
    "print((formatString % ( \"Original string\", testString1 )))\n",
    "\n",
    "testString1 =  re.sub( r\"\\*\", r\"^\", testString1 )\n",
    "print((formatString % ( \"^ substituted for *\", testString1 )))\n",
    "\n",
    "testString1 = re.sub( r\"stars\", \"carets\", testString1 )\n",
    "print((formatString % ( '\"carets\" substituted for \"stars\"',testString1 )))\n",
    "\n",
    "print((formatString % ( 'Every word replaced by \"word\"',re.sub( r\"\\w+\", \"word\", testString1 ) )))\n",
    "\n",
    "print((formatString % ( 'Replace first 3 digits by \"digit\"',re.sub( r\"\\d\", \"digit\", testString2, 3 ) )))\n",
    "\n",
    "print((formatString % ( \"Splitting \" + testString2,re.split( r\",\", testString2 ) )))\n",
    "\n",
    "print((formatString % ( \"Splitting \" + testString3,re.split( r\"[+\\-*/%]\", testString3 ) )))\n",
    "\n",
    "\n"
   ]
  },
  {
   "cell_type": "code",
   "execution_count": 37,
   "metadata": {},
   "outputs": [
    {
     "data": {
      "text/plain": [
       "'Dear Dr. Vishwanath Rao'"
      ]
     },
     "execution_count": 37,
     "metadata": {},
     "output_type": "execute_result"
    }
   ],
   "source": [
    "# Sub\n",
    "\n",
    "\n",
    "\n",
    "\n",
    "import re\n",
    "\n",
    "pat = '{name}'\n",
    "text = 'Dear {name}'\n",
    "re.sub(pat, 'Dr. Vishwanath Rao', text)\n",
    "\n"
   ]
  },
  {
   "cell_type": "code",
   "execution_count": 36,
   "metadata": {},
   "outputs": [
    {
     "data": {
      "text/plain": [
       "'100 NORTH BROAD RD.'"
      ]
     },
     "execution_count": 36,
     "metadata": {},
     "output_type": "execute_result"
    }
   ],
   "source": [
    "\n",
    "\n",
    "import re\n",
    "\n",
    "\n",
    "s = '100 NORTH MAIN ROAD' \n",
    "s.replace('ROAD', 'RD.')                  \n",
    "s = '100 NORTH BROAD ROAD' \n",
    "s.replace('ROAD', 'RD.')                       \n",
    "s[:-4] + s[-4:].replace('ROAD', 'RD.')        \n",
    "import re                                       \n",
    "\n",
    "re.sub('ROAD$', 'RD.', s)\n",
    "\n"
   ]
  },
  {
   "cell_type": "code",
   "execution_count": 38,
   "metadata": {},
   "outputs": [
    {
     "name": "stdout",
     "output_type": "stream",
     "text": [
      "100 BRD.\n",
      "100 BROAD\n",
      "100 BROAD\n",
      "100 BROAD ROAD APT. 3\n",
      "100 BROAD RD. APT. 3\n"
     ]
    }
   ],
   "source": [
    "\n",
    "\n",
    "import re\n",
    "\n",
    "s = '100 BROAD' \n",
    "print((re.sub('ROAD$', 'RD.', s))) \n",
    "print((re.sub('\\\\bROAD$', 'RD.', s)))              \n",
    "print((re.sub(r'\\bROAD$', 'RD.', s)))                   \n",
    "s = '100 BROAD ROAD APT. 3' \n",
    "print((re.sub(r'\\bROAD$', 'RD.', s)))                  \n",
    "print((re.sub(r'\\bROAD\\b', 'RD.', s)))\n",
    "\n",
    "\n"
   ]
  },
  {
   "cell_type": "code",
   "execution_count": 39,
   "metadata": {},
   "outputs": [
    {
     "name": "stdout",
     "output_type": "stream",
     "text": [
      "attn: Mr. Sushanth V Rao\n",
      "\n",
      "Dear Mr. Sushanth V Rao,\n",
      "\n"
     ]
    },
    {
     "data": {
      "text/plain": [
       "['str1', 'str2', 'str3']"
      ]
     },
     "execution_count": 39,
     "metadata": {},
     "output_type": "execute_result"
    }
   ],
   "source": [
    "\n",
    "\n",
    "import re\n",
    "\n",
    "re.sub('X', 'Mr. Sushanth V Rao', 'attn: X\\n\\nDear X,\\n')\n",
    "re.subn('X', 'Mr. Sushanth V Rao', 'attn: X\\n\\nDear X,\\n')\n",
    "print((re.sub('X', 'Mr. Sushanth V Rao', 'attn: X\\n\\nDear X,\\n')))\n",
    "re.sub('[ae]', 'X', 'abcdef')\n",
    "re.subn('[ae]', 'X', 'abcdef')\n",
    "\n",
    "# Splitting (on Delimiting Pattern) with split()\n",
    "re.split(':', 'str1:str2:str3')\n",
    "\n",
    "\n"
   ]
  },
  {
   "cell_type": "code",
   "execution_count": null,
   "metadata": {},
   "outputs": [],
   "source": []
  }
 ],
 "metadata": {
  "kernelspec": {
   "display_name": "Python 3",
   "language": "python",
   "name": "python3"
  },
  "language_info": {
   "codemirror_mode": {
    "name": "ipython",
    "version": 3
   },
   "file_extension": ".py",
   "mimetype": "text/x-python",
   "name": "python",
   "nbconvert_exporter": "python",
   "pygments_lexer": "ipython3",
   "version": "3.6.5"
  }
 },
 "nbformat": 4,
 "nbformat_minor": 2
}
