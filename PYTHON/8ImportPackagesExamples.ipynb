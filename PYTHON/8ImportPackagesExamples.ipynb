{
 "cells": [
  {
   "cell_type": "code",
   "execution_count": 1,
   "metadata": {},
   "outputs": [
    {
     "name": "stdout",
     "output_type": "stream",
     "text": [
      "3.0\n"
     ]
    }
   ],
   "source": [
    "'''\n",
    "Created on Mar 20, 2018\n",
    "\n",
    "@author: BVR\n",
    "'''\n",
    "\n",
    "\n",
    "# After using 'from module import function', you can use the function without its module prefix.\n",
    "\n",
    "from math import sqrt \n",
    "print (sqrt(9))\n"
   ]
  },
  {
   "cell_type": "code",
   "execution_count": 2,
   "metadata": {},
   "outputs": [
    {
     "data": {
      "text/plain": [
       "2.0"
      ]
     },
     "execution_count": 2,
     "metadata": {},
     "output_type": "execute_result"
    }
   ],
   "source": [
    "\n",
    "import math as foobar \n",
    "foobar.sqrt(4) \n",
    "\n",
    "from math import sqrt as foobar \n",
    "foobar(4)\n"
   ]
  },
  {
   "cell_type": "code",
   "execution_count": 3,
   "metadata": {},
   "outputs": [
    {
     "name": "stdout",
     "output_type": "stream",
     "text": [
      "C:\\Users\\VishwanathRao\\PYTHON_3.6\\00DEMOS\n"
     ]
    }
   ],
   "source": [
    "\n",
    "\n",
    "# Items in submodules must be accessed explicitly including the full package name.\n",
    "\n",
    "import os\n",
    "print (os.path.abspath(\".\"))\n",
    "\n"
   ]
  },
  {
   "cell_type": "code",
   "execution_count": 4,
   "metadata": {},
   "outputs": [
    {
     "name": "stdout",
     "output_type": "stream",
     "text": [
      "C:\\Users\\VishwanathRao\\PYTHON_3.6\\00DEMOS\n"
     ]
    }
   ],
   "source": [
    "\n",
    "# Items in submodules must be accessed explicitly including the full package name:\n",
    "\n",
    "import os as computer\n",
    "print (computer.path.abspath(\".\"))\n",
    "\n"
   ]
  },
  {
   "cell_type": "code",
   "execution_count": 5,
   "metadata": {},
   "outputs": [
    {
     "name": "stdout",
     "output_type": "stream",
     "text": [
      "<class 'function'>\n",
      "<class 'function'>\n"
     ]
    }
   ],
   "source": [
    "\n",
    "import types \n",
    "print (types.FunctionType)                      \n",
    "from types import FunctionType                \n",
    "print (FunctionType)\n"
   ]
  },
  {
   "cell_type": "code",
   "execution_count": null,
   "metadata": {},
   "outputs": [],
   "source": []
  }
 ],
 "metadata": {
  "kernelspec": {
   "display_name": "Python 3",
   "language": "python",
   "name": "python3"
  },
  "language_info": {
   "codemirror_mode": {
    "name": "ipython",
    "version": 3
   },
   "file_extension": ".py",
   "mimetype": "text/x-python",
   "name": "python",
   "nbconvert_exporter": "python",
   "pygments_lexer": "ipython3",
   "version": "3.6.5"
  }
 },
 "nbformat": 4,
 "nbformat_minor": 2
}
