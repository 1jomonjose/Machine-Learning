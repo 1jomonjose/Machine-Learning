{
 "cells": [
  {
   "cell_type": "code",
   "execution_count": 1,
   "metadata": {},
   "outputs": [
    {
     "name": "stdout",
     "output_type": "stream",
     "text": [
      "Counter({'b': 3, 'a': 2, 'c': 1})\n",
      "Counter({'b': 3, 'a': 2, 'c': 1})\n",
      "Counter({'b': 3, 'a': 2, 'c': 1})\n"
     ]
    }
   ],
   "source": [
    "'''\n",
    "Created on Mar 22, 2018\n",
    "\n",
    "@author: BVR\n",
    "'''\n",
    "\n",
    "\n",
    "import collections\n",
    "\n",
    "print(collections.Counter(['a', 'b', 'c', 'a', 'b', 'b']))\n",
    "print(collections.Counter({'a':2, 'b':3, 'c':1}))\n",
    "print(collections.Counter(a=2, b=3, c=1))\n",
    "\n"
   ]
  },
  {
   "cell_type": "code",
   "execution_count": 2,
   "metadata": {},
   "outputs": [
    {
     "name": "stdout",
     "output_type": "stream",
     "text": [
      "Initial : Counter()\n",
      "Sequence: Counter({'a': 3, 'b': 2, 'c': 1, 'd': 1})\n",
      "Dict    : Counter({'d': 6, 'a': 4, 'b': 2, 'c': 1})\n"
     ]
    }
   ],
   "source": [
    "\n",
    "import collections\n",
    "\n",
    "c = collections.Counter()\n",
    "print('Initial :', c)\n",
    "\n",
    "c.update('abcdaab')\n",
    "print('Sequence:', c)\n",
    "\n",
    "c.update({'a':1, 'd':5})\n",
    "print('Dict    :', c)\n"
   ]
  },
  {
   "cell_type": "code",
   "execution_count": 3,
   "metadata": {},
   "outputs": [
    {
     "name": "stdout",
     "output_type": "stream",
     "text": [
      "a : 3\n",
      "b : 2\n",
      "c : 1\n",
      "d : 1\n",
      "e : 0\n",
      "Counter({'e': 3, 'x': 1, 't': 1, 'r': 1, 'm': 1, 'l': 1, 'y': 1, 'z': 0})\n",
      "['e', 'e', 'e', 'x', 't', 'r', 'm', 'l', 'y']\n"
     ]
    }
   ],
   "source": [
    "\n",
    "c = collections.Counter('abcdaab')\n",
    "\n",
    "for letter in 'abcde':\n",
    "    print('%s : %d' % (letter, c[letter]))\n",
    "    \n",
    "    \n",
    "    \n",
    "    \n",
    "\n",
    "c = collections.Counter('extremely')\n",
    "c['z'] = 0\n",
    "print(c)\n",
    "print(list(c.elements()))\n"
   ]
  },
  {
   "cell_type": "code",
   "execution_count": 4,
   "metadata": {},
   "outputs": [
    {
     "ename": "FileNotFoundError",
     "evalue": "[Errno 2] No such file or directory: '/usr/share/dict/words'",
     "output_type": "error",
     "traceback": [
      "\u001b[1;31m---------------------------------------------------------------------------\u001b[0m",
      "\u001b[1;31mFileNotFoundError\u001b[0m                         Traceback (most recent call last)",
      "\u001b[1;32m<ipython-input-4-3cef6d6850fa>\u001b[0m in \u001b[0;36m<module>\u001b[1;34m()\u001b[0m\n\u001b[0;32m      2\u001b[0m \u001b[1;33m\u001b[0m\u001b[0m\n\u001b[0;32m      3\u001b[0m \u001b[0mc\u001b[0m \u001b[1;33m=\u001b[0m \u001b[0mcollections\u001b[0m\u001b[1;33m.\u001b[0m\u001b[0mCounter\u001b[0m\u001b[1;33m(\u001b[0m\u001b[1;33m)\u001b[0m\u001b[1;33m\u001b[0m\u001b[0m\n\u001b[1;32m----> 4\u001b[1;33m \u001b[1;32mwith\u001b[0m \u001b[0mopen\u001b[0m\u001b[1;33m(\u001b[0m\u001b[1;34m'/usr/share/dict/words'\u001b[0m\u001b[1;33m,\u001b[0m \u001b[1;34m'rt'\u001b[0m\u001b[1;33m)\u001b[0m \u001b[1;32mas\u001b[0m \u001b[0mf\u001b[0m\u001b[1;33m:\u001b[0m\u001b[1;33m\u001b[0m\u001b[0m\n\u001b[0m\u001b[0;32m      5\u001b[0m     \u001b[1;32mfor\u001b[0m \u001b[0mline\u001b[0m \u001b[1;32min\u001b[0m \u001b[0mf\u001b[0m\u001b[1;33m:\u001b[0m\u001b[1;33m\u001b[0m\u001b[0m\n\u001b[0;32m      6\u001b[0m         \u001b[0mc\u001b[0m\u001b[1;33m.\u001b[0m\u001b[0mupdate\u001b[0m\u001b[1;33m(\u001b[0m\u001b[0mline\u001b[0m\u001b[1;33m.\u001b[0m\u001b[0mrstrip\u001b[0m\u001b[1;33m(\u001b[0m\u001b[1;33m)\u001b[0m\u001b[1;33m.\u001b[0m\u001b[0mlower\u001b[0m\u001b[1;33m(\u001b[0m\u001b[1;33m)\u001b[0m\u001b[1;33m)\u001b[0m\u001b[1;33m\u001b[0m\u001b[0m\n",
      "\u001b[1;31mFileNotFoundError\u001b[0m: [Errno 2] No such file or directory: '/usr/share/dict/words'"
     ]
    }
   ],
   "source": [
    "\n",
    "\n",
    "c = collections.Counter()\n",
    "with open('/usr/share/dict/words', 'rt') as f:\n",
    "    for line in f:\n",
    "        c.update(line.rstrip().lower())\n",
    "\n",
    "print('Most common:')\n",
    "for letter, count in c.most_common(3):\n",
    "    print('%s: %7d' % (letter, count))\n",
    "    \n",
    "    "
   ]
  },
  {
   "cell_type": "code",
   "execution_count": 5,
   "metadata": {},
   "outputs": [
    {
     "name": "stdout",
     "output_type": "stream",
     "text": [
      "C1: Counter({'b': 3, 'a': 2, 'c': 1})\n",
      "C2: Counter({'a': 2, 'l': 1, 'p': 1, 'h': 1, 'b': 1, 'e': 1, 't': 1})\n",
      "\n",
      "Combined counts:\n",
      "Counter({'a': 4, 'b': 4, 'c': 1, 'l': 1, 'p': 1, 'h': 1, 'e': 1, 't': 1})\n",
      "\n",
      "Subtraction:\n",
      "Counter({'b': 2, 'c': 1})\n",
      "\n",
      "Intersection (taking positive minimums):\n",
      "Counter({'a': 2, 'b': 1})\n",
      "\n",
      "Union (taking maximums):\n",
      "Counter({'b': 3, 'a': 2, 'c': 1, 'l': 1, 'p': 1, 'h': 1, 'e': 1, 't': 1})\n"
     ]
    }
   ],
   "source": [
    "\n",
    "c1 = collections.Counter(['a', 'b', 'c', 'a', 'b', 'b'])\n",
    "c2 = collections.Counter('alphabet')\n",
    "\n",
    "print('C1:', c1)\n",
    "print('C2:', c2)\n",
    "\n",
    "print('\\nCombined counts:')\n",
    "print(c1 + c2)\n",
    "\n",
    "print('\\nSubtraction:')\n",
    "print(c1 - c2)\n",
    "\n",
    "print('\\nIntersection (taking positive minimums):')\n",
    "print(c1 & c2)\n",
    "\n",
    "print('\\nUnion (taking maximums):')\n",
    "print(c1 | c2)\n"
   ]
  },
  {
   "cell_type": "code",
   "execution_count": 6,
   "metadata": {},
   "outputs": [
    {
     "name": "stdout",
     "output_type": "stream",
     "text": [
      "a\n",
      "b\n",
      "c\n",
      "1\n",
      "2\n",
      "3\n",
      "a\n",
      "b\n",
      "c\n"
     ]
    }
   ],
   "source": [
    "'''\n",
    "Created on Mar 22, 2018\n",
    "\n",
    "@author: BVR\n",
    "'''\n",
    "\n",
    "\n",
    "\n",
    "from collections import deque\n",
    "dq = deque()\n",
    "for e in dq :\n",
    "    print (e)\n",
    "\n",
    "\n",
    "dq1 = deque(['a','b','c'])\n",
    "for e in dq1 :\n",
    "   print (e)\n",
    "\n",
    "dq2 = deque({1:\"a\", 2:\"b\", 3:\"c\"})\n",
    "for e in dq2 :\n",
    "   print (e)\n",
    "\n",
    "dq3 = deque(dq1)\n",
    "for e in dq3 :\n",
    "    print (e)\n",
    "    "
   ]
  },
  {
   "cell_type": "code",
   "execution_count": 7,
   "metadata": {},
   "outputs": [
    {
     "name": "stdout",
     "output_type": "stream",
     "text": [
      "deque([6, 0, 1, 2, 3, 4, 5])\n",
      "5\n",
      "6\n",
      "None\n",
      "deque([2, 3, 4, 0, 1])\n",
      "None\n",
      "deque([3, 4, 0, 1, 2])\n"
     ]
    }
   ],
   "source": [
    "\n",
    "\n",
    "from collections import deque\n",
    "q = deque(list(range(5)))\n",
    "q.append(5)\n",
    "q.appendleft(6)\n",
    "print(q)\n",
    "print(q.pop())\n",
    "print(q.popleft())\n",
    "print(q.rotate(3))\n",
    "print(q)\n",
    "print(q.rotate(-1))\n",
    "print(q)\n"
   ]
  },
  {
   "cell_type": "code",
   "execution_count": 8,
   "metadata": {},
   "outputs": [
    {
     "name": "stdout",
     "output_type": "stream",
     "text": [
      "['A']\n",
      "Removed [ queue.pop(0) ]\n",
      "['A']\n"
     ]
    }
   ],
   "source": [
    "\n",
    "queue = []\n",
    "\n",
    "def enQ():\n",
    "    queue.append(\"A\")\n",
    "\n",
    "def deQ():\n",
    "    if len(queue) == 0:\n",
    "         print('Cannot pop from an empty queue!')\n",
    "    else:\n",
    "        print('Removed [', 'queue.pop(0)', ']')\n",
    "\n",
    "def viewQ():\n",
    "    print(queue)       # calls str() internally\n",
    "\n",
    "enQ()\n",
    "viewQ()\n",
    "\n",
    "deQ()\n",
    "viewQ()\n"
   ]
  },
  {
   "cell_type": "code",
   "execution_count": 9,
   "metadata": {},
   "outputs": [
    {
     "name": "stdout",
     "output_type": "stream",
     "text": [
      "['A']\n",
      "Removed [ stack.pop() ]\n",
      "['A']\n"
     ]
    }
   ],
   "source": [
    "\n",
    "stack = []\n",
    "\n",
    "def pushit():\n",
    "    stack.append(\"A\")\n",
    "\n",
    "def popit():\n",
    "    if len(stack) == 0:\n",
    "        print('Cannot pop from an empty stack!')\n",
    "    else:\n",
    "        print('Removed [', 'stack.pop()', ']')\n",
    "\n",
    "def viewstack():\n",
    "    print(stack)      # calls str() internally\n",
    "\n",
    "pushit()\n",
    "viewstack()\n",
    "popit()\n",
    "viewstack()\n"
   ]
  },
  {
   "cell_type": "code",
   "execution_count": null,
   "metadata": {},
   "outputs": [],
   "source": []
  },
  {
   "cell_type": "code",
   "execution_count": 11,
   "metadata": {},
   "outputs": [
    {
     "name": "stdout",
     "output_type": "stream",
     "text": [
      "set()\n",
      "set()\n",
      "set()\n",
      "{'B', 'C'}\n",
      "frozenset({'bar', 'foo'})\n",
      "{'1\\n', '0\\n', '4\\n', '2\\n', '3\\n'}\n"
     ]
    }
   ],
   "source": [
    "'''\n",
    "Created on Mar 22, 2018\n",
    "\n",
    "@author: BVR\n",
    "'''\n",
    "\n",
    "\n",
    "\n",
    "print((set()))\n",
    "print(set([]))\n",
    "print(set(()))\n",
    "print(set('BC'))\n",
    "print(frozenset(['foo', 'bar']))\n",
    "f = open('numbers', 'w')\n",
    "for i in range(5):\n",
    "    f.write('%d\\n' % i)\n",
    "    \n",
    "f.close()\n",
    "f = open('numbers', 'r')\n",
    "print(set(f))\n",
    "f.close()\n"
   ]
  },
  {
   "cell_type": "code",
   "execution_count": 12,
   "metadata": {},
   "outputs": [
    {
     "name": "stdout",
     "output_type": "stream",
     "text": [
      "{1, 2, 3, 4}\n",
      "{1, 2, 3, 4}\n",
      "True\n",
      "True\n",
      "False\n",
      "False\n",
      "{2, 3}\n",
      "{2, 3}\n",
      "{2, 3}\n",
      "{1}\n",
      "{1}\n",
      "{1, 4}\n",
      "{1, 4}\n",
      "{1, 2, 3}\n",
      "False\n"
     ]
    }
   ],
   "source": [
    "\n",
    "a = set([1, 2, 3])\n",
    "b = set([2, 3, 4])\n",
    "print(a.union(b))\n",
    "print(a | b)\n",
    "set([1, 2, 3, 4])\n",
    "c = a & b\n",
    "print(c.issubset(a))\n",
    "print(c <= a)\n",
    "print(c.issuperset(a))\n",
    "print(c >= a)\n",
    "print(a.intersection(b))\n",
    "print(set([2, 3]))\n",
    "print(a & b)\n",
    "print(a.difference(b))\n",
    "print(a - b)\n",
    "print(a.symmetric_difference(b))\n",
    "print(a ^ b)\n",
    "print(a.copy())\n",
    "print(a.copy() is a)\n"
   ]
  },
  {
   "cell_type": "code",
   "execution_count": 13,
   "metadata": {},
   "outputs": [
    {
     "name": "stdout",
     "output_type": "stream",
     "text": [
      "{'A', 'B', 'C'}\n",
      "frozenset({'B', 'C', 'D'})\n",
      "<class 'set'>\n",
      "<class 'frozenset'>\n",
      "3\n",
      "True\n",
      "False\n"
     ]
    }
   ],
   "source": [
    "\n",
    "s = set('ABC')\n",
    "print(s)\n",
    "t = frozenset('BCD')\n",
    "print(t)\n",
    "print(type(s))\n",
    "print(type(t))\n",
    "print(len(s))\n",
    "print(len(s) == len(t))\n",
    "print(s == t)\n"
   ]
  },
  {
   "cell_type": "code",
   "execution_count": 14,
   "metadata": {},
   "outputs": [
    {
     "name": "stdout",
     "output_type": "stream",
     "text": [
      "{'A', 'B', 'C'}\n",
      "frozenset({'B', 'C', 'D'})\n",
      "False\n",
      "False\n",
      "True\n",
      "A\n",
      "B\n",
      "C\n"
     ]
    }
   ],
   "source": [
    "\n",
    "s = set('ABC')\n",
    "print(s)\n",
    "t = frozenset('BCD')\n",
    "print(t)\n",
    "print('k' in s)\n",
    "print('k' in t)\n",
    "print('c' not in t)\n",
    "for i in s:\n",
    "   print(i)"
   ]
  },
  {
   "cell_type": "code",
   "execution_count": 18,
   "metadata": {},
   "outputs": [
    {
     "name": "stdout",
     "output_type": "stream",
     "text": [
      "{'z', 'A', 'B', 'C'}\n",
      "{'z', 'D', 'A', 'B', 'C'}\n"
     ]
    },
    {
     "ename": "KeyError",
     "evalue": "'DEF'",
     "output_type": "error",
     "traceback": [
      "\u001b[1;31m---------------------------------------------------------------------------\u001b[0m",
      "\u001b[1;31mKeyError\u001b[0m                                  Traceback (most recent call last)",
      "\u001b[1;32m<ipython-input-18-67a0a3a7472c>\u001b[0m in \u001b[0;36m<module>\u001b[1;34m()\u001b[0m\n\u001b[0;32m      5\u001b[0m \u001b[0ms\u001b[0m\u001b[1;33m.\u001b[0m\u001b[0mupdate\u001b[0m\u001b[1;33m(\u001b[0m\u001b[1;34m'BCD'\u001b[0m\u001b[1;33m)\u001b[0m\u001b[1;33m\u001b[0m\u001b[0m\n\u001b[0;32m      6\u001b[0m \u001b[0mprint\u001b[0m\u001b[1;33m(\u001b[0m\u001b[0ms\u001b[0m\u001b[1;33m)\u001b[0m\u001b[1;33m\u001b[0m\u001b[0m\n\u001b[1;32m----> 7\u001b[1;33m \u001b[0ms\u001b[0m\u001b[1;33m.\u001b[0m\u001b[0mremove\u001b[0m\u001b[1;33m(\u001b[0m\u001b[1;34m'DEF'\u001b[0m\u001b[1;33m)\u001b[0m\u001b[1;33m\u001b[0m\u001b[0m\n\u001b[0m\u001b[0;32m      8\u001b[0m \u001b[0mprint\u001b[0m\u001b[1;33m(\u001b[0m\u001b[0ms\u001b[0m\u001b[1;33m)\u001b[0m\u001b[1;33m\u001b[0m\u001b[0m\n\u001b[0;32m      9\u001b[0m \u001b[0ms\u001b[0m \u001b[1;33m-=\u001b[0m \u001b[0mset\u001b[0m\u001b[1;33m(\u001b[0m\u001b[1;34m'EFG'\u001b[0m\u001b[1;33m)\u001b[0m\u001b[1;33m\u001b[0m\u001b[0m\n",
      "\u001b[1;31mKeyError\u001b[0m: 'DEF'"
     ]
    }
   ],
   "source": [
    "  \n",
    "s = set('ABC')\n",
    "s.add('z')\n",
    "print(s)\n",
    "s.update('BCD')\n",
    "print(s)\n",
    "s.remove('DEF')\n",
    "print(s)\n",
    "s -= set('EFG')\n",
    "print(s)\n",
    "\n"
   ]
  },
  {
   "cell_type": "code",
   "execution_count": 16,
   "metadata": {},
   "outputs": [
    {
     "name": "stdout",
     "output_type": "stream",
     "text": [
      "False\n",
      "False\n",
      "True\n"
     ]
    }
   ],
   "source": [
    "\n",
    "s = set('ABC')\n",
    "t = frozenset('CBDEF')\n",
    "print('k' in s)\n",
    "print('k' in t)\n",
    "print('c'  not in t)\n",
    "\n"
   ]
  },
  {
   "cell_type": "code",
   "execution_count": 17,
   "metadata": {},
   "outputs": [
    {
     "name": "stdout",
     "output_type": "stream",
     "text": [
      "False\n",
      "True\n",
      "True\n",
      "True\n",
      "True\n",
      "{'k', 'o', 'b', 'A', 'B', 'C'}\n",
      "{'B', 'C'}\n",
      "{'A'}\n",
      "{'b', 'A', 'k', 'o'}\n",
      "frozenset({'b', 'A', 'k', 'B', 'C', 'o'})\n",
      "frozenset({'k', 'o', 'b', 'A'})\n",
      "frozenset({'b', 'k', 'o'})\n",
      "{'A', 'p', 'y', 'i', 'B', 'C'}\n",
      "{'B', 'C'}\n",
      "{'A'}\n",
      "{'k', 'o', 'b', 'A'}\n",
      "6\n"
     ]
    }
   ],
   "source": [
    "\n",
    "s = set('ABC')\n",
    "t = frozenset('BCD')\n",
    "print(s == t)\n",
    "print(s != t)\n",
    "u = frozenset(s)\n",
    "print(s == u)\n",
    "\n",
    "set('posh') == set('BC')\n",
    "\n",
    "\n",
    "\n",
    "\n",
    "print(set('BC') < set('ABC'))\n",
    "print(set('bookBC') >= set('BC'))\n",
    "\n",
    "\n",
    "\n",
    "s = set('ABC')\n",
    "t = frozenset('bookBC')\n",
    "print(s | t)\n",
    "\n",
    "\n",
    "\n",
    "s = set('ABC')\n",
    "t = frozenset('bookBC')\n",
    "\n",
    "print(s & t)\n",
    "\n",
    "\n",
    "\n",
    "s = set('ABC')\n",
    "t = frozenset('bookBC')\n",
    "print(s - t)\n",
    "\n",
    "\n",
    "\n",
    "s = set('ABC')\n",
    "t = frozenset('bookBC')\n",
    "print(s ^ t)\n",
    "\n",
    "\n",
    "\n",
    "\n",
    "s = set('ABC')\n",
    "t = frozenset('bookBC')\n",
    "print(t | s)\n",
    "print(t ^ s)\n",
    "print(t - s)\n",
    "\n",
    "\n",
    "s = set('ABC')\n",
    "u = frozenset(s)\n",
    "s |= set('pypi')\n",
    "print(s)\n",
    "\n",
    "\n",
    "\n",
    "s = set('ABC')\n",
    "u = frozenset(s)\n",
    "s = set(u)\n",
    "s &= set('BC')\n",
    "print(s)\n",
    "\n",
    "\n",
    "\n",
    "\n",
    "\n",
    "s = set('ABC')\n",
    "u = frozenset(s)\n",
    "s = set(u)\n",
    "s -= set('BC')\n",
    "print(s)\n",
    "\n",
    "\n",
    "\n",
    "\n",
    "s = set('ABC')\n",
    "u = frozenset(s)\n",
    "s = set(u)\n",
    "t = frozenset('bookBC')\n",
    "s ^= t\n",
    "print(s)\n",
    "\n",
    "\n",
    "\n",
    "\n",
    "s = set(['p', 'c', 'e', 'h', 's', 'o'])\n",
    "print(len(s))\n"
   ]
  },
  {
   "cell_type": "code",
   "execution_count": null,
   "metadata": {},
   "outputs": [],
   "source": []
  }
 ],
 "metadata": {
  "kernelspec": {
   "display_name": "Python 3",
   "language": "python",
   "name": "python3"
  },
  "language_info": {
   "codemirror_mode": {
    "name": "ipython",
    "version": 3
   },
   "file_extension": ".py",
   "mimetype": "text/x-python",
   "name": "python",
   "nbconvert_exporter": "python",
   "pygments_lexer": "ipython3",
   "version": "3.6.5"
  }
 },
 "nbformat": 4,
 "nbformat_minor": 2
}
