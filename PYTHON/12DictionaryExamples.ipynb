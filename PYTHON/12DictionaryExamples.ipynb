{
 "cells": [
  {
   "cell_type": "code",
   "execution_count": 1,
   "metadata": {},
   "outputs": [
    {
     "name": "stdout",
     "output_type": "stream",
     "text": [
      "x corresponds to 1\n",
      "y corresponds to 2\n",
      "z corresponds to 3\n"
     ]
    }
   ],
   "source": [
    "'''\n",
    "\n",
    "Dictionaries are written like this: \n",
    "\n",
    "phonebook = {'Alice': '2341', 'Beth': '9102', 'Cecil': '3258'} \n",
    "\n",
    "Dictionaries consist of pairs (called items) of keys and their corresponding values. \n",
    "Each key is separated from its value by a colon (:), the items are separated by commas, and the \n",
    "whole thing is enclosed in curly braces. \n",
    "An empty dictionary (without any items) is written with just two curly braces, like this: {}. \n",
    "Keys are unique within a dictionary (and any other kind of mapping), while values may not be.\n",
    "\n",
    "'''\n",
    "\n",
    "d = {'x': 1, 'y': 2, 'z': 3} \n",
    "\n",
    "for key in d: \n",
    "    print (key, 'corresponds to', d[key])\n",
    "    "
   ]
  },
  {
   "cell_type": "code",
   "execution_count": 2,
   "metadata": {},
   "outputs": [],
   "source": [
    "   \n",
    "    \n",
    "numberDict = {1:'one', 2:'two', 3:'three', 4:'four'}\n",
    "\n",
    "\n",
    "letterDict = {'vowel':['a','e','i','o','u'],'consonant':['b','c','d','f']}\n",
    "\n",
    "\n",
    "numberDict = {1:'one', 2:'two', 3:'three', 4:'four'}\n",
    "letterDict = {'vowel':['a','e','i','o','u'], 'consonant':['b','c','d','f']}\n",
    "numbers = (1,2,3,4,5,6,7,8,9,0)\n",
    "letters = ('a','b','c','d','e','f')\n",
    "punct = ('.', '!', '?')\n",
    "charSetDict = {numbers:[], letters:[], punct:[]}\n",
    "\n"
   ]
  },
  {
   "cell_type": "code",
   "execution_count": 3,
   "metadata": {},
   "outputs": [],
   "source": [
    "\n",
    "numbers = (1,2,3,4,5,6,7,8,9,0)\n",
    "letters = ('a','b','c','d','e','f')\n",
    "punct = ('.', '!', '?')\n",
    "charSetDict = {numbers:[], letters:[], punct:[]}\n"
   ]
  },
  {
   "cell_type": "code",
   "execution_count": 4,
   "metadata": {},
   "outputs": [
    {
     "name": "stdout",
     "output_type": "stream",
     "text": [
      "Insert characters: ssss\n"
     ]
    }
   ],
   "source": [
    "\n",
    "numbers = ('1','2','3','4','5','6','7','8','9','0')\n",
    "letters = ('a','b','c','d','e','f')\n",
    "punct = ('.', '!', '?')\n",
    "charSetDict = {numbers:[], letters:[], punct:[]}\n",
    "cSet = input(\"Insert characters: \")\n",
    "for c in cSet:\n",
    "    for x in charSetDict.keys():\n",
    "        if c in x:\n",
    "            charSetDict[x].append(c)\n",
    "            break;\n",
    "charSetDict[\"Special\"] = ['%', '$', '#']\n",
    "charSetDict[\"Special\"] = '><'\n"
   ]
  },
  {
   "cell_type": "code",
   "execution_count": 7,
   "metadata": {},
   "outputs": [
    {
     "name": "stdout",
     "output_type": "stream",
     "text": [
      "Insert characters: skjh3,3khjef-0123=-\n",
      "Numbers:\n",
      "['3', '3', '0', '1', '2', '3']\n",
      "Letters:\n",
      "['e', 'f']\n",
      "Puctuation:\n",
      "[]\n"
     ]
    }
   ],
   "source": [
    "\n",
    "numbers = ('1','2','3','4','5','6','7','8','9','0')\n",
    "letters = ('a','b','c','d','e','f')\n",
    "punct = ('.', '!', '?')\n",
    "charSetDict = {numbers:[], letters:[], punct:[]}\n",
    "\n",
    "def display_cset (cset):\n",
    "    print\n",
    "    for x in cset.items():\n",
    "        if x[0] == numbers:\n",
    "            print (\"Numbers:\")\n",
    "        elif x[0] == letters:\n",
    "            print (\"Letters:\")\n",
    "        elif x[0] == punct:\n",
    "            print (\"Puctuation:\")\n",
    "        else:\n",
    "            print (\"Unknown:\")\n",
    "        print (x[1])\n",
    "\n",
    "cSet = input(\"Insert characters: \")\n",
    "for c in cSet:\n",
    "    for x in charSetDict.keys():\n",
    "        if c in x:\n",
    "            charSetDict[x].append(c)\n",
    "            break;\n",
    "\n",
    "display_cset(charSetDict)"
   ]
  },
  {
   "cell_type": "code",
   "execution_count": 8,
   "metadata": {},
   "outputs": [
    {
     "name": "stdout",
     "output_type": "stream",
     "text": [
      "{'A': 'venus', 'B': 6969, 'C': 'sunos5'}\n"
     ]
    }
   ],
   "source": [
    "\n",
    "dict1 = {'A': 'earth', 'B': 80}\n",
    "dict1['A'] = 'venus' \n",
    "dict1['B'] = 6969    \n",
    "dict1['C'] = 'sunos5' \n",
    "\n",
    "print (dict1)"
   ]
  },
  {
   "cell_type": "code",
   "execution_count": 9,
   "metadata": {},
   "outputs": [
    {
     "name": "stdout",
     "output_type": "stream",
     "text": [
      "{'host': 'earth', 'port': 80}\n",
      "{}\n",
      "None\n",
      "False\n"
     ]
    }
   ],
   "source": [
    "\n",
    "d = {'host': 'earth', 'port': 80}\n",
    "\n",
    "print (d)\n",
    "returned_value = d.clear() \n",
    "print (d) \n",
    "print (returned_value)\n",
    "\n",
    "\n",
    "\n",
    "dict1 = {}\n",
    "dict2 = {'host': 'earth', 'port': 80}\n",
    "print (len(dict1) > len(dict2))\n",
    "\n"
   ]
  },
  {
   "cell_type": "code",
   "execution_count": 10,
   "metadata": {},
   "outputs": [
    {
     "name": "stdout",
     "output_type": "stream",
     "text": [
      "{'x': 1, 'y': 2}\n",
      "{'x': 1, 'y': 2}\n",
      "{'x': 1, 'y': 2}\n",
      "{'x': 1, 'y': 2}\n",
      "{'x': 1, 'y': 2}\n",
      "{'x': 1, 'y': 2}\n"
     ]
    }
   ],
   "source": [
    "\n",
    "\n",
    "print (dict(zip(('x', 'y'), (1, 2))))\n",
    "print (dict([['x', 1], ['y', 2]]))\n",
    "print (dict([('xy'[i-1], i) for i in range(1,3)]))\n",
    "print (dict(x=1, y=2))\n",
    "dict1 = dict(x=1, y=2)\n",
    "print (dict1)\n",
    "dict2 = dict(**dict1)\n",
    "print (dict2)\n"
   ]
  },
  {
   "cell_type": "code",
   "execution_count": 11,
   "metadata": {},
   "outputs": [
    {
     "name": "stdout",
     "output_type": "stream",
     "text": [
      "{'name': 'Gumby', 'age': 42}\n",
      "Gumby\n"
     ]
    }
   ],
   "source": [
    "\n",
    "items = [('name', 'Gumby'), ('age', 42)]\n",
    "d = dict(items)\n",
    "print (d)\n",
    "print (d['name'])\n"
   ]
  },
  {
   "cell_type": "code",
   "execution_count": 12,
   "metadata": {},
   "outputs": [
    {
     "name": "stdout",
     "output_type": "stream",
     "text": [
      "{'name': 'Gumby', 'age': 42}\n",
      "{'x': 1, 'y': 2}\n"
     ]
    }
   ],
   "source": [
    "\n",
    "d = dict(name='Gumby', age=42)\n",
    "print (d)\n",
    "\n",
    "\n",
    "fdict = dict((['x', 1], ['y', 2]))\n",
    "print (fdict)\n"
   ]
  },
  {
   "cell_type": "code",
   "execution_count": 13,
   "metadata": {},
   "outputs": [
    {
     "name": "stdout",
     "output_type": "stream",
     "text": [
      "{'username': 'mlh', 'machines': ['foo', 'baz']}\n",
      "{'username': 'admin', 'machines': ['foo', 'baz']}\n"
     ]
    }
   ],
   "source": [
    "\n",
    "x = {'username': 'admin', 'machines': ['foo', 'bar', 'baz']}\n",
    "y = x.copy()\n",
    "\n",
    "y['username'] = 'mlh'\n",
    "y['machines'].remove('bar')\n",
    "print (y)\n",
    "print (x)\n"
   ]
  },
  {
   "cell_type": "code",
   "execution_count": 14,
   "metadata": {},
   "outputs": [
    {
     "name": "stdout",
     "output_type": "stream",
     "text": [
      "{}\n",
      "\n",
      "All grades: {'A': 87, 'B': 76, 'C': 92, 'D': 89}\n",
      "87\n",
      "A's new grade: 90\n"
     ]
    }
   ],
   "source": [
    "\n",
    "emptyDictionary = {}\n",
    "print (emptyDictionary)\n",
    "\n",
    "grades = { \"A\": 87, \"B\": 76, \"C\": 92, \"D\": 89 }\n",
    "print (\"\\nAll grades:\", grades)\n",
    "\n",
    "print (grades[ \"A\" ])\n",
    "grades[ \"A\" ] = 90\n",
    "print (\"A's new grade:\", grades[ \"A\" ])"
   ]
  },
  {
   "cell_type": "code",
   "execution_count": 15,
   "metadata": {},
   "outputs": [
    {
     "name": "stdout",
     "output_type": "stream",
     "text": [
      "\n",
      "Dictionary grades after modification:\n",
      "{'A': 90, 'B': 93, 'C': 92, 'D': 89}\n",
      "\n",
      "Dictionary grades after deletion:\n",
      "{'A': 90, 'B': 93, 'D': 89}\n"
     ]
    }
   ],
   "source": [
    "# add to an existing dictionary\n",
    "grades[ \"B\" ] = 93\n",
    "print (\"\\nDictionary grades after modification:\")\n",
    "print (grades)\n",
    "\n",
    "# delete entry from dictionary\n",
    "del grades[ \"C\" ]\n",
    "print (\"\\nDictionary grades after deletion:\")\n",
    "print (grades)\n",
    "\n"
   ]
  },
  {
   "cell_type": "code",
   "execution_count": 16,
   "metadata": {},
   "outputs": [
    {
     "name": "stdout",
     "output_type": "stream",
     "text": [
      "{'server': 'A', 'database': 'master'}\n",
      "{'database': 'master'}\n",
      "{}\n"
     ]
    }
   ],
   "source": [
    "\n",
    "d = {\"server\":\"A\", \"database\":\"master\"}    \n",
    "print (d) \n",
    "del d['server']                                 \n",
    "print (d) \n",
    "d.clear()                                      \n",
    "print (d)\n"
   ]
  },
  {
   "cell_type": "code",
   "execution_count": 17,
   "metadata": {},
   "outputs": [
    {
     "name": "stdout",
     "output_type": "stream",
     "text": [
      "C's phone number is 3.\n",
      "{'name': None, 'age': None}\n",
      "{'name': None, 'age': None}\n",
      "{'name': '(unknown)', 'age': '(unknown)'}\n",
      "(unknown)\n"
     ]
    }
   ],
   "source": [
    "\n",
    "#After the % character, you add a key enclosed in parentheses, which is followed by the other specifier elements: \n",
    "\n",
    "phonebook = {'A': '1', 'B': '2', 'C': '3'}\n",
    "print (\"C's phone number is %(C)s.\" % phonebook)\n",
    "\n",
    "\n",
    "\n",
    "print ({}.fromkeys(['name', 'age']))\n",
    "\n",
    "\n",
    "\n",
    "print (dict.fromkeys(['name', 'age'])) \n",
    "print (dict.fromkeys(['name', 'age'], '(unknown)'))\n",
    "\n",
    "\n",
    "\n",
    "d = dict.fromkeys(['name', 'age'], '(unknown)') \n",
    "print (d.get('name'))"
   ]
  },
  {
   "cell_type": "code",
   "execution_count": 18,
   "metadata": {},
   "outputs": [
    {
     "name": "stdout",
     "output_type": "stream",
     "text": [
      "Eric\n",
      "{'x': -1, 'y': -1}\n",
      "{'foo': None, 'bar': None}\n"
     ]
    }
   ],
   "source": [
    "\n",
    "\n",
    "d = dict.fromkeys(['name', 'age'], '(unknown)') \n",
    "d.get('name', 'N/A') \n",
    "\n",
    "# If the key is there, get works like ordinary dictionary lookup: \n",
    "\n",
    "d = dict.fromkeys(['name', 'age'], '(unknown)') \n",
    "\n",
    "d['name'] = 'Eric' \n",
    "print (d.get('name') )\n",
    "\n",
    "ddict = {}.fromkeys(('x', 'y'), -1)\n",
    "print (ddict)\n",
    "edict = {}.fromkeys(('foo', 'bar'))\n",
    "print (edict)"
   ]
  },
  {
   "cell_type": "code",
   "execution_count": 19,
   "metadata": {},
   "outputs": [
    {
     "name": "stdout",
     "output_type": "stream",
     "text": [
      "2\n",
      "None\n",
      "88\n"
     ]
    }
   ],
   "source": [
    "\n",
    "d2 = {'spam': 2, 'ham': 1, 'eggs': 3}         # Make a dictionary\n",
    "\n",
    "print (d2.get('spam' ))                       # A key that is there\n",
    "print (d2.get('toast') )                          # A key that is missing\n",
    "print (d2.get('toast', 88))\n"
   ]
  },
  {
   "cell_type": "code",
   "execution_count": 20,
   "metadata": {},
   "outputs": [
    {
     "name": "stdout",
     "output_type": "stream",
     "text": [
      "{'A': '1', 'B': '2'}\n",
      "1\n",
      "None\n",
      "no such key\n"
     ]
    }
   ],
   "source": [
    "\n",
    "dict = {'A':'1', 'B':'2' }\n",
    "dict1 = dict.copy()\n",
    "print (dict1)\n",
    "print (dict1.get('A'))\n",
    "print (dict1.get('xxx'))\n",
    "print (dict1.get('xxx', 'no such key'))\n",
    "\n"
   ]
  },
  {
   "cell_type": "code",
   "execution_count": 21,
   "metadata": {},
   "outputs": [
    {
     "name": "stdout",
     "output_type": "stream",
     "text": [
      "False\n",
      "True\n",
      "earth\n"
     ]
    }
   ],
   "source": [
    "\n",
    "dict1 = {'name': 'earth', 'port': 80}\n",
    "print ('server' in dict1)\n",
    "print ('name' in dict1 )\n",
    "print (dict1['name'])\n"
   ]
  },
  {
   "cell_type": "code",
   "execution_count": 22,
   "metadata": {},
   "outputs": [
    {
     "name": "stdout",
     "output_type": "stream",
     "text": [
      "The dictionary items are:\n",
      "dict_items([(1, 'January'), (2, 'February'), (3, 'March'), (4, 'April'), (5, 'May'), (6, 'June'), (7, 'July'), (8, 'August'), (9, 'September'), (10, 'October'), (11, 'November'), (12, 'December')])\n",
      "\n",
      "The dictionary keys are:\n",
      "dict_keys([1, 2, 3, 4, 5, 6, 7, 8, 9, 10, 11, 12])\n",
      "\n",
      "The dictionary values are:\n",
      "dict_values(['January', 'February', 'March', 'April', 'May', 'June', 'July', 'August', 'September', 'October', 'November', 'December'])\n",
      "\n",
      "Using a for loop to get dictionary items:\n",
      "monthsDictionary[ 1 ] = January\n",
      "monthsDictionary[ 2 ] = February\n",
      "monthsDictionary[ 3 ] = March\n",
      "monthsDictionary[ 4 ] = April\n",
      "monthsDictionary[ 5 ] = May\n",
      "monthsDictionary[ 6 ] = June\n",
      "monthsDictionary[ 7 ] = July\n",
      "monthsDictionary[ 8 ] = August\n",
      "monthsDictionary[ 9 ] = September\n",
      "monthsDictionary[ 10 ] = October\n",
      "monthsDictionary[ 11 ] = November\n",
      "monthsDictionary[ 12 ] = December\n"
     ]
    }
   ],
   "source": [
    "\n",
    "\n",
    "monthsDictionary = { 1 : \"January\", 2 : \"February\", 3 : \"March\",\n",
    "                     4 : \"April\", 5 : \"May\", 6 : \"June\", 7 : \"July\",\n",
    "                     8 : \"August\", 9 : \"September\", 10 : \"October\",\n",
    "                     11 : \"November\", 12 : \"December\" }\n",
    "\n",
    "print (\"The dictionary items are:\")\n",
    "print (monthsDictionary.items())\n",
    "\n",
    "print (\"\\nThe dictionary keys are:\")\n",
    "print (monthsDictionary.keys())\n",
    "\n",
    "print (\"\\nThe dictionary values are:\")\n",
    "print( monthsDictionary.values())\n",
    "\n",
    "print (\"\\nUsing a for loop to get dictionary items:\")\n",
    "\n",
    "for key in monthsDictionary.keys():\n",
    "   print (\"monthsDictionary[\", key, \"] =\", monthsDictionary[ key ])\n",
    "   \n",
    "    "
   ]
  },
  {
   "cell_type": "code",
   "execution_count": 23,
   "metadata": {},
   "outputs": [
    {
     "name": "stdout",
     "output_type": "stream",
     "text": [
      "42\n",
      "7\n"
     ]
    }
   ],
   "source": [
    "\n",
    "d = { 'x':42, 'y':3.14, 'z':7 }\n",
    "print( d['x']   )                        # 42\n",
    "print (d['z']    )                       # 7\n",
    "#print (d['a'])                           # raises KeyError exception\n"
   ]
  },
  {
   "cell_type": "code",
   "execution_count": 24,
   "metadata": {},
   "outputs": [
    {
     "name": "stdout",
     "output_type": "stream",
     "text": [
      "Key = fast\n"
     ]
    }
   ],
   "source": [
    "\n",
    "validkeys = (1,2,3)\n",
    "keyGenDict={'keys':[1,2,3],1:'blue',2:'fast',3:'test','key':2}\n",
    "\n",
    "def show_key (key):\n",
    "    if(key in validkeys):\n",
    "        keyVal = (keyGenDict[\"keys\"])[key-1]\n",
    "        print (\"Key = \" + keyGenDict[keyVal])\n",
    "    else:\n",
    "        print(\"Invalid key\")\n",
    "\n",
    "val = keyGenDict[\"key\"]\n",
    "show_key(val)\n"
   ]
  },
  {
   "cell_type": "code",
   "execution_count": 25,
   "metadata": {},
   "outputs": [
    {
     "name": "stdout",
     "output_type": "stream",
     "text": [
      "{'A': 'a', 'B': 'b'}\n",
      "{'A': 'a', 'B': 'b', 'database': 'pubs'}\n",
      "{'A': 'a', 'B': 'b', 'database': 'pubs', 'uid': 'sa'}\n"
     ]
    }
   ],
   "source": [
    "\n",
    "\n",
    "d = {\"A\":\"a\", \"B\":\"b\"}    \n",
    "print( d )\n",
    "d[\"database\"] = \"pubs\"                    \n",
    "print (d) \n",
    "d[\"uid\"] = \"sa\"                                \n",
    "print (d)\n"
   ]
  },
  {
   "cell_type": "code",
   "execution_count": 26,
   "metadata": {},
   "outputs": [
    {
     "name": "stdout",
     "output_type": "stream",
     "text": [
      "key=name, value=earth\n",
      "key=port, value=80\n",
      "host earth is running on port 80\n"
     ]
    }
   ],
   "source": [
    "\n",
    "dict2 = {'name': 'earth', 'port': 80}\n",
    "\n",
    "for key in dict2.keys():\n",
    "     print ('key=%s, value=%s' % (key, dict2[key]))\n",
    "\n",
    "\n",
    "\n",
    "\n",
    "dict2 = {'name': 'earth', 'port': 80}\n",
    "\n",
    "dict2['name']\n",
    "print ('host %s is running on port %d' % (dict2['name'], dict2['port']))\n",
    "\n",
    "\n",
    "\n"
   ]
  },
  {
   "cell_type": "code",
   "execution_count": 27,
   "metadata": {},
   "outputs": [
    {
     "name": "stdout",
     "output_type": "stream",
     "text": [
      "{1: 'abc', '1': 3.14159, 3.2: 'xyz'}\n"
     ]
    }
   ],
   "source": [
    "\n",
    "dict3 = {}\n",
    "dict3[1] = 'abc'\n",
    "dict3['1'] = 3.14159\n",
    "dict3[3.2] = 'xyz'\n",
    "print (dict3)\n"
   ]
  },
  {
   "cell_type": "code",
   "execution_count": 28,
   "metadata": {},
   "outputs": [
    {
     "name": "stdout",
     "output_type": "stream",
     "text": [
      "dict_values([[1, 2, 3], 'blue', 'fast', 'test', 2])\n",
      "dict_items([('title', 'Python Web Site'), ('url', 'http://www.python.org'), ('spam', 0)])\n",
      "{'x': None, 'y': None, 'z': None}\n",
      "{'love': True, 'honor': True}\n"
     ]
    }
   ],
   "source": [
    "\n",
    "keyGenDict={'keys':[1,2,3],1:'blue',2:'fast',3:'test','key':2}\n",
    "\n",
    "print (keyGenDict.values())\n",
    "\n",
    "\n",
    "\n",
    "\n",
    "\n",
    "d = {'title': 'Python Web Site', 'url': 'http://www.python.org', 'spam': 0}\n",
    "print (d.items())\n",
    "\n",
    "\n",
    "\n",
    "print ({}.fromkeys('xyz'))\n",
    "print ({}.fromkeys(('love', 'honor'), True))\n"
   ]
  },
  {
   "cell_type": "code",
   "execution_count": 29,
   "metadata": {},
   "outputs": [
    {
     "name": "stdout",
     "output_type": "stream",
     "text": [
      "{' foo': 789, 'foo': 'xyz'}\n",
      "{' foo': 789, 'foo': 123}\n",
      "dict_values([1, 2, 3, 1])\n"
     ]
    }
   ],
   "source": [
    "# More Than One Entry per Key Not Allowed\n",
    "\n",
    "dict1 = {' foo':789, 'foo': 'xyz'}\n",
    "print (dict1)\n",
    "dict1['foo'] = 123\n",
    "print (dict1)\n",
    "\n",
    "\n",
    "\n",
    "d = {} \n",
    "d[1] = 1 \n",
    "d[2] = 2 \n",
    "d[3] = 3 \n",
    "d[4] = 1 \n",
    "print (d.values())\n"
   ]
  },
  {
   "cell_type": "code",
   "execution_count": 31,
   "metadata": {},
   "outputs": [
    {
     "name": "stdout",
     "output_type": "stream",
     "text": [
      "dict_keys(['A', 'B', 'C', 'D'])\n",
      "dict_values(['a', 'b', 'c', 'd'])\n",
      "dict_items([('A', 'a'), ('B', 'b'), ('C', 'c'), ('D', 'd')])\n"
     ]
    }
   ],
   "source": [
    "\n",
    "params = {\"A\":\"a\", \"B\":\"b\", \"C\":\"c\", \"D\":\"d\"} \n",
    "print (params.keys())                             \n",
    "print (params.values())                                \n",
    "print (params.items())\n",
    "\n"
   ]
  },
  {
   "cell_type": "code",
   "execution_count": 34,
   "metadata": {},
   "outputs": [
    {
     "name": "stdout",
     "output_type": "stream",
     "text": [
      "{'A': 'a', 'B': 'b'}\n",
      "{'A': 'a', 'B': 'b', 'retrycount': 3}\n",
      "{'A': 'a', 'B': 'b', 'retrycount': 3, 42: 'douglas'}\n"
     ]
    }
   ],
   "source": [
    "\n",
    "d = {\"A\":\"a\", \"B\":\"b\"}    \n",
    "print (d) \n",
    "d[\"retrycount\"] = 3                       \n",
    "print (d)\n",
    "d[42] = \"douglas\"                              \n",
    "print (d)\n",
    "\n"
   ]
  },
  {
   "cell_type": "code",
   "execution_count": 35,
   "metadata": {},
   "outputs": [
    {
     "name": "stdout",
     "output_type": "stream",
     "text": [
      "{'key': 'other value'}\n",
      "{'key': 'other value', 'Key': 'i'}\n"
     ]
    }
   ],
   "source": [
    "\n",
    "d = {} \n",
    "d[\"key\"] = \"value\" \n",
    "d[\"key\"] = \"other value\"\n",
    "print (d) \n",
    "d[\"Key\"] = \"third value\" [2] \n",
    "print (d)\n",
    "\n"
   ]
  },
  {
   "cell_type": "code",
   "execution_count": 37,
   "metadata": {},
   "outputs": [
    {
     "name": "stdout",
     "output_type": "stream",
     "text": [
      "dict_keys(['A', 'B'])\n",
      "dict_values(['1', '2'])\n",
      "dict_items([('A', '1'), ('B', '2')])\n",
      "dict1 key A has value 1\n",
      "dict1 key B has value 2\n"
     ]
    }
   ],
   "source": [
    "\n",
    "\n",
    "#values() returns a list of the dictionary's values\n",
    "#items() returns a list of (key, value) tuple pairs. \n",
    "\n",
    "dict1 = {'A':'1', 'B':'2' }\n",
    "print (dict1.keys())\n",
    "print (dict1.values())\n",
    "print (dict1.items())\n",
    "\n",
    "for eachKey in dict1.keys():\n",
    "   print ('dict1 key', eachKey, 'has value', dict1[eachKey])\n",
    "   "
   ]
  },
  {
   "cell_type": "code",
   "execution_count": 41,
   "metadata": {},
   "outputs": [
    {
     "name": "stdout",
     "output_type": "stream",
     "text": [
      "dict_keys(['keys', 1, 2, 3, 'key'])\n",
      "dict_values([[1, 2, 3], 'blue', 'fast', 'test', 2])\n"
     ]
    }
   ],
   "source": [
    "\n",
    "   \n",
    "keyGenDict={'keys':[1,2,3],1:'blue',2:'fast',3:'test','key':2}\n",
    "\n",
    "\n",
    "print (keyGenDict.keys())\n",
    "\n",
    "\n",
    "\n",
    "\n",
    "keyGenDict={'keys':[1,2,3],1:'blue',2:'fast',3:'test','key':2}\n",
    "\n",
    "print (keyGenDict.values())\n",
    "\n",
    "\n",
    "year = {1:'January', 2:'February', 3:'March',\n",
    "        4:'April',5:'May', 6:'June', 7:'July', 8:'August',\n",
    "        9:'September', 10:'October', 11:'November',12:'December'}\n",
    "\n",
    "\n",
    "months = year.keys()\n",
    "\n",
    "\n",
    "\n",
    "\n",
    "year = {1:'January', 2:'February', 3:'March',\n",
    "        4:'April',5:'May', 6:'June', 7:'July', 8:'August',\n",
    "        9:'September', 10:'October', 11:'November',12:'December'}\n",
    "\n",
    "\n",
    "months = year.keys()\n",
    "\n",
    "halfCount = len(months)/2\n",
    "\n"
   ]
  },
  {
   "cell_type": "code",
   "execution_count": 42,
   "metadata": {},
   "outputs": [
    {
     "name": "stdout",
     "output_type": "stream",
     "text": [
      "{'name': 'earth', 'port': 80}\n",
      "2\n",
      "key=name, value=earth\n",
      "key=port, value=80\n",
      "True\n",
      "False\n"
     ]
    }
   ],
   "source": [
    "dict2 = {'name': 'earth', 'port': 80}\n",
    "print (dict2)\n",
    "print (len(dict2))\n",
    "\n",
    "\n",
    "dict2 = {'name': 'earth', 'port': 80}\n",
    "\n",
    "for key in dict2:\n",
    "     print ('key=%s, value=%s' % (key, dict2[key]))\n",
    "     \n",
    "     \n",
    "     \n",
    "     dict2 = {'name': 'earth', 'port': 80}\n",
    "print ('name' in dict2)\n",
    "print ('phone' in dict2)\n"
   ]
  },
  {
   "cell_type": "code",
   "execution_count": 43,
   "metadata": {},
   "outputs": [
    {
     "name": "stdout",
     "output_type": "stream",
     "text": [
      "ALLUSERSPROFILE=C:\\ProgramData\n",
      "APPDATA=C:\\Users\\VishwanathRao\\AppData\\Roaming\n",
      "COMMONPROGRAMFILES=C:\\Program Files\\Common Files\n",
      "COMMONPROGRAMFILES(X86)=C:\\Program Files (x86)\\Common Files\n",
      "COMMONPROGRAMW6432=C:\\Program Files\\Common Files\n",
      "COMPUTERNAME=DESKTOP-LEDRKV5\n",
      "COMSPEC=C:\\WINDOWS\\system32\\cmd.exe\n",
      "CONDA_DEFAULT_ENV=base\n",
      "CONDA_EXE=C:\\SOFTWARES\\ANACONDA3\\Scripts\\conda.exe\n",
      "CONDA_PROMPT_MODIFIER=(base) \n",
      "CONDA_PYTHON_EXE=C:\\SOFTWARES\\ANACONDA3\\python.exe\n",
      "CONDA_ROOT=C:\\SOFTWARES\\ANACONDA3\n",
      "CONDA_SHLVL=1\n",
      "DRIVERDATA=C:\\Windows\\System32\\Drivers\\DriverData\n",
      "HOMEDRIVE=C:\n",
      "HOMEPATH=\\Users\\VishwanathRao\n",
      "LOCALAPPDATA=C:\\Users\\VishwanathRao\\AppData\\Local\n",
      "LOGONSERVER=\\\\DESKTOP-LEDRKV5\n",
      "NUMBER_OF_PROCESSORS=4\n",
      "ONEDRIVE=C:\\Users\\VishwanathRao\\OneDrive\n",
      "OS=Windows_NT\n",
      "PATH=C:\\SOFTWARES\\ANACONDA3;C:\\SOFTWARES\\ANACONDA3\\Library\\mingw-w64\\bin;C:\\SOFTWARES\\ANACONDA3\\Library\\usr\\bin;C:\\SOFTWARES\\ANACONDA3\\Library\\bin;C:\\SOFTWARES\\ANACONDA3\\Scripts;C:\\SOFTWARES\\ANACONDA3\\bin;C:\\SOFTWARES\\ANACONDA3;C:\\SOFTWARES\\ANACONDA3\\Library\\mingw-w64\\bin;C:\\SOFTWARES\\ANACONDA3\\Library\\usr\\bin;C:\\SOFTWARES\\ANACONDA3\\Library\\bin;C:\\SOFTWARES\\ANACONDA3\\Scripts;C:\\Program Files (x86)\\Common Files\\Oracle\\Java\\javapath;C:\\WINDOWS\\system32;C:\\WINDOWS;C:\\WINDOWS\\System32\\Wbem;C:\\WINDOWS\\System32\\WindowsPowerShell\\v1.0\\;C:\\WINDOWS\\System32\\OpenSSH\\;C:\\Users\\VishwanathRao\\AppData\\Local\\Microsoft\\WindowsApps;;C:\\Users\\VishwanathRao\\AppData\\Local\\Programs\\Microsoft VS Code\\bin\n",
      "PATHEXT=.COM;.EXE;.BAT;.CMD;.VBS;.VBE;.JS;.JSE;.WSF;.WSH;.MSC\n",
      "PROCESSOR_ARCHITECTURE=AMD64\n",
      "PROCESSOR_IDENTIFIER=Intel64 Family 6 Model 58 Stepping 9, GenuineIntel\n",
      "PROCESSOR_LEVEL=6\n",
      "PROCESSOR_REVISION=3a09\n",
      "PROGRAMDATA=C:\\ProgramData\n",
      "PROGRAMFILES=C:\\Program Files\n",
      "PROGRAMFILES(X86)=C:\\Program Files (x86)\n",
      "PROGRAMW6432=C:\\Program Files\n",
      "PROMPT=(base) $P$G\n",
      "PSMODULEPATH=C:\\Program Files\\WindowsPowerShell\\Modules;C:\\WINDOWS\\system32\\WindowsPowerShell\\v1.0\\Modules\n",
      "PUBLIC=C:\\Users\\Public\n",
      "PYTHONIOENCODING=1252\n",
      "SESSIONNAME=Console\n",
      "SYSTEMDRIVE=C:\n",
      "SYSTEMROOT=C:\\WINDOWS\n",
      "TEMP=C:\\Users\\VISHWA~1\\AppData\\Local\\Temp\n",
      "TMP=C:\\Users\\VISHWA~1\\AppData\\Local\\Temp\n",
      "USERDOMAIN=DESKTOP-LEDRKV5\n",
      "USERDOMAIN_ROAMINGPROFILE=DESKTOP-LEDRKV5\n",
      "USERNAME=VishwanathRao\n",
      "USERPROFILE=C:\\Users\\VishwanathRao\n",
      "VBOX_MSI_INSTALL_PATH=C:\\Program Files\\Oracle\\VirtualBox\\\n",
      "WINDIR=C:\\WINDOWS\n",
      "CONDA_PREFIX=C:\\SOFTWARES\\ANACONDA3\n",
      "JPY_INTERRUPT_EVENT=2844\n",
      "IPY_INTERRUPT_EVENT=2844\n",
      "JPY_PARENT_PID=3068\n",
      "TERM=xterm-color\n",
      "CLICOLOR=1\n",
      "PAGER=cat\n",
      "GIT_PAGER=cat\n",
      "MPLBACKEND=module://ipykernel.pylab.backend_inline\n",
      "ALLUSERSPROFILE=C:\\ProgramData\n",
      "APPDATA=C:\\Users\\VishwanathRao\\AppData\\Roaming\n",
      "COMMONPROGRAMFILES=C:\\Program Files\\Common Files\n",
      "COMMONPROGRAMFILES(X86)=C:\\Program Files (x86)\\Common Files\n",
      "COMMONPROGRAMW6432=C:\\Program Files\\Common Files\n",
      "COMPUTERNAME=DESKTOP-LEDRKV5\n",
      "COMSPEC=C:\\WINDOWS\\system32\\cmd.exe\n",
      "CONDA_DEFAULT_ENV=base\n",
      "CONDA_EXE=C:\\SOFTWARES\\ANACONDA3\\Scripts\\conda.exe\n",
      "CONDA_PROMPT_MODIFIER=(base) \n",
      "CONDA_PYTHON_EXE=C:\\SOFTWARES\\ANACONDA3\\python.exe\n",
      "CONDA_ROOT=C:\\SOFTWARES\\ANACONDA3\n",
      "CONDA_SHLVL=1\n",
      "DRIVERDATA=C:\\Windows\\System32\\Drivers\\DriverData\n",
      "HOMEDRIVE=C:\n",
      "HOMEPATH=\\Users\\VishwanathRao\n",
      "LOCALAPPDATA=C:\\Users\\VishwanathRao\\AppData\\Local\n",
      "LOGONSERVER=\\\\DESKTOP-LEDRKV5\n",
      "NUMBER_OF_PROCESSORS=4\n",
      "ONEDRIVE=C:\\Users\\VishwanathRao\\OneDrive\n",
      "OS=Windows_NT\n",
      "PATH=C:\\SOFTWARES\\ANACONDA3;C:\\SOFTWARES\\ANACONDA3\\Library\\mingw-w64\\bin;C:\\SOFTWARES\\ANACONDA3\\Library\\usr\\bin;C:\\SOFTWARES\\ANACONDA3\\Library\\bin;C:\\SOFTWARES\\ANACONDA3\\Scripts;C:\\SOFTWARES\\ANACONDA3\\bin;C:\\SOFTWARES\\ANACONDA3;C:\\SOFTWARES\\ANACONDA3\\Library\\mingw-w64\\bin;C:\\SOFTWARES\\ANACONDA3\\Library\\usr\\bin;C:\\SOFTWARES\\ANACONDA3\\Library\\bin;C:\\SOFTWARES\\ANACONDA3\\Scripts;C:\\Program Files (x86)\\Common Files\\Oracle\\Java\\javapath;C:\\WINDOWS\\system32;C:\\WINDOWS;C:\\WINDOWS\\System32\\Wbem;C:\\WINDOWS\\System32\\WindowsPowerShell\\v1.0\\;C:\\WINDOWS\\System32\\OpenSSH\\;C:\\Users\\VishwanathRao\\AppData\\Local\\Microsoft\\WindowsApps;;C:\\Users\\VishwanathRao\\AppData\\Local\\Programs\\Microsoft VS Code\\bin\n",
      "PATHEXT=.COM;.EXE;.BAT;.CMD;.VBS;.VBE;.JS;.JSE;.WSF;.WSH;.MSC\n",
      "PROCESSOR_ARCHITECTURE=AMD64\n",
      "PROCESSOR_IDENTIFIER=Intel64 Family 6 Model 58 Stepping 9, GenuineIntel\n",
      "PROCESSOR_LEVEL=6\n",
      "PROCESSOR_REVISION=3a09\n",
      "PROGRAMDATA=C:\\ProgramData\n",
      "PROGRAMFILES=C:\\Program Files\n",
      "PROGRAMFILES(X86)=C:\\Program Files (x86)\n",
      "PROGRAMW6432=C:\\Program Files\n",
      "PROMPT=(base) $P$G\n",
      "PSMODULEPATH=C:\\Program Files\\WindowsPowerShell\\Modules;C:\\WINDOWS\\system32\\WindowsPowerShell\\v1.0\\Modules\n",
      "PUBLIC=C:\\Users\\Public\n",
      "PYTHONIOENCODING=1252\n",
      "SESSIONNAME=Console\n",
      "SYSTEMDRIVE=C:\n",
      "SYSTEMROOT=C:\\WINDOWS\n",
      "TEMP=C:\\Users\\VISHWA~1\\AppData\\Local\\Temp\n",
      "TMP=C:\\Users\\VISHWA~1\\AppData\\Local\\Temp\n",
      "USERDOMAIN=DESKTOP-LEDRKV5\n",
      "USERDOMAIN_ROAMINGPROFILE=DESKTOP-LEDRKV5\n",
      "USERNAME=VishwanathRao\n",
      "USERPROFILE=C:\\Users\\VishwanathRao\n",
      "VBOX_MSI_INSTALL_PATH=C:\\Program Files\\Oracle\\VirtualBox\\\n",
      "WINDIR=C:\\WINDOWS\n",
      "CONDA_PREFIX=C:\\SOFTWARES\\ANACONDA3\n",
      "JPY_INTERRUPT_EVENT=2844\n",
      "IPY_INTERRUPT_EVENT=2844\n",
      "JPY_PARENT_PID=3068\n",
      "TERM=xterm-color\n",
      "CLICOLOR=1\n",
      "PAGER=cat\n",
      "GIT_PAGER=cat\n",
      "MPLBACKEND=module://ipykernel.pylab.backend_inline\n"
     ]
    }
   ],
   "source": [
    "\n",
    "import os \n",
    "for k, v in os.environ.items(): \n",
    "    print (\"%s=%s\" % (k, v)) \n",
    "\n",
    "\n",
    "print( \"\\n\".join([\"%s=%s\" % (k, v) for k, v in os.environ.items()]))"
   ]
  },
  {
   "cell_type": "code",
   "execution_count": 44,
   "metadata": {},
   "outputs": [],
   "source": [
    "\n",
    "dict2 = {'name': 'earth', 'port': 80}\n",
    "del dict2['name']       # remove entry with key 'name'\n",
    "dict2.clear()           # remove all entries in dict1\n",
    "del dict2               # delete entire dictionary\n",
    "\n"
   ]
  },
  {
   "cell_type": "code",
   "execution_count": 45,
   "metadata": {},
   "outputs": [
    {
     "name": "stdout",
     "output_type": "stream",
     "text": [
      "{'y': 2}\n",
      "{'url': 'http://www.python.org', 'spam': 0}\n",
      "dict_keys(['host', 'port'])\n",
      "dict_items([('host', 'earth'), ('port', 80)])\n",
      "80\n",
      "tcp\n",
      "dict_items([('host', 'earth'), ('port', 80), ('prot', 'tcp')])\n"
     ]
    }
   ],
   "source": [
    "\n",
    "d = {'x': 1, 'y': 2}\n",
    "d.pop('x')\n",
    "print (d)\n",
    "\n",
    "\n",
    "\n",
    "d = {'url': 'http://www.python.org', 'spam': 0, 'title': 'Python Web Site'}\n",
    "d.popitem()\n",
    "print (d)\n",
    "\n",
    "\n",
    "\n",
    "myDict = {'host': 'earth', 'port': 80}\n",
    "print (myDict.keys())\n",
    "print (myDict.items())\n",
    "print (myDict.setdefault('port', 8080))\n",
    "print (myDict.setdefault('prot', 'tcp'))\n",
    "print (myDict.items())\n"
   ]
  },
  {
   "cell_type": "code",
   "execution_count": 46,
   "metadata": {},
   "outputs": [
    {
     "name": "stdout",
     "output_type": "stream",
     "text": [
      "{'name': 'Gumby'}\n"
     ]
    }
   ],
   "source": [
    "\n",
    "# when the key is missing, setdefault returns the default and updates the dictionary accordingly. \n",
    "\n",
    "\n",
    "d = {}\n",
    "d.setdefault('name', 'N/A')\n",
    "d['name'] = 'Gumby'\n",
    "d.setdefault('name', 'N/A')\n",
    "print (d)\n",
    "\n"
   ]
  },
  {
   "cell_type": "code",
   "execution_count": 47,
   "metadata": {},
   "outputs": [
    {
     "name": "stdout",
     "output_type": "stream",
     "text": [
      "dict2 key A has value\n",
      "dict2 key B has value\n"
     ]
    }
   ],
   "source": [
    "\n",
    "dict2 = {'A':'1', 'B':'2' }\n",
    "for eachKey in sorted(dict2):\n",
    "     print ('dict2 key', eachKey, 'has value',)\n",
    "\n",
    "\n"
   ]
  },
  {
   "cell_type": "code",
   "execution_count": 48,
   "metadata": {},
   "outputs": [
    {
     "name": "stdout",
     "output_type": "stream",
     "text": [
      "{'host': 'venus', 'port': 80, 'server': 'http'}\n",
      "{}\n",
      "{'title': 'Personal Site', 'url': 'http://brvishwanath.blogspot.sg', 'changed': 'Mar 14 22:09:15 MET 2018'}\n"
     ]
    }
   ],
   "source": [
    "\n",
    "dict2= {'host':'earth', 'port':80}\n",
    "dict3= {'host':'venus', 'server':'http'}\n",
    "dict2.update(dict3)\n",
    "print (dict2)\n",
    "dict3.clear()\n",
    "print (dict3)\n",
    "\n",
    "\n",
    "\n",
    "d = { \n",
    "'title': 'Vishwanath Rao Blog', \n",
    "'url': 'http://brvishwanath.blogspot.sg', \n",
    "'changed': 'Mar 14 22:09:15 MET 2018'\n",
    "\n",
    " } \n",
    "x = {'title': 'Personal Site'} \n",
    "d.update(x) \n",
    "print (d)\n"
   ]
  },
  {
   "cell_type": "code",
   "execution_count": 49,
   "metadata": {},
   "outputs": [
    {
     "name": "stdout",
     "output_type": "stream",
     "text": [
      "dict['Name']:  Zara\n",
      "dict['Age']:  7\n"
     ]
    },
    {
     "ename": "KeyError",
     "evalue": "'Alice'",
     "output_type": "error",
     "traceback": [
      "\u001b[1;31m---------------------------------------------------------------------------\u001b[0m",
      "\u001b[1;31mKeyError\u001b[0m                                  Traceback (most recent call last)",
      "\u001b[1;32m<ipython-input-49-ffdac19e3d5f>\u001b[0m in \u001b[0;36m<module>\u001b[1;34m()\u001b[0m\n\u001b[0;32m      9\u001b[0m \u001b[1;33m\u001b[0m\u001b[0m\n\u001b[0;32m     10\u001b[0m \u001b[0mdict\u001b[0m \u001b[1;33m=\u001b[0m \u001b[1;33m{\u001b[0m\u001b[1;34m'Name'\u001b[0m\u001b[1;33m:\u001b[0m \u001b[1;34m'Zara'\u001b[0m\u001b[1;33m,\u001b[0m \u001b[1;34m'Age'\u001b[0m\u001b[1;33m:\u001b[0m \u001b[1;36m7\u001b[0m\u001b[1;33m,\u001b[0m \u001b[1;34m'Class'\u001b[0m\u001b[1;33m:\u001b[0m \u001b[1;34m'First'\u001b[0m\u001b[1;33m}\u001b[0m\u001b[1;33m;\u001b[0m\u001b[1;33m\u001b[0m\u001b[0m\n\u001b[1;32m---> 11\u001b[1;33m \u001b[0mprint\u001b[0m \u001b[1;33m(\u001b[0m\u001b[1;34m\"dict['Alice']: \"\u001b[0m\u001b[1;33m,\u001b[0m \u001b[0mdict\u001b[0m\u001b[1;33m[\u001b[0m\u001b[1;34m'Alice'\u001b[0m\u001b[1;33m]\u001b[0m\u001b[1;33m)\u001b[0m\u001b[1;33m\u001b[0m\u001b[0m\n\u001b[0m",
      "\u001b[1;31mKeyError\u001b[0m: 'Alice'"
     ]
    }
   ],
   "source": [
    "\n",
    "\n",
    "dict = {'Name': 'Zara', 'Age': 7, 'Class': 'First'}\n",
    "print (\"dict['Name']: \", dict['Name'])\n",
    "print (\"dict['Age']: \", dict['Age'])\n",
    "\n",
    "\n",
    "\n",
    "\n",
    "dict = {'Name': 'Zara', 'Age': 7, 'Class': 'First'};\n",
    "print (\"dict['Alice']: \", dict['Alice'])"
   ]
  },
  {
   "cell_type": "code",
   "execution_count": 50,
   "metadata": {},
   "outputs": [
    {
     "name": "stdout",
     "output_type": "stream",
     "text": [
      "dict['Age']:  8\n",
      "dict['School']:  DPS School\n"
     ]
    }
   ],
   "source": [
    "\n",
    "dict = {'Name': 'Zara', 'Age': 7, 'Class': 'First'}\n",
    "dict['Age'] = 8; # update existing entry\n",
    "dict['School'] = \"DPS School\" # Add new entry\n",
    "\n",
    "print (\"dict['Age']: \", dict['Age'])\n",
    "print (\"dict['School']: \", dict['School'])\n"
   ]
  },
  {
   "cell_type": "code",
   "execution_count": 52,
   "metadata": {},
   "outputs": [
    {
     "name": "stdout",
     "output_type": "stream",
     "text": [
      "dict['Name']:  Manni\n"
     ]
    }
   ],
   "source": [
    "\n",
    "\n",
    "dict = {'Name': 'Zara', 'Age': 7, 'Name': 'Manni'}\n",
    "print (\"dict['Name']: \", dict['Name'])\n",
    "\n",
    "\n"
   ]
  },
  {
   "cell_type": "code",
   "execution_count": 54,
   "metadata": {},
   "outputs": [
    {
     "name": "stdout",
     "output_type": "stream",
     "text": [
      "{1: {'name': 'John', 'age': '27', 'sex': 'Male'}, 2: {'name': 'Marie', 'age': '22', 'sex': 'Female'}}\n"
     ]
    }
   ],
   "source": [
    "#NESTED DICTIONARY\n",
    "\n",
    "\n",
    "people = {1: {'name': 'John', 'age': '27', 'sex': 'Male'},\n",
    "          2: {'name': 'Marie', 'age': '22', 'sex': 'Female'}}\n",
    "\n",
    "print(people)\n"
   ]
  },
  {
   "cell_type": "code",
   "execution_count": 55,
   "metadata": {},
   "outputs": [
    {
     "name": "stdout",
     "output_type": "stream",
     "text": [
      "John\n",
      "27\n",
      "Male\n"
     ]
    }
   ],
   "source": [
    "\n",
    "people = {1: {'name': 'John', 'age': '27', 'sex': 'Male'},\n",
    "          2: {'name': 'Marie', 'age': '22', 'sex': 'Female'}}\n",
    "\n",
    "print(people[1]['name'])\n",
    "print(people[1]['age'])\n",
    "print(people[1]['sex'])\n"
   ]
  },
  {
   "cell_type": "code",
   "execution_count": 56,
   "metadata": {},
   "outputs": [
    {
     "name": "stdout",
     "output_type": "stream",
     "text": [
      "{'name': 'Luna', 'age': '24', 'sex': 'Female', 'married': 'No'}\n"
     ]
    }
   ],
   "source": [
    "\n",
    "people = {1: {'name': 'John', 'age': '27', 'sex': 'Male'},\n",
    "          2: {'name': 'Marie', 'age': '22', 'sex': 'Female'}}\n",
    "\n",
    "people[3] = {}\n",
    "\n",
    "people[3]['name'] = 'Luna'\n",
    "people[3]['age'] = '24'\n",
    "people[3]['sex'] = 'Female'\n",
    "people[3]['married'] = 'No'\n",
    "\n",
    "print(people[3])"
   ]
  },
  {
   "cell_type": "code",
   "execution_count": 57,
   "metadata": {},
   "outputs": [
    {
     "name": "stdout",
     "output_type": "stream",
     "text": [
      "{'name': 'Peter', 'age': '29', 'sex': 'Male', 'married': 'Yes'}\n"
     ]
    }
   ],
   "source": [
    "\n",
    "people = {1: {'name': 'John', 'age': '27', 'sex': 'Male'},\n",
    "          2: {'name': 'Marie', 'age': '22', 'sex': 'Female'},\n",
    "          3: {'name': 'Luna', 'age': '24', 'sex': 'Female', 'married': 'No'}}\n",
    "\n",
    "people[4] = {'name': 'Peter', 'age': '29', 'sex': 'Male', 'married': 'Yes'}\n",
    "print(people[4])\n",
    "\n"
   ]
  },
  {
   "cell_type": "code",
   "execution_count": 58,
   "metadata": {},
   "outputs": [
    {
     "name": "stdout",
     "output_type": "stream",
     "text": [
      "{'name': 'Luna', 'age': '24', 'sex': 'Female'}\n",
      "{'name': 'Peter', 'age': '29', 'sex': 'Male'}\n"
     ]
    }
   ],
   "source": [
    "\n",
    "\n",
    "people = {1: {'name': 'John', 'age': '27', 'sex': 'Male'},\n",
    "          2: {'name': 'Marie', 'age': '22', 'sex': 'Female'},\n",
    "          3: {'name': 'Luna', 'age': '24', 'sex': 'Female', 'married': 'No'},\n",
    "          4: {'name': 'Peter', 'age': '29', 'sex': 'Male', 'married': 'Yes'}}\n",
    "\n",
    "del people[3]['married']\n",
    "del people[4]['married']\n",
    "\n",
    "print(people[3])\n",
    "print(people[4])\n"
   ]
  },
  {
   "cell_type": "code",
   "execution_count": 59,
   "metadata": {},
   "outputs": [
    {
     "name": "stdout",
     "output_type": "stream",
     "text": [
      "{1: {'name': 'John', 'age': '27', 'sex': 'Male'}, 2: {'name': 'Marie', 'age': '22', 'sex': 'Female'}}\n"
     ]
    }
   ],
   "source": [
    "\n",
    "\n",
    "people = {1: {'name': 'John', 'age': '27', 'sex': 'Male'},\n",
    "          2: {'name': 'Marie', 'age': '22', 'sex': 'Female'},\n",
    "          3: {'name': 'Luna', 'age': '24', 'sex': 'Female'},\n",
    "          4: {'name': 'Peter', 'age': '29', 'sex': 'Male'}}\n",
    "\n",
    "del people[3], people[4]\n",
    "print(people)\n",
    "\n"
   ]
  },
  {
   "cell_type": "code",
   "execution_count": 60,
   "metadata": {},
   "outputs": [
    {
     "name": "stdout",
     "output_type": "stream",
     "text": [
      "\n",
      "Person ID: 1\n",
      "Name: John\n",
      "Age: 27\n",
      "Sex: Male\n",
      "\n",
      "Person ID: 2\n",
      "Name: Marie\n",
      "Age: 22\n",
      "Sex: Female\n"
     ]
    }
   ],
   "source": [
    "\n",
    "people = {1: {'Name': 'John', 'Age': '27', 'Sex': 'Male'},\n",
    "          2: {'Name': 'Marie', 'Age': '22', 'Sex': 'Female'}}\n",
    "\n",
    "for p_id, p_info in people.items():\n",
    "    print(\"\\nPerson ID:\", p_id)\n",
    "    \n",
    "    for key in p_info:\n",
    "        print(key + ':', p_info[key])\n",
    "        \n",
    "        "
   ]
  },
  {
   "cell_type": "code",
   "execution_count": null,
   "metadata": {},
   "outputs": [],
   "source": []
  }
 ],
 "metadata": {
  "kernelspec": {
   "display_name": "Python 3",
   "language": "python",
   "name": "python3"
  },
  "language_info": {
   "codemirror_mode": {
    "name": "ipython",
    "version": 3
   },
   "file_extension": ".py",
   "mimetype": "text/x-python",
   "name": "python",
   "nbconvert_exporter": "python",
   "pygments_lexer": "ipython3",
   "version": "3.7.0"
  }
 },
 "nbformat": 4,
 "nbformat_minor": 2
}
