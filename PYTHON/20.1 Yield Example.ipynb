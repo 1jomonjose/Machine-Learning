{
 "cells": [
  {
   "cell_type": "code",
   "execution_count": 1,
   "metadata": {},
   "outputs": [
    {
     "name": "stdout",
     "output_type": "stream",
     "text": [
      "[1, 2, 3, 4, 5, 6, 7, 8]\n"
     ]
    }
   ],
   "source": [
    "'''\n",
    "Created on Mar 20, 2018\n",
    "\n",
    "@author: BVR\n",
    "'''\n",
    "def flatten(nested):\n",
    "    try:\n",
    "        for sublist in nested:\n",
    "            for element in flatten(sublist):\n",
    "                yield element\n",
    "    except TypeError:\n",
    "        yield nested\n",
    "\n",
    "print((list(flatten([[[1],2],3,4,[5,[6,7]],8]))))\n",
    "\n"
   ]
  },
  {
   "cell_type": "code",
   "execution_count": 2,
   "metadata": {},
   "outputs": [
    {
     "name": "stdout",
     "output_type": "stream",
     "text": [
      "['foo', 'bar', 'baz']\n"
     ]
    }
   ],
   "source": [
    "\n",
    "#safe\n",
    "\n",
    "def flatten1(nested):\n",
    "    try:\n",
    "        try: nested + ''\n",
    "        except TypeError: pass\n",
    "        else: raise TypeError\n",
    "        for sublist in nested:\n",
    "            for element in flatten1(sublist):\n",
    "                yield element\n",
    "    except TypeError:\n",
    "        yield nested\n",
    "print(( list(flatten1(['foo', ['bar', ['baz']]]))))\n",
    "\n"
   ]
  },
  {
   "cell_type": "code",
   "execution_count": 3,
   "metadata": {},
   "outputs": [],
   "source": [
    "\n",
    "def flatten2(nested):\n",
    "    result = []\n",
    "    try:\n",
    "        try: nested + ''\n",
    "        except TypeError: pass\n",
    "        else: raise TypeError\n",
    "        for sublist in nested:\n",
    "            for element in flatten2(sublist):\n",
    "                result.append(element)\n",
    "    except TypeError:\n",
    "        result.append(nested)\n",
    "    return result"
   ]
  },
  {
   "cell_type": "code",
   "execution_count": 4,
   "metadata": {},
   "outputs": [
    {
     "name": "stdout",
     "output_type": "stream",
     "text": [
      "1\n",
      "2 --> punch!\n"
     ]
    }
   ],
   "source": [
    "'''\n",
    "Created on Mar 20, 2018\n",
    "\n",
    "@author: BVR\n",
    "'''\n",
    "\n",
    "def simpleGen():\n",
    "    yield 1\n",
    "    yield '2 --> punch!'\n",
    "\n",
    "for eachItem in simpleGen():\n",
    "    print (eachItem)\n",
    "    \n",
    "    "
   ]
  },
  {
   "cell_type": "code",
   "execution_count": 5,
   "metadata": {},
   "outputs": [
    {
     "name": "stdout",
     "output_type": "stream",
     "text": [
      "1\n",
      "2\n",
      "3\n",
      "4\n",
      "5\n",
      "[1, 2, 3, 4, 5]\n"
     ]
    }
   ],
   "source": [
    "\n",
    "def flatten(nested):\n",
    "    for sublist in nested:\n",
    "        for element in sublist:\n",
    "            yield element\n",
    "nested = [[1, 2], [3, 4], [5]]\n",
    "for num in flatten(nested):\n",
    "    print (num)\n",
    "\n",
    "print((list(flatten(nested))))\n",
    "\n"
   ]
  },
  {
   "cell_type": "code",
   "execution_count": 6,
   "metadata": {},
   "outputs": [
    {
     "name": "stdout",
     "output_type": "stream",
     "text": [
      "1\n",
      "2 --> punch!\n"
     ]
    }
   ],
   "source": [
    "# Simple Generator\n",
    "\n",
    "def simpleGen():\n",
    "    yield 1\n",
    "    yield '2 --> punch!'\n",
    "\n",
    "myG = simpleGen()\n",
    "print(( next(myG)))\n",
    "print(( next(myG)))"
   ]
  },
  {
   "cell_type": "code",
   "execution_count": 8,
   "metadata": {},
   "outputs": [
    {
     "name": "stdout",
     "output_type": "stream",
     "text": [
      "(1, 56)\n",
      "(1, 2)\n",
      "(1, 1)\n",
      "(2, 56)\n",
      "(2, 2)\n",
      "(2, 1)\n",
      "(3, 56)\n",
      "(3, 2)\n",
      "(3, 1)\n",
      "(17, 56)\n",
      "(17, 2)\n",
      "(17, 1)\n"
     ]
    }
   ],
   "source": [
    "# Cross product pair\n",
    "\n",
    "\n",
    "rows = [1, 2, 3, 17]\n",
    "\n",
    "def cols():        # example of simple generator\n",
    "    yield 56\n",
    "    yield 2\n",
    "    yield 1\n",
    "\n",
    "x_product_pairs = ((i, j) for i in rows for j in cols())\n",
    "\n",
    "for pair in x_product_pairs:\n",
    "     print (pair)"
   ]
  },
  {
   "cell_type": "code",
   "execution_count": 9,
   "metadata": {},
   "outputs": [
    {
     "name": "stdout",
     "output_type": "stream",
     "text": [
      "(0,)\n",
      "(1,)\n",
      "(1,)\n",
      "(2,)\n",
      "(3,)\n",
      "(5,)\n",
      "(8,)\n",
      "(13,)\n",
      "(21,)\n",
      "(34,)\n",
      "(55,)\n",
      "(89,)\n",
      "(144,)\n",
      "(233,)\n",
      "(377,)\n",
      "(610,)\n",
      "(987,)\n"
     ]
    }
   ],
   "source": [
    "def fibonacci(max):\n",
    "    a, b = 0, 1\n",
    "    while a < max:\n",
    "        yield a\n",
    "        a, b = b, a+b\n",
    "\n",
    "for n in fibonacci(1000):\n",
    "    print((n,))"
   ]
  },
  {
   "cell_type": "code",
   "execution_count": null,
   "metadata": {},
   "outputs": [],
   "source": []
  }
 ],
 "metadata": {
  "kernelspec": {
   "display_name": "Python 3",
   "language": "python",
   "name": "python3"
  },
  "language_info": {
   "codemirror_mode": {
    "name": "ipython",
    "version": 3
   },
   "file_extension": ".py",
   "mimetype": "text/x-python",
   "name": "python",
   "nbconvert_exporter": "python",
   "pygments_lexer": "ipython3",
   "version": "3.6.5"
  }
 },
 "nbformat": 4,
 "nbformat_minor": 2
}
