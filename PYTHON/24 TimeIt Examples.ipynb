{
 "cells": [
  {
   "cell_type": "code",
   "execution_count": 2,
   "metadata": {},
   "outputs": [
    {
     "name": "stdout",
     "output_type": "stream",
     "text": [
      "0.0008391629962716252\n"
     ]
    }
   ],
   "source": [
    "# importing the required module\n",
    "import timeit\n",
    " \n",
    "# code snippet to be executed only once\n",
    "mysetup = \"from math import sqrt\"\n",
    " \n",
    "# code snippet whose execution time is to be measured\n",
    "mycode = '''\n",
    "def example():\n",
    "    mylist = []\n",
    "    for x in range(100):\n",
    "        mylist.append(sqrt(x))\n",
    "'''\n",
    " \n",
    "# timeit statement\n",
    "print (timeit.timeit(setup = mysetup,\n",
    "                    stmt = mycode,\n",
    "                    number = 10000))\n"
   ]
  },
  {
   "cell_type": "code",
   "execution_count": 3,
   "metadata": {},
   "outputs": [
    {
     "name": "stdout",
     "output_type": "stream",
     "text": [
      "Linear search time: 4.4716397160009365\n",
      "Binary search time: 3.730943792994367\n"
     ]
    }
   ],
   "source": [
    "# importing the required modules\n",
    "import timeit\n",
    " \n",
    "# binary search function\n",
    "def binary_search(mylist, find):\n",
    "    while len(mylist) > 0:\n",
    "        mid = (len(mylist))//2\n",
    "        if mylist[mid] == find:\n",
    "            return True\n",
    "        elif mylist[mid] < find:\n",
    "            mylist = mylist[:mid]\n",
    "        else:\n",
    "            mylist = mylist[mid + 1:]\n",
    "    return False\n",
    " \n",
    " \n",
    "# linear search function\n",
    "def linear_search(mylist, find):\n",
    "    for x in mylist:\n",
    "        if x == find:\n",
    "            return True\n",
    "    return False\n",
    " \n",
    " \n",
    "# compute binary search time\n",
    "def binary_time():\n",
    "    SETUP_CODE = '''\n",
    "from __main__ import binary_search\n",
    "from random import randint'''\n",
    " \n",
    "    TEST_CODE = '''\n",
    "mylist = [x for x in range(10000)]\n",
    "find = randint(0, len(mylist))\n",
    "binary_search(mylist, find)'''\n",
    "     \n",
    "    # timeit.repeat statement\n",
    "    times = timeit.repeat(setup = SETUP_CODE,\n",
    "                          stmt = TEST_CODE,\n",
    "                          repeat = 3,\n",
    "                          number = 10000)\n",
    " \n",
    "    # priniting minimum exec. time\n",
    "    print('Binary search time: {}'.format(min(times)))        \n",
    " \n",
    " \n",
    "# compute linear search time\n",
    "def linear_time():\n",
    "    SETUP_CODE = '''\n",
    "from __main__ import linear_search\n",
    "from random import randint'''\n",
    "     \n",
    "    TEST_CODE = '''\n",
    "mylist = [x for x in range(10000)]\n",
    "find = randint(0, len(mylist))\n",
    "linear_search(mylist, find)\n",
    "    '''\n",
    "    # timeit.repeat statement\n",
    "    times = timeit.repeat(setup = SETUP_CODE,\n",
    "                          stmt = TEST_CODE,\n",
    "                          repeat = 3,\n",
    "                          number = 10000)\n",
    " \n",
    "    # priniting minimum exec. time\n",
    "    print('Linear search time: {}'.format(min(times)))  \n",
    " \n",
    "if __name__ == \"__main__\":\n",
    "    linear_time()\n",
    "    binary_time()\n"
   ]
  },
  {
   "cell_type": "code",
   "execution_count": null,
   "metadata": {},
   "outputs": [],
   "source": []
  }
 ],
 "metadata": {
  "kernelspec": {
   "display_name": "Python 3",
   "language": "python",
   "name": "python3"
  },
  "language_info": {
   "codemirror_mode": {
    "name": "ipython",
    "version": 3
   },
   "file_extension": ".py",
   "mimetype": "text/x-python",
   "name": "python",
   "nbconvert_exporter": "python",
   "pygments_lexer": "ipython3",
   "version": "3.6.5"
  }
 },
 "nbformat": 4,
 "nbformat_minor": 2
}
