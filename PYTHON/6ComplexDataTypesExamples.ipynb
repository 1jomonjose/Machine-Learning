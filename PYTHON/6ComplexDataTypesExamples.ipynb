{
 "cells": [
  {
   "cell_type": "code",
   "execution_count": 1,
   "metadata": {},
   "outputs": [
    {
     "name": "stdout",
     "output_type": "stream",
     "text": [
      "1j\n",
      "(-3+31j)\n"
     ]
    }
   ],
   "source": [
    "\n",
    "import cmath \n",
    "print (cmath.sqrt(-1)) \n",
    "print ((1+3j) * (9+4j))\n",
    "\n"
   ]
  },
  {
   "cell_type": "code",
   "execution_count": 2,
   "metadata": {},
   "outputs": [
    {
     "name": "stdout",
     "output_type": "stream",
     "text": [
      "(-1+0j)\n",
      "(-1+0j)\n",
      "(3+3j)\n",
      "(9+3j)\n",
      "(1.5+0.5j)\n"
     ]
    }
   ],
   "source": [
    "#Complex numbers with a nonzero real component are written as \"(real+imagj)\", or can be created with the \"complex(real, imag)\" function.\n",
    "\n",
    "print (1j * 1J)\n",
    "print (1j * complex(0,1))\n",
    "print (3+1j*3)\n",
    "print ((3+1j)*3)\n",
    "print ((1+2j)/(1+1j))\n",
    "\n"
   ]
  },
  {
   "cell_type": "code",
   "execution_count": 3,
   "metadata": {},
   "outputs": [
    {
     "name": "stdout",
     "output_type": "stream",
     "text": [
      "1.5\n0.5\n"
     ]
    }
   ],
   "source": [
    "a=1.5+0.5j\n",
    "print (a.real)\n",
    "print (a.imag)\n",
    "\n",
    "\n",
    "a=1.5+0.5j\n"
   ]
  },
  {
   "cell_type": "code",
   "execution_count": 4,
   "metadata": {},
   "outputs": [
    {
     "name": "stdout",
     "output_type": "stream",
     "text": [
      "4.0\n3.0\n(4+3j)\n"
     ]
    }
   ],
   "source": [
    "\n",
    "x = 4+3j\n",
    "print (x.real)\n",
    "print (x.imag)\n",
    "print (x)\n"
   ]
  },
  {
   "cell_type": "code",
   "execution_count": 1,
   "metadata": {},
   "outputs": [
    {
     "ename": "NameError",
     "evalue": "name 'cmath' is not defined",
     "traceback": [
      "\u001b[1;31m---------------------------------------------------------------------------\u001b[0m",
      "\u001b[1;31mNameError\u001b[0m                                 Traceback (most recent call last)",
      "\u001b[1;32m<ipython-input-1-acafa0a639a0>\u001b[0m in \u001b[0;36m<module>\u001b[1;34m\u001b[0m\n\u001b[0;32m      1\u001b[0m \u001b[1;33m\u001b[0m\u001b[0m\n\u001b[1;32m----> 2\u001b[1;33m \u001b[0mprint\u001b[0m \u001b[1;33m(\u001b[0m\u001b[0mcmath\u001b[0m\u001b[1;33m.\u001b[0m\u001b[0msqrt\u001b[0m\u001b[1;33m(\u001b[0m\u001b[1;33m-\u001b[0m\u001b[1;36m1\u001b[0m\u001b[1;33m)\u001b[0m\u001b[1;33m)\u001b[0m\u001b[1;33m\u001b[0m\u001b[1;33m\u001b[0m\u001b[0m\n\u001b[0m\u001b[0;32m      3\u001b[0m \u001b[1;33m\u001b[0m\u001b[0m\n\u001b[0;32m      4\u001b[0m \u001b[0mprint\u001b[0m \u001b[1;33m(\u001b[0m\u001b[0mcmath\u001b[0m\u001b[1;33m.\u001b[0m\u001b[0masin\u001b[0m\u001b[1;33m(\u001b[0m\u001b[1;36m100\u001b[0m\u001b[1;33m)\u001b[0m\u001b[1;33m)\u001b[0m\u001b[1;33m\u001b[0m\u001b[1;33m\u001b[0m\u001b[0m\n\u001b[0;32m      5\u001b[0m \u001b[0mprint\u001b[0m \u001b[1;33m(\u001b[0m\u001b[0mcmath\u001b[0m\u001b[1;33m.\u001b[0m\u001b[0masin\u001b[0m\u001b[1;33m(\u001b[0m\u001b[1;36m4\u001b[0m\u001b[1;33m+\u001b[0m\u001b[1;36m3j\u001b[0m\u001b[1;33m)\u001b[0m\u001b[1;33m)\u001b[0m\u001b[1;33m\u001b[0m\u001b[1;33m\u001b[0m\u001b[0m\n",
      "\u001b[1;31mNameError\u001b[0m: name 'cmath' is not defined"
     ],
     "output_type": "error"
    }
   ],
   "source": [
    "\n",
    "print (cmath.sqrt(-1))\n",
    "\n",
    "print (cmath.asin(100))\n",
    "print (cmath.asin(4+3j))\n",
    "print (a.real)\n",
    "print (abs(a))\n"
   ]
  },
  {
   "cell_type": "code",
   "execution_count": 2,
   "metadata": {},
   "outputs": [
    {
     "name": "stdout",
     "output_type": "stream",
     "text": [
      "(-8.3-1.4j)\n-8.3\n-1.4\n(-8.3+1.4j)\n"
     ]
    }
   ],
   "source": [
    "\n",
    "'''\n",
    "\n",
    "Attribute          Description\n",
    "num.real          Real component of complex number num\n",
    "num.imag          Imaginary component of complex number num\n",
    "num.conjugate()      Returns complex conjugate of num\n",
    "'''\n",
    "\n",
    "aComplex = -8.3 - 1.4j\n",
    "print (aComplex)\n",
    "print (aComplex.real)\n",
    "print (aComplex.imag)\n",
    "print (aComplex.conjugate())\n"
   ]
  },
  {
   "cell_type": "code",
   "execution_count": null,
   "metadata": {},
   "outputs": [],
   "source": []
  }
 ],
 "metadata": {
  "kernelspec": {
   "display_name": "Python 3",
   "language": "python",
   "name": "python3"
  },
  "language_info": {
   "codemirror_mode": {
    "name": "ipython",
    "version": 3
   },
   "file_extension": ".py",
   "mimetype": "text/x-python",
   "name": "python",
   "nbconvert_exporter": "python",
   "pygments_lexer": "ipython3",
   "version": "3.6.5"
  }
 },
 "nbformat": 4,
 "nbformat_minor": 2
}
