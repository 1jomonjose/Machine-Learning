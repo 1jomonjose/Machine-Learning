{
 "cells": [
  {
   "cell_type": "code",
   "execution_count": 3,
   "metadata": {},
   "outputs": [
    {
     "name": "stdout",
     "output_type": "stream",
     "text": [
      "in debug mode\n",
      "done\n",
      "done\n"
     ]
    }
   ],
   "source": [
    "'''\n",
    "Created on Mar 22, 2018\n",
    "\n",
    "@author: BVR\n",
    "\n",
    "DEFAULT ARGUMENTS EXAMPLES\n",
    "\n",
    "'''\n",
    "\n",
    "\n",
    "def ask_ok(prompt, retries=4, complaint='Yes or no, please!'):\n",
    "      while 1:\n",
    "          ok = input(prompt)\n",
    "          if ok in ('y', 'ye', 'yes'): return 1\n",
    "          if ok in ('n', 'no', 'nop', 'nope'): return 0\n",
    "          retries = retries - 1\n",
    "          if retries < 0: raise IOError('refusenik user')\n",
    "          print(complaint)\n",
    "          \n",
    "            \n",
    "\n",
    "          \n",
    "          \n",
    "def foo(debug=True):\n",
    "     'determine if in debug mode with default argument'\n",
    "     if debug:\n",
    "         print('in debug mode')\n",
    "     print('done')\n",
    "foo()\n",
    "foo(False)"
   ]
  },
  {
   "cell_type": "code",
   "execution_count": 4,
   "metadata": {},
   "outputs": [
    {
     "data": {
      "text/plain": [
       "105.0"
      ]
     },
     "execution_count": 4,
     "metadata": {},
     "output_type": "execute_result"
    }
   ],
   "source": [
    "\n",
    "def taxMe(cost, rate=0.0825):\n",
    "     return cost + (cost * rate)\n",
    "\n",
    "taxMe(100)\n",
    "taxMe(100, 0.05)\n"
   ]
  },
  {
   "cell_type": "code",
   "execution_count": 5,
   "metadata": {},
   "outputs": [
    {
     "name": "stdout",
     "output_type": "stream",
     "text": [
      "Happy birthday, Jackson !  I hear you're 1 today.\n",
      "\n",
      "Happy birthday, 1 !  I hear you're Jackson today.\n",
      "\n",
      "Happy birthday, Jackson !  I hear you're 1 today.\n",
      "\n",
      "Happy birthday, Jackson !  I hear you're 1 today.\n",
      "\n",
      "Happy birthday, Jackson !  I hear you're 1 today.\n",
      "\n",
      "Happy birthday, Katherine !  I hear you're 1 today.\n",
      "\n",
      "Happy birthday, Jackson !  I hear you're 12 today.\n",
      "\n",
      "Happy birthday, Katherine !  I hear you're 12 today.\n",
      "\n",
      "Happy birthday, Katherine !  I hear you're 12 today.\n",
      "\n",
      "\n",
      "\n",
      "Press the enter key to exit.a\n"
     ]
    },
    {
     "data": {
      "text/plain": [
       "'a'"
      ]
     },
     "execution_count": 5,
     "metadata": {},
     "output_type": "execute_result"
    }
   ],
   "source": [
    "\n",
    "# positional parameters\n",
    "def birthday1(name, age):\n",
    "    print(\"Happy birthday,\", name, \"!\", \" I hear you're\", age, \"today.\\n\")\n",
    "\n",
    "# parameters with default values\n",
    "def birthday2(name = \"Jackson\", age = 1):\n",
    "    print(\"Happy birthday,\", name, \"!\", \" I hear you're\", age, \"today.\\n\")\n",
    "\n",
    "\n",
    "birthday1(\"Jackson\", 1)\n",
    "birthday1(1, \"Jackson\")\n",
    "birthday1(name = \"Jackson\", age = 1)\n",
    "birthday1(age = 1, name = \"Jackson\")\n",
    "\n",
    "birthday2()\n",
    "birthday2(name = \"Katherine\")\n",
    "birthday2(age = 12)\n",
    "birthday2(name = \"Katherine\", age = 12)\n",
    "birthday2(\"Katherine\", 12)\n",
    "\n",
    "input(\"\\n\\nPress the enter key to exit.\")\n",
    "\n"
   ]
  },
  {
   "cell_type": "code",
   "execution_count": 6,
   "metadata": {},
   "outputs": [
    {
     "name": "stdout",
     "output_type": "stream",
     "text": [
      "Happy birthday, Jackson !  I hear you're 1 today.\n",
      "\n",
      "Happy birthday, 1 !  I hear you're Jackson today.\n",
      "\n",
      "Happy birthday, Jackson !  I hear you're 1 today.\n",
      "\n",
      "Happy birthday, Jackson !  I hear you're 1 today.\n",
      "\n",
      "Happy birthday, Jackson !  I hear you're 1 today.\n",
      "\n",
      "Happy birthday, Katherine !  I hear you're 1 today.\n",
      "\n",
      "Happy birthday, Jackson !  I hear you're 12 today.\n",
      "\n",
      "Happy birthday, Katherine !  I hear you're 12 today.\n",
      "\n",
      "Happy birthday, Katherine !  I hear you're 12 today.\n",
      "\n",
      "\n",
      "\n",
      "Press the enter key to exit.a\n"
     ]
    },
    {
     "data": {
      "text/plain": [
       "'a'"
      ]
     },
     "execution_count": 6,
     "metadata": {},
     "output_type": "execute_result"
    }
   ],
   "source": [
    "\n",
    "\n",
    "# positional parameters\n",
    "def birthday1(name, age):\n",
    "    print(\"Happy birthday,\", name, \"!\", \" I hear you're\", age, \"today.\\n\")\n",
    "\n",
    "# parameters with default values\n",
    "def birthday2(name = \"Jackson\", age = 1):\n",
    "    print(\"Happy birthday,\", name, \"!\", \" I hear you're\", age, \"today.\\n\")\n",
    "\n",
    "\n",
    "birthday1(\"Jackson\", 1)\n",
    "birthday1(1, \"Jackson\")\n",
    "birthday1(name = \"Jackson\", age = 1)\n",
    "birthday1(age = 1, name = \"Jackson\")\n",
    "\n",
    "birthday2()\n",
    "birthday2(name = \"Katherine\")\n",
    "birthday2(age = 12)\n",
    "birthday2(name = \"Katherine\", age = 12)\n",
    "birthday2(\"Katherine\", 12)\n",
    "\n",
    "input(\"\\n\\nPress the enter key to exit.\")\n"
   ]
  },
  {
   "cell_type": "code",
   "execution_count": 7,
   "metadata": {},
   "outputs": [
    {
     "name": "stdout",
     "output_type": "stream",
     "text": [
      "Teag/San Diego/2006\n",
      "Caleb/L.A./2004\n",
      "Aedan/London/2005\n",
      "DaNae/Paris/2003\n",
      "Brendan/Orlando/1999\n"
     ]
    }
   ],
   "source": [
    "\n",
    "\n",
    "def fun(name, location, year=2006):\n",
    "    print(\"%s/%s/%d\" % (name, location, year))\n",
    "\n",
    "fun(\"Teag\", \"San Diego\")\n",
    "\n",
    "\n",
    "\n",
    "\n",
    "def fun(name, location, year=2006):\n",
    "    print(\"%s/%s/%d\" % (name, location, year))\n",
    "\n",
    "fun(location=\"L.A.\", year=2004, name=\"Caleb\" )\n",
    "\n",
    "\n",
    "\n",
    "\n",
    "\n",
    "\n",
    "def fun(name, location, year=2006):\n",
    "    print(\"%s/%s/%d\" % (name, location, year))\n",
    "\n",
    "fun(\"Aedan\", year=2005, location=\"London\")\n",
    "\n",
    "\n",
    "\n",
    "\n",
    "\n",
    "def fun(name, location, year=2006):\n",
    "    print(\"%s/%s/%d\" % (name, location, year))\n",
    "\n",
    "tuple = (\"DaNae\", \"Paris\", 2003)\n",
    "fun(*tuple)\n",
    "\n",
    "\n",
    "\n",
    "\n",
    "def fun(name, location, year=2006):\n",
    "    print(\"%s/%s/%d\" % (name, location, year))\n",
    "\n",
    "dictionary = {'name':'Brendan','location':'Orlando', 'year':1999}\n",
    "fun(**dictionary)\n",
    "\n",
    "\n",
    "\n"
   ]
  },
  {
   "cell_type": "code",
   "execution_count": null,
   "metadata": {},
   "outputs": [],
   "source": [
    "#DOCUMENTING FUNCTIONS\n"
   ]
  },
  {
   "cell_type": "code",
   "execution_count": 8,
   "metadata": {},
   "outputs": [
    {
     "name": "stdout",
     "output_type": "stream",
     "text": [
      " This is a document string for the Foo class.\n",
      "    \n"
     ]
    }
   ],
   "source": [
    "\n",
    "def func(params):\n",
    "    \"\"\"Do something with a dictionary of parameters.\n",
    "    Parameter 1 is blah\n",
    "    Parameter 2 is blah\n",
    "    \"\"\"\n",
    "\n",
    "class Foo :\n",
    "    \"\"\" This is a document string for the Foo class.\n",
    "    \"\"\"\n",
    "    x = 1\n",
    "\n",
    "\n",
    "dir(Foo)\n",
    "print(Foo.__doc__)\n",
    "\n"
   ]
  },
  {
   "cell_type": "code",
   "execution_count": 10,
   "metadata": {},
   "outputs": [
    {
     "name": "stdout",
     "output_type": "stream",
     "text": [
      "Calculates the square of the number x.\n",
      "Help on function square in module __main__:\n",
      "\n",
      "square(x)\n",
      "    Calculates the square of the number x.\n",
      "\n"
     ]
    }
   ],
   "source": [
    "\n",
    "# If you put a string at the beginning of a function, it is stored as part of the function and is called a docstring. \n",
    "# __doc__ is a function attribute. \n",
    "# The double underscores mean that this is a special attribute. \n",
    "\n",
    "def square(x):\n",
    "   'Calculates the square of the number x.'\n",
    "   return x*x \n",
    "\n",
    "# The docstring may be accessed like this: \n",
    "print(square.__doc__)\n",
    "\n",
    "\n",
    "help(square)\n",
    "\n",
    "\n",
    "\n",
    "def foo():\n",
    "      \"This is a doc string.\"\n",
    "      return True\n",
    "\n",
    "# doc strings can be accessed at runtime \n",
    "# doc strings can be used to automatically generate documentation.\n"
   ]
  },
  {
   "cell_type": "code",
   "execution_count": null,
   "metadata": {},
   "outputs": [],
   "source": [
    "#FUNCTIONAL DEFINITIONS\n"
   ]
  },
  {
   "cell_type": "code",
   "execution_count": 11,
   "metadata": {},
   "outputs": [
    {
     "name": "stdout",
     "output_type": "stream",
     "text": [
      "in foo()\n",
      "in bar()\n",
      "in foo()\n",
      "in bar()\n"
     ]
    }
   ],
   "source": [
    "\n",
    "\n",
    "def helloSomeone(who):\n",
    "  'returns a salutory string customized with the input'\n",
    "  return \"Hello \" + str(who)\n",
    "\n",
    "\n",
    "\n",
    "def bar():\n",
    "    print('in bar()')\n",
    "\n",
    "def foo():\n",
    "   print('in foo()')\n",
    "   bar()\n",
    "\n",
    "foo()\n",
    "\n",
    "# In fact, we can even declare foo() before bar():\n",
    "def foo():\n",
    "    print('in foo()')\n",
    "    bar()\n",
    "\n",
    "def bar():\n",
    "    print('in bar()')\n",
    "\n",
    "foo()\n",
    "\n"
   ]
  },
  {
   "cell_type": "code",
   "execution_count": 12,
   "metadata": {},
   "outputs": [
    {
     "name": "stdout",
     "output_type": "stream",
     "text": [
      "Help on function foo in module __main__:\n",
      "\n",
      "foo()\n",
      "    foo() -- properly created doc string\n",
      "\n",
      "0.1\n",
      "foo() -- properly created doc string\n",
      "Oops, forgot the doc str above\n"
     ]
    }
   ],
   "source": [
    "\n",
    "def foo():\n",
    "    'foo() -- properly created doc string'\n",
    "\n",
    "def bar():\n",
    "    pass\n",
    "\n",
    "bar.__doc__ = 'Oops, forgot the doc str above'\n",
    "bar.version = 0.1\n",
    "\n",
    "help(foo)\n",
    "\n",
    "foo()\n",
    "print(bar.version)\n",
    "\n",
    "print(foo.__doc__)\n",
    "print(bar.__doc__)\n",
    "\n"
   ]
  },
  {
   "cell_type": "code",
   "execution_count": 13,
   "metadata": {},
   "outputs": [
    {
     "name": "stdout",
     "output_type": "stream",
     "text": [
      "foo() called\n",
      "bar() called\n"
     ]
    }
   ],
   "source": [
    "\n",
    "\n",
    "def foo():\n",
    "    def bar():\n",
    "        print('bar() called')\n",
    "\n",
    "    print('foo() called')\n",
    "    bar()\n",
    "\n",
    "foo()"
   ]
  },
  {
   "cell_type": "code",
   "execution_count": 14,
   "metadata": {},
   "outputs": [
    {
     "name": "stdout",
     "output_type": "stream",
     "text": [
      "1 4 9 16 25 36 49 64 81 100 \n"
     ]
    },
    {
     "data": {
      "text/plain": [
       "9"
      ]
     },
     "execution_count": 14,
     "metadata": {},
     "output_type": "execute_result"
    }
   ],
   "source": [
    "\n",
    "\n",
    "def square( y ):\n",
    "   return y * y\n",
    "\n",
    "for x in range( 1, 11 ):\n",
    "   print(square( x ), end=' ')\n",
    "\n",
    "print()\n",
    "\n",
    "\n",
    "\n",
    "\n",
    "\n",
    "def func(x, y, z): return x + y + z\n",
    "func(2, 3, 4)\n",
    "\n",
    "f = lambda x, y, z: x + y + z\n",
    "f(2, 3, 4)"
   ]
  },
  {
   "cell_type": "code",
   "execution_count": 16,
   "metadata": {},
   "outputs": [
    {
     "name": "stdout",
     "output_type": "stream",
     "text": [
      "Enter first integer: 111\n",
      "Enter second integer: 22\n",
      "Enter third integer: 3333\n",
      "Maximum integer is: 3333\n",
      "\n",
      "Enter first float: 11.22\n",
      "Enter second float: 12.21\n",
      "Enter third float: 34.11\n",
      "Maximum float is:  34.11\n",
      "\n",
      "Enter first string: VISHWANATH\n",
      "Enter second string: GROUP A\n",
      "Enter third string: AI\n",
      "Maximum string is:  VISHWANATH\n"
     ]
    }
   ],
   "source": [
    "def maximumValue( x, y, z ):\n",
    "   maximum = x\n",
    "\n",
    "   if y > maximum:\n",
    "      maximum = y\n",
    "\n",
    "   if z > maximum:\n",
    "      maximum = z\n",
    "\n",
    "   return maximum\n",
    "\n",
    "a = int( input( \"Enter first integer: \" ) )\n",
    "b = int( input( \"Enter second integer: \" ) )\n",
    "c = int( input( \"Enter third integer: \" ) )\n",
    "\n",
    "print(\"Maximum integer is:\", maximumValue( a, b, c )) \n",
    "print()   # print new line\n",
    "\n",
    "d = float( input( \"Enter first float: \" ) )\n",
    "e = float( input( \"Enter second float: \" ) )\n",
    "f = float( input( \"Enter third float: \" ) )\n",
    "print(\"Maximum float is: \", maximumValue( d, e, f ))\n",
    "print()\n",
    "\n",
    "g = input( \"Enter first string: \" )\n",
    "h = input( \"Enter second string: \" )\n",
    "i = input( \"Enter third string: \" )\n",
    "print(\"Maximum string is: \", maximumValue( g, h, i ))"
   ]
  },
  {
   "cell_type": "code",
   "execution_count": null,
   "metadata": {},
   "outputs": [],
   "source": [
    "#GLOBAL DECLARATION\n"
   ]
  },
  {
   "cell_type": "code",
   "execution_count": 17,
   "metadata": {},
   "outputs": [
    {
     "name": "stdout",
     "output_type": "stream",
     "text": [
      "\n",
      "Globals\n",
      "\n",
      "{'__name__': '__main__', '__doc__': '\\nCreated on Mar 22, 2018\\n\\n@author: BVR\\n', '__package__': None, '__loader__': None, '__spec__': None, '__builtin__': <module 'builtins' (built-in)>, '__builtins__': <module 'builtins' (built-in)>, '_ih': ['', \"'''\\nCreated on Mar 22, 2018\\n\\n@author: BVR\\n'''\\n\\n\\ndef ask_ok(prompt, retries=4, complaint='Yes or no, please!'):\\n      while 1:\\n          ok = raw_input(prompt)\\n          if ok in ('y', 'ye', 'yes'): return 1\\n          if ok in ('n', 'no', 'nop', 'nope'): return 0\\n          retries = retries - 1\\n          if retries < 0: raise IOError, 'refusenik user'\\n          print complaint\\n          \\n          \", \"'''\\nCreated on Mar 22, 2018\\n\\n@author: BVR\\n'''\\n\\n\\ndef ask_ok(prompt, retries=4, complaint='Yes or no, please!'):\\n      while 1:\\n          ok = input(prompt)\\n          if ok in ('y', 'ye', 'yes'): return 1\\n          if ok in ('n', 'no', 'nop', 'nope'): return 0\\n          retries = retries - 1\\n          if retries < 0: raise IOError('refusenik user')\\n          print(complaint)\\n          \", \"'''\\nCreated on Mar 22, 2018\\n\\n@author: BVR\\n'''\\n\\n\\ndef ask_ok(prompt, retries=4, complaint='Yes or no, please!'):\\n      while 1:\\n          ok = input(prompt)\\n          if ok in ('y', 'ye', 'yes'): return 1\\n          if ok in ('n', 'no', 'nop', 'nope'): return 0\\n          retries = retries - 1\\n          if retries < 0: raise IOError('refusenik user')\\n          print(complaint)\\n          \\n            \\n\\n          \\n          \\ndef foo(debug=True):\\n     'determine if in debug mode with default argument'\\n     if debug:\\n         print('in debug mode')\\n     print('done')\\nfoo()\\nfoo(False)\", '\\ndef taxMe(cost, rate=0.0825):\\n     return cost + (cost * rate)\\n\\ntaxMe(100)\\ntaxMe(100, 0.05)', '\\n# positional parameters\\ndef birthday1(name, age):\\n    print(\"Happy birthday,\", name, \"!\", \" I hear you\\'re\", age, \"today.\\\\n\")\\n\\n# parameters with default values\\ndef birthday2(name = \"Jackson\", age = 1):\\n    print(\"Happy birthday,\", name, \"!\", \" I hear you\\'re\", age, \"today.\\\\n\")\\n\\n\\nbirthday1(\"Jackson\", 1)\\nbirthday1(1, \"Jackson\")\\nbirthday1(name = \"Jackson\", age = 1)\\nbirthday1(age = 1, name = \"Jackson\")\\n\\nbirthday2()\\nbirthday2(name = \"Katherine\")\\nbirthday2(age = 12)\\nbirthday2(name = \"Katherine\", age = 12)\\nbirthday2(\"Katherine\", 12)\\n\\ninput(\"\\\\n\\\\nPress the enter key to exit.\")', '\\n\\n# positional parameters\\ndef birthday1(name, age):\\n    print(\"Happy birthday,\", name, \"!\", \" I hear you\\'re\", age, \"today.\\\\n\")\\n\\n# parameters with default values\\ndef birthday2(name = \"Jackson\", age = 1):\\n    print(\"Happy birthday,\", name, \"!\", \" I hear you\\'re\", age, \"today.\\\\n\")\\n\\n\\nbirthday1(\"Jackson\", 1)\\nbirthday1(1, \"Jackson\")\\nbirthday1(name = \"Jackson\", age = 1)\\nbirthday1(age = 1, name = \"Jackson\")\\n\\nbirthday2()\\nbirthday2(name = \"Katherine\")\\nbirthday2(age = 12)\\nbirthday2(name = \"Katherine\", age = 12)\\nbirthday2(\"Katherine\", 12)\\n\\ninput(\"\\\\n\\\\nPress the enter key to exit.\")', '\\n\\ndef fun(name, location, year=2006):\\n    print(\"%s/%s/%d\" % (name, location, year))\\n\\nfun(\"Teag\", \"San Diego\")\\n\\n\\n\\n\\ndef fun(name, location, year=2006):\\n    print(\"%s/%s/%d\" % (name, location, year))\\n\\nfun(location=\"L.A.\", year=2004, name=\"Caleb\" )\\n\\n\\n\\n\\n\\n\\ndef fun(name, location, year=2006):\\n    print(\"%s/%s/%d\" % (name, location, year))\\n\\nfun(\"Aedan\", year=2005, location=\"London\")\\n\\n\\n\\n\\n\\ndef fun(name, location, year=2006):\\n    print(\"%s/%s/%d\" % (name, location, year))\\n\\ntuple = (\"DaNae\", \"Paris\", 2003)\\nfun(*tuple)\\n\\n\\n\\n\\ndef fun(name, location, year=2006):\\n    print(\"%s/%s/%d\" % (name, location, year))\\n\\ndictionary = {\\'name\\':\\'Brendan\\',\\'location\\':\\'Orlando\\', \\'year\\':1999}\\nfun(**dictionary)', '\\ndef func(params):\\n    \"\"\"Do something with a dictionary of parameters.\\n    Parameter 1 is blah\\n    Parameter 2 is blah\\n    \"\"\"\\n\\nclass Foo :\\n    \"\"\" This is a document string for the Foo class.\\n    \"\"\"\\n    x = 1\\n\\n\\ndir(Foo)\\nprint(Foo.__doc__)', \"\\n# If you put a string at the beginning of a function, it is stored as part of the function and is called a docstring. \\n# __doc__ is a function attribute. \\n# The double underscores mean that this is a special attribute. \\n\\ndef square(x):\\n   'Calculates the square of the number x.'\\n   return x*x \\n\\n# The docstring may be accessed like this: \\nprint(square.__doc__)\\n\\n\\nhelp(square)\", '\\n# If you put a string at the beginning of a function, it is stored as part of the function and is called a docstring. \\n# __doc__ is a function attribute. \\n# The double underscores mean that this is a special attribute. \\n\\ndef square(x):\\n   \\'Calculates the square of the number x.\\'\\n   return x*x \\n\\n# The docstring may be accessed like this: \\nprint(square.__doc__)\\n\\n\\nhelp(square)\\n\\n\\n\\ndef foo():\\n      \"This is a doc string.\"\\n      return True\\n\\n# doc strings can be accessed at runtime \\n# doc strings can be used to automatically generate documentation.', '\\n\\ndef helloSomeone(who):\\n  \\'returns a salutory string customized with the input\\'\\n  return \"Hello \" + str(who)\\n\\n\\n\\ndef bar():\\n    print(\\'in bar()\\')\\n\\ndef foo():\\n   print(\\'in foo()\\')\\n   bar()\\n\\nfoo()\\n\\n# In fact, we can even declare foo() before bar():\\ndef foo():\\n    print(\\'in foo()\\')\\n    bar()\\n\\ndef bar():\\n    print(\\'in bar()\\')\\n\\nfoo()', \"\\ndef foo():\\n    'foo() -- properly created doc string'\\n\\ndef bar():\\n    pass\\n\\nbar.__doc__ = 'Oops, forgot the doc str above'\\nbar.version = 0.1\\n\\nhelp(foo)\\n\\nfoo()\\nprint(bar.version)\\n\\nprint(foo.__doc__)\\nprint(bar.__doc__)\", \"\\n\\ndef foo():\\n    def bar():\\n        print('bar() called')\\n\\n    print('foo() called')\\n    bar()\\n\\nfoo()\", \"\\n\\ndef square( y ):\\n   return y * y\\n\\nfor x in range( 1, 11 ):\\n   print(square( x ), end=' ')\\n\\nprint()\\n\\n\\n\\n\\n\\ndef func(x, y, z): return x + y + z\\nfunc(2, 3, 4)\\n\\nf = lambda x, y, z: x + y + z\\nf(2, 3, 4)\", 'def maximumValue( x, y, z ):\\n   maximum = x\\n\\n   if y > maximum:\\n      maximum = y\\n\\n   if z > maximum:\\n      maximum = z\\n\\n   return maximum\\n\\na = int( input( \"Enter first integer: \" ) )\\nb = int( input( \"Enter second integer: \" ) )\\nc = int( input( \"Enter third integer: \" ) )\\n\\nprint(\"Maximum integer is:\", maximumValue( a, b, c )) \\nprint()   # print new line\\n\\nd = float( input( \"Enter first float: \" ) )\\ne = float( input( \"Enter second float: \" ) )\\nf = float( input( \"Enter third float: \" ) )\\nprint(\"Maximum float is: \", maximumValue( d, e, f ))\\nprint()\\n\\ng = input( \"Enter first string: \" )\\nh = input( \"Enter second string: \" )\\ni = input( \"Enter third string: \" )\\nprint(\"Maximum string is: \", maximumValue( g, h, i ))', 'def maximumValue( x, y, z ):\\n   maximum = x\\n\\n   if y > maximum:\\n      maximum = y\\n\\n   if z > maximum:\\n      maximum = z\\n\\n   return maximum\\n\\na = int( input( \"Enter first integer: \" ) )\\nb = int( input( \"Enter second integer: \" ) )\\nc = int( input( \"Enter third integer: \" ) )\\n\\nprint(\"Maximum integer is:\", maximumValue( a, b, c )) \\nprint()   # print new line\\n\\nd = float( input( \"Enter first float: \" ) )\\ne = float( input( \"Enter second float: \" ) )\\nf = float( input( \"Enter third float: \" ) )\\nprint(\"Maximum float is: \", maximumValue( d, e, f ))\\nprint()\\n\\ng = input( \"Enter first string: \" )\\nh = input( \"Enter second string: \" )\\ni = input( \"Enter third string: \" )\\nprint(\"Maximum string is: \", maximumValue( g, h, i ))', '\\n\\nx = 1\\ndef fun(a):\\n    b=3\\n    x=4\\n    def sub(c):\\n        d=b\\n        global x\\n        x = 7\\n        print (\"Nested Function\\\\n\")\\n        print(locals())\\n\\n    sub(5)\\n    print (\"\\\\nFunction\\\\n\")\\n    print(locals())\\n    print(locals()[\"x\"])\\n    print(globals()[\"x\"])\\n\\nprint (\"\\\\nGlobals\\\\n\")\\nprint(globals())\\n\\nfun(2)'], '_oh': {4: 105.0, 5: 'a', 6: 'a', 14: 9}, '_dh': ['/home/vishwanath/BVRRAG/MACHINE_LEARNING_PYTHON/WORKSPACE/CLASSROOM_EXAMPLES/PYTHON_3.6/00DEMOS'], 'In': ['', \"'''\\nCreated on Mar 22, 2018\\n\\n@author: BVR\\n'''\\n\\n\\ndef ask_ok(prompt, retries=4, complaint='Yes or no, please!'):\\n      while 1:\\n          ok = raw_input(prompt)\\n          if ok in ('y', 'ye', 'yes'): return 1\\n          if ok in ('n', 'no', 'nop', 'nope'): return 0\\n          retries = retries - 1\\n          if retries < 0: raise IOError, 'refusenik user'\\n          print complaint\\n          \\n          \", \"'''\\nCreated on Mar 22, 2018\\n\\n@author: BVR\\n'''\\n\\n\\ndef ask_ok(prompt, retries=4, complaint='Yes or no, please!'):\\n      while 1:\\n          ok = input(prompt)\\n          if ok in ('y', 'ye', 'yes'): return 1\\n          if ok in ('n', 'no', 'nop', 'nope'): return 0\\n          retries = retries - 1\\n          if retries < 0: raise IOError('refusenik user')\\n          print(complaint)\\n          \", \"'''\\nCreated on Mar 22, 2018\\n\\n@author: BVR\\n'''\\n\\n\\ndef ask_ok(prompt, retries=4, complaint='Yes or no, please!'):\\n      while 1:\\n          ok = input(prompt)\\n          if ok in ('y', 'ye', 'yes'): return 1\\n          if ok in ('n', 'no', 'nop', 'nope'): return 0\\n          retries = retries - 1\\n          if retries < 0: raise IOError('refusenik user')\\n          print(complaint)\\n          \\n            \\n\\n          \\n          \\ndef foo(debug=True):\\n     'determine if in debug mode with default argument'\\n     if debug:\\n         print('in debug mode')\\n     print('done')\\nfoo()\\nfoo(False)\", '\\ndef taxMe(cost, rate=0.0825):\\n     return cost + (cost * rate)\\n\\ntaxMe(100)\\ntaxMe(100, 0.05)', '\\n# positional parameters\\ndef birthday1(name, age):\\n    print(\"Happy birthday,\", name, \"!\", \" I hear you\\'re\", age, \"today.\\\\n\")\\n\\n# parameters with default values\\ndef birthday2(name = \"Jackson\", age = 1):\\n    print(\"Happy birthday,\", name, \"!\", \" I hear you\\'re\", age, \"today.\\\\n\")\\n\\n\\nbirthday1(\"Jackson\", 1)\\nbirthday1(1, \"Jackson\")\\nbirthday1(name = \"Jackson\", age = 1)\\nbirthday1(age = 1, name = \"Jackson\")\\n\\nbirthday2()\\nbirthday2(name = \"Katherine\")\\nbirthday2(age = 12)\\nbirthday2(name = \"Katherine\", age = 12)\\nbirthday2(\"Katherine\", 12)\\n\\ninput(\"\\\\n\\\\nPress the enter key to exit.\")', '\\n\\n# positional parameters\\ndef birthday1(name, age):\\n    print(\"Happy birthday,\", name, \"!\", \" I hear you\\'re\", age, \"today.\\\\n\")\\n\\n# parameters with default values\\ndef birthday2(name = \"Jackson\", age = 1):\\n    print(\"Happy birthday,\", name, \"!\", \" I hear you\\'re\", age, \"today.\\\\n\")\\n\\n\\nbirthday1(\"Jackson\", 1)\\nbirthday1(1, \"Jackson\")\\nbirthday1(name = \"Jackson\", age = 1)\\nbirthday1(age = 1, name = \"Jackson\")\\n\\nbirthday2()\\nbirthday2(name = \"Katherine\")\\nbirthday2(age = 12)\\nbirthday2(name = \"Katherine\", age = 12)\\nbirthday2(\"Katherine\", 12)\\n\\ninput(\"\\\\n\\\\nPress the enter key to exit.\")', '\\n\\ndef fun(name, location, year=2006):\\n    print(\"%s/%s/%d\" % (name, location, year))\\n\\nfun(\"Teag\", \"San Diego\")\\n\\n\\n\\n\\ndef fun(name, location, year=2006):\\n    print(\"%s/%s/%d\" % (name, location, year))\\n\\nfun(location=\"L.A.\", year=2004, name=\"Caleb\" )\\n\\n\\n\\n\\n\\n\\ndef fun(name, location, year=2006):\\n    print(\"%s/%s/%d\" % (name, location, year))\\n\\nfun(\"Aedan\", year=2005, location=\"London\")\\n\\n\\n\\n\\n\\ndef fun(name, location, year=2006):\\n    print(\"%s/%s/%d\" % (name, location, year))\\n\\ntuple = (\"DaNae\", \"Paris\", 2003)\\nfun(*tuple)\\n\\n\\n\\n\\ndef fun(name, location, year=2006):\\n    print(\"%s/%s/%d\" % (name, location, year))\\n\\ndictionary = {\\'name\\':\\'Brendan\\',\\'location\\':\\'Orlando\\', \\'year\\':1999}\\nfun(**dictionary)', '\\ndef func(params):\\n    \"\"\"Do something with a dictionary of parameters.\\n    Parameter 1 is blah\\n    Parameter 2 is blah\\n    \"\"\"\\n\\nclass Foo :\\n    \"\"\" This is a document string for the Foo class.\\n    \"\"\"\\n    x = 1\\n\\n\\ndir(Foo)\\nprint(Foo.__doc__)', \"\\n# If you put a string at the beginning of a function, it is stored as part of the function and is called a docstring. \\n# __doc__ is a function attribute. \\n# The double underscores mean that this is a special attribute. \\n\\ndef square(x):\\n   'Calculates the square of the number x.'\\n   return x*x \\n\\n# The docstring may be accessed like this: \\nprint(square.__doc__)\\n\\n\\nhelp(square)\", '\\n# If you put a string at the beginning of a function, it is stored as part of the function and is called a docstring. \\n# __doc__ is a function attribute. \\n# The double underscores mean that this is a special attribute. \\n\\ndef square(x):\\n   \\'Calculates the square of the number x.\\'\\n   return x*x \\n\\n# The docstring may be accessed like this: \\nprint(square.__doc__)\\n\\n\\nhelp(square)\\n\\n\\n\\ndef foo():\\n      \"This is a doc string.\"\\n      return True\\n\\n# doc strings can be accessed at runtime \\n# doc strings can be used to automatically generate documentation.', '\\n\\ndef helloSomeone(who):\\n  \\'returns a salutory string customized with the input\\'\\n  return \"Hello \" + str(who)\\n\\n\\n\\ndef bar():\\n    print(\\'in bar()\\')\\n\\ndef foo():\\n   print(\\'in foo()\\')\\n   bar()\\n\\nfoo()\\n\\n# In fact, we can even declare foo() before bar():\\ndef foo():\\n    print(\\'in foo()\\')\\n    bar()\\n\\ndef bar():\\n    print(\\'in bar()\\')\\n\\nfoo()', \"\\ndef foo():\\n    'foo() -- properly created doc string'\\n\\ndef bar():\\n    pass\\n\\nbar.__doc__ = 'Oops, forgot the doc str above'\\nbar.version = 0.1\\n\\nhelp(foo)\\n\\nfoo()\\nprint(bar.version)\\n\\nprint(foo.__doc__)\\nprint(bar.__doc__)\", \"\\n\\ndef foo():\\n    def bar():\\n        print('bar() called')\\n\\n    print('foo() called')\\n    bar()\\n\\nfoo()\", \"\\n\\ndef square( y ):\\n   return y * y\\n\\nfor x in range( 1, 11 ):\\n   print(square( x ), end=' ')\\n\\nprint()\\n\\n\\n\\n\\n\\ndef func(x, y, z): return x + y + z\\nfunc(2, 3, 4)\\n\\nf = lambda x, y, z: x + y + z\\nf(2, 3, 4)\", 'def maximumValue( x, y, z ):\\n   maximum = x\\n\\n   if y > maximum:\\n      maximum = y\\n\\n   if z > maximum:\\n      maximum = z\\n\\n   return maximum\\n\\na = int( input( \"Enter first integer: \" ) )\\nb = int( input( \"Enter second integer: \" ) )\\nc = int( input( \"Enter third integer: \" ) )\\n\\nprint(\"Maximum integer is:\", maximumValue( a, b, c )) \\nprint()   # print new line\\n\\nd = float( input( \"Enter first float: \" ) )\\ne = float( input( \"Enter second float: \" ) )\\nf = float( input( \"Enter third float: \" ) )\\nprint(\"Maximum float is: \", maximumValue( d, e, f ))\\nprint()\\n\\ng = input( \"Enter first string: \" )\\nh = input( \"Enter second string: \" )\\ni = input( \"Enter third string: \" )\\nprint(\"Maximum string is: \", maximumValue( g, h, i ))', 'def maximumValue( x, y, z ):\\n   maximum = x\\n\\n   if y > maximum:\\n      maximum = y\\n\\n   if z > maximum:\\n      maximum = z\\n\\n   return maximum\\n\\na = int( input( \"Enter first integer: \" ) )\\nb = int( input( \"Enter second integer: \" ) )\\nc = int( input( \"Enter third integer: \" ) )\\n\\nprint(\"Maximum integer is:\", maximumValue( a, b, c )) \\nprint()   # print new line\\n\\nd = float( input( \"Enter first float: \" ) )\\ne = float( input( \"Enter second float: \" ) )\\nf = float( input( \"Enter third float: \" ) )\\nprint(\"Maximum float is: \", maximumValue( d, e, f ))\\nprint()\\n\\ng = input( \"Enter first string: \" )\\nh = input( \"Enter second string: \" )\\ni = input( \"Enter third string: \" )\\nprint(\"Maximum string is: \", maximumValue( g, h, i ))', '\\n\\nx = 1\\ndef fun(a):\\n    b=3\\n    x=4\\n    def sub(c):\\n        d=b\\n        global x\\n        x = 7\\n        print (\"Nested Function\\\\n\")\\n        print(locals())\\n\\n    sub(5)\\n    print (\"\\\\nFunction\\\\n\")\\n    print(locals())\\n    print(locals()[\"x\"])\\n    print(globals()[\"x\"])\\n\\nprint (\"\\\\nGlobals\\\\n\")\\nprint(globals())\\n\\nfun(2)'], 'Out': {4: 105.0, 5: 'a', 6: 'a', 14: 9}, 'get_ipython': <bound method InteractiveShell.get_ipython of <ipykernel.zmqshell.ZMQInteractiveShell object at 0x7f09a456f978>>, 'exit': <IPython.core.autocall.ZMQExitAutocall object at 0x7f09a453a8d0>, 'quit': <IPython.core.autocall.ZMQExitAutocall object at 0x7f09a453a8d0>, '_': 9, '__': 'a', '___': 'a', '_i': 'def maximumValue( x, y, z ):\\n   maximum = x\\n\\n   if y > maximum:\\n      maximum = y\\n\\n   if z > maximum:\\n      maximum = z\\n\\n   return maximum\\n\\na = int( input( \"Enter first integer: \" ) )\\nb = int( input( \"Enter second integer: \" ) )\\nc = int( input( \"Enter third integer: \" ) )\\n\\nprint(\"Maximum integer is:\", maximumValue( a, b, c )) \\nprint()   # print new line\\n\\nd = float( input( \"Enter first float: \" ) )\\ne = float( input( \"Enter second float: \" ) )\\nf = float( input( \"Enter third float: \" ) )\\nprint(\"Maximum float is: \", maximumValue( d, e, f ))\\nprint()\\n\\ng = input( \"Enter first string: \" )\\nh = input( \"Enter second string: \" )\\ni = input( \"Enter third string: \" )\\nprint(\"Maximum string is: \", maximumValue( g, h, i ))', '_ii': 'def maximumValue( x, y, z ):\\n   maximum = x\\n\\n   if y > maximum:\\n      maximum = y\\n\\n   if z > maximum:\\n      maximum = z\\n\\n   return maximum\\n\\na = int( input( \"Enter first integer: \" ) )\\nb = int( input( \"Enter second integer: \" ) )\\nc = int( input( \"Enter third integer: \" ) )\\n\\nprint(\"Maximum integer is:\", maximumValue( a, b, c )) \\nprint()   # print new line\\n\\nd = float( input( \"Enter first float: \" ) )\\ne = float( input( \"Enter second float: \" ) )\\nf = float( input( \"Enter third float: \" ) )\\nprint(\"Maximum float is: \", maximumValue( d, e, f ))\\nprint()\\n\\ng = input( \"Enter first string: \" )\\nh = input( \"Enter second string: \" )\\ni = input( \"Enter third string: \" )\\nprint(\"Maximum string is: \", maximumValue( g, h, i ))', '_iii': \"\\n\\ndef square( y ):\\n   return y * y\\n\\nfor x in range( 1, 11 ):\\n   print(square( x ), end=' ')\\n\\nprint()\\n\\n\\n\\n\\n\\ndef func(x, y, z): return x + y + z\\nfunc(2, 3, 4)\\n\\nf = lambda x, y, z: x + y + z\\nf(2, 3, 4)\", '_i1': \"'''\\nCreated on Mar 22, 2018\\n\\n@author: BVR\\n'''\\n\\n\\ndef ask_ok(prompt, retries=4, complaint='Yes or no, please!'):\\n      while 1:\\n          ok = raw_input(prompt)\\n          if ok in ('y', 'ye', 'yes'): return 1\\n          if ok in ('n', 'no', 'nop', 'nope'): return 0\\n          retries = retries - 1\\n          if retries < 0: raise IOError, 'refusenik user'\\n          print complaint\\n          \\n          \", '_i2': \"'''\\nCreated on Mar 22, 2018\\n\\n@author: BVR\\n'''\\n\\n\\ndef ask_ok(prompt, retries=4, complaint='Yes or no, please!'):\\n      while 1:\\n          ok = input(prompt)\\n          if ok in ('y', 'ye', 'yes'): return 1\\n          if ok in ('n', 'no', 'nop', 'nope'): return 0\\n          retries = retries - 1\\n          if retries < 0: raise IOError('refusenik user')\\n          print(complaint)\\n          \", 'ask_ok': <function ask_ok at 0x7f09a0c14d90>, '_i3': \"'''\\nCreated on Mar 22, 2018\\n\\n@author: BVR\\n'''\\n\\n\\ndef ask_ok(prompt, retries=4, complaint='Yes or no, please!'):\\n      while 1:\\n          ok = input(prompt)\\n          if ok in ('y', 'ye', 'yes'): return 1\\n          if ok in ('n', 'no', 'nop', 'nope'): return 0\\n          retries = retries - 1\\n          if retries < 0: raise IOError('refusenik user')\\n          print(complaint)\\n          \\n            \\n\\n          \\n          \\ndef foo(debug=True):\\n     'determine if in debug mode with default argument'\\n     if debug:\\n         print('in debug mode')\\n     print('done')\\nfoo()\\nfoo(False)\", 'foo': <function foo at 0x7f09a0c148c8>, '_i4': '\\ndef taxMe(cost, rate=0.0825):\\n     return cost + (cost * rate)\\n\\ntaxMe(100)\\ntaxMe(100, 0.05)', 'taxMe': <function taxMe at 0x7f09a0c14bf8>, '_4': 105.0, '_i5': '\\n# positional parameters\\ndef birthday1(name, age):\\n    print(\"Happy birthday,\", name, \"!\", \" I hear you\\'re\", age, \"today.\\\\n\")\\n\\n# parameters with default values\\ndef birthday2(name = \"Jackson\", age = 1):\\n    print(\"Happy birthday,\", name, \"!\", \" I hear you\\'re\", age, \"today.\\\\n\")\\n\\n\\nbirthday1(\"Jackson\", 1)\\nbirthday1(1, \"Jackson\")\\nbirthday1(name = \"Jackson\", age = 1)\\nbirthday1(age = 1, name = \"Jackson\")\\n\\nbirthday2()\\nbirthday2(name = \"Katherine\")\\nbirthday2(age = 12)\\nbirthday2(name = \"Katherine\", age = 12)\\nbirthday2(\"Katherine\", 12)\\n\\ninput(\"\\\\n\\\\nPress the enter key to exit.\")', 'birthday1': <function birthday1 at 0x7f09a0c14ea0>, 'birthday2': <function birthday2 at 0x7f09a0c14730>, '_5': 'a', '_i6': '\\n\\n# positional parameters\\ndef birthday1(name, age):\\n    print(\"Happy birthday,\", name, \"!\", \" I hear you\\'re\", age, \"today.\\\\n\")\\n\\n# parameters with default values\\ndef birthday2(name = \"Jackson\", age = 1):\\n    print(\"Happy birthday,\", name, \"!\", \" I hear you\\'re\", age, \"today.\\\\n\")\\n\\n\\nbirthday1(\"Jackson\", 1)\\nbirthday1(1, \"Jackson\")\\nbirthday1(name = \"Jackson\", age = 1)\\nbirthday1(age = 1, name = \"Jackson\")\\n\\nbirthday2()\\nbirthday2(name = \"Katherine\")\\nbirthday2(age = 12)\\nbirthday2(name = \"Katherine\", age = 12)\\nbirthday2(\"Katherine\", 12)\\n\\ninput(\"\\\\n\\\\nPress the enter key to exit.\")', '_6': 'a', '_i7': '\\n\\ndef fun(name, location, year=2006):\\n    print(\"%s/%s/%d\" % (name, location, year))\\n\\nfun(\"Teag\", \"San Diego\")\\n\\n\\n\\n\\ndef fun(name, location, year=2006):\\n    print(\"%s/%s/%d\" % (name, location, year))\\n\\nfun(location=\"L.A.\", year=2004, name=\"Caleb\" )\\n\\n\\n\\n\\n\\n\\ndef fun(name, location, year=2006):\\n    print(\"%s/%s/%d\" % (name, location, year))\\n\\nfun(\"Aedan\", year=2005, location=\"London\")\\n\\n\\n\\n\\n\\ndef fun(name, location, year=2006):\\n    print(\"%s/%s/%d\" % (name, location, year))\\n\\ntuple = (\"DaNae\", \"Paris\", 2003)\\nfun(*tuple)\\n\\n\\n\\n\\ndef fun(name, location, year=2006):\\n    print(\"%s/%s/%d\" % (name, location, year))\\n\\ndictionary = {\\'name\\':\\'Brendan\\',\\'location\\':\\'Orlando\\', \\'year\\':1999}\\nfun(**dictionary)', 'fun': <function fun at 0x7f09a03b9378>, 'tuple': ('DaNae', 'Paris', 2003), 'dictionary': {'name': 'Brendan', 'location': 'Orlando', 'year': 1999}, '_i8': '\\ndef func(params):\\n    \"\"\"Do something with a dictionary of parameters.\\n    Parameter 1 is blah\\n    Parameter 2 is blah\\n    \"\"\"\\n\\nclass Foo :\\n    \"\"\" This is a document string for the Foo class.\\n    \"\"\"\\n    x = 1\\n\\n\\ndir(Foo)\\nprint(Foo.__doc__)', 'func': <function func at 0x7f09a03cdd08>, 'Foo': <class '__main__.Foo'>, '_i9': \"\\n# If you put a string at the beginning of a function, it is stored as part of the function and is called a docstring. \\n# __doc__ is a function attribute. \\n# The double underscores mean that this is a special attribute. \\n\\ndef square(x):\\n   'Calculates the square of the number x.'\\n   return x*x \\n\\n# The docstring may be accessed like this: \\nprint(square.__doc__)\\n\\n\\nhelp(square)\", 'square': <function square at 0x7f09a0c14a60>, '_i10': '\\n# If you put a string at the beginning of a function, it is stored as part of the function and is called a docstring. \\n# __doc__ is a function attribute. \\n# The double underscores mean that this is a special attribute. \\n\\ndef square(x):\\n   \\'Calculates the square of the number x.\\'\\n   return x*x \\n\\n# The docstring may be accessed like this: \\nprint(square.__doc__)\\n\\n\\nhelp(square)\\n\\n\\n\\ndef foo():\\n      \"This is a doc string.\"\\n      return True\\n\\n# doc strings can be accessed at runtime \\n# doc strings can be used to automatically generate documentation.', '_i11': '\\n\\ndef helloSomeone(who):\\n  \\'returns a salutory string customized with the input\\'\\n  return \"Hello \" + str(who)\\n\\n\\n\\ndef bar():\\n    print(\\'in bar()\\')\\n\\ndef foo():\\n   print(\\'in foo()\\')\\n   bar()\\n\\nfoo()\\n\\n# In fact, we can even declare foo() before bar():\\ndef foo():\\n    print(\\'in foo()\\')\\n    bar()\\n\\ndef bar():\\n    print(\\'in bar()\\')\\n\\nfoo()', 'helloSomeone': <function helloSomeone at 0x7f09a0c14f28>, 'bar': <function bar at 0x7f09a03cd0d0>, '_i12': \"\\ndef foo():\\n    'foo() -- properly created doc string'\\n\\ndef bar():\\n    pass\\n\\nbar.__doc__ = 'Oops, forgot the doc str above'\\nbar.version = 0.1\\n\\nhelp(foo)\\n\\nfoo()\\nprint(bar.version)\\n\\nprint(foo.__doc__)\\nprint(bar.__doc__)\", '_i13': \"\\n\\ndef foo():\\n    def bar():\\n        print('bar() called')\\n\\n    print('foo() called')\\n    bar()\\n\\nfoo()\", '_i14': \"\\n\\ndef square( y ):\\n   return y * y\\n\\nfor x in range( 1, 11 ):\\n   print(square( x ), end=' ')\\n\\nprint()\\n\\n\\n\\n\\n\\ndef func(x, y, z): return x + y + z\\nfunc(2, 3, 4)\\n\\nf = lambda x, y, z: x + y + z\\nf(2, 3, 4)\", 'x': 1, 'f': 34.11, '_14': 9, '_i15': 'def maximumValue( x, y, z ):\\n   maximum = x\\n\\n   if y > maximum:\\n      maximum = y\\n\\n   if z > maximum:\\n      maximum = z\\n\\n   return maximum\\n\\na = int( input( \"Enter first integer: \" ) )\\nb = int( input( \"Enter second integer: \" ) )\\nc = int( input( \"Enter third integer: \" ) )\\n\\nprint(\"Maximum integer is:\", maximumValue( a, b, c )) \\nprint()   # print new line\\n\\nd = float( input( \"Enter first float: \" ) )\\ne = float( input( \"Enter second float: \" ) )\\nf = float( input( \"Enter third float: \" ) )\\nprint(\"Maximum float is: \", maximumValue( d, e, f ))\\nprint()\\n\\ng = input( \"Enter first string: \" )\\nh = input( \"Enter second string: \" )\\ni = input( \"Enter third string: \" )\\nprint(\"Maximum string is: \", maximumValue( g, h, i ))', 'maximumValue': <function maximumValue at 0x7f09a03b9268>, 'a': 111, 'b': 22, 'c': 3333, 'd': 11.22, '_i16': 'def maximumValue( x, y, z ):\\n   maximum = x\\n\\n   if y > maximum:\\n      maximum = y\\n\\n   if z > maximum:\\n      maximum = z\\n\\n   return maximum\\n\\na = int( input( \"Enter first integer: \" ) )\\nb = int( input( \"Enter second integer: \" ) )\\nc = int( input( \"Enter third integer: \" ) )\\n\\nprint(\"Maximum integer is:\", maximumValue( a, b, c )) \\nprint()   # print new line\\n\\nd = float( input( \"Enter first float: \" ) )\\ne = float( input( \"Enter second float: \" ) )\\nf = float( input( \"Enter third float: \" ) )\\nprint(\"Maximum float is: \", maximumValue( d, e, f ))\\nprint()\\n\\ng = input( \"Enter first string: \" )\\nh = input( \"Enter second string: \" )\\ni = input( \"Enter third string: \" )\\nprint(\"Maximum string is: \", maximumValue( g, h, i ))', 'e': 12.21, 'g': 'VISHWANATH', 'h': 'GROUP A', 'i': 'AI', '_i17': '\\n\\nx = 1\\ndef fun(a):\\n    b=3\\n    x=4\\n    def sub(c):\\n        d=b\\n        global x\\n        x = 7\\n        print (\"Nested Function\\\\n\")\\n        print(locals())\\n\\n    sub(5)\\n    print (\"\\\\nFunction\\\\n\")\\n    print(locals())\\n    print(locals()[\"x\"])\\n    print(globals()[\"x\"])\\n\\nprint (\"\\\\nGlobals\\\\n\")\\nprint(globals())\\n\\nfun(2)'}\n",
      "Nested Function\n",
      "\n",
      "{'d': 3, 'c': 5, 'b': 3}\n",
      "\n",
      "Function\n",
      "\n",
      "{'sub': <function fun.<locals>.sub at 0x7f09a03b92f0>, 'x': 4, 'a': 2, 'b': 3}\n",
      "4\n",
      "7\n"
     ]
    }
   ],
   "source": [
    "\n",
    "\n",
    "x = 1\n",
    "def fun(a):\n",
    "    b=3\n",
    "    x=4\n",
    "    def sub(c):\n",
    "        d=b\n",
    "        global x\n",
    "        x = 7\n",
    "        print (\"Nested Function\\n\")\n",
    "        print(locals())\n",
    "\n",
    "    sub(5)\n",
    "    print (\"\\nFunction\\n\")\n",
    "    print(locals())\n",
    "    print(locals()[\"x\"])\n",
    "    print(globals()[\"x\"])\n",
    "\n",
    "print (\"\\nGlobals\\n\")\n",
    "print(globals())\n",
    "\n",
    "fun(2)\n"
   ]
  },
  {
   "cell_type": "code",
   "execution_count": 18,
   "metadata": {},
   "outputs": [
    {
     "name": "stdout",
     "output_type": "stream",
     "text": [
      "in __main__, bar is 100\n",
      "\n",
      "calling foo()...\n",
      "in foo(), bar is 200\n",
      "\n",
      "in __main__, bar is (still) 100\n",
      "abcdef\n",
      "def\n"
     ]
    }
   ],
   "source": [
    "\n",
    "\n",
    "def foo():\n",
    "    print(\"\\ncalling foo()...\")\n",
    "    bar = 200\n",
    "    print(\"in foo(), bar is\", bar)\n",
    "\n",
    "bar = 100\n",
    "print(\"in __main__, bar is\", bar)\n",
    "foo()\n",
    "print(\"\\nin __main__, bar is (still)\", bar)\n",
    "\n",
    "is_this_global = 'xyz'\n",
    "\n",
    "def foo():\n",
    "     global is_this_global\n",
    "     this_is_local = 'abc'\n",
    "     is_this_global = 'def'\n",
    "     print(this_is_local + is_this_global)\n",
    "\n",
    "foo()\n",
    "print(is_this_global)\n",
    "\n"
   ]
  },
  {
   "cell_type": "code",
   "execution_count": 19,
   "metadata": {},
   "outputs": [
    {
     "name": "stdout",
     "output_type": "stream",
     "text": [
      "global x is 1\n",
      "global x is 7\n",
      "\n",
      "local x in a is 25 after entering a\n",
      "local x in a is 26 before exiting a\n",
      "\n",
      "global x is 7 on entering b\n",
      "global x is 70 on exiting b\n",
      "\n",
      "local x in a is 25 after entering a\n",
      "local x in a is 26 before exiting a\n",
      "\n",
      "global x is 70 on entering b\n",
      "global x is 700 on exiting b\n",
      "\n",
      "global x is 700\n"
     ]
    }
   ],
   "source": [
    "\n",
    "\n",
    "x = 1 # global variable\n",
    "\n",
    "def a():  \n",
    "   x = 25\n",
    "   print(\"\\nlocal x in a is\", x, \"after entering a\")\n",
    "   x += 1\n",
    "   print(\"local x in a is\", x, \"before exiting a\")\n",
    "\n",
    "def b():\n",
    "   global x\n",
    "   print(\"\\nglobal x is\", x, \"on entering b\")\n",
    "   x *= 10\n",
    "   print(\"global x is\", x, \"on exiting b\")\n",
    "\n",
    "print(\"global x is\", x)\n",
    "\n",
    "x = 7\n",
    "print(\"global x is\", x)\n",
    "\n",
    "a()\n",
    "b()\n",
    "a()\n",
    "b()\n",
    "\n",
    "print(\"\\nglobal x is\", x)\n",
    "\n"
   ]
  },
  {
   "cell_type": "code",
   "execution_count": 20,
   "metadata": {},
   "outputs": [
    {
     "name": "stdout",
     "output_type": "stream",
     "text": [
      "In the global namespace, value has been set to: 10 \n",
      "\n",
      "From inside the local namespace of read_global(), value is: 10\n",
      "Back in the global namespace, value is still: 10 \n",
      "\n",
      "From inside the local namespace of shadow_global(), value is: -10\n",
      "Back in the global namespace, value is still: 10 \n",
      "\n",
      "From inside the local namespace of change_global(), value is: -10\n",
      "Back in the global namespace, value has now changed to: -10\n"
     ]
    }
   ],
   "source": [
    "\n",
    "\n",
    "def read_global():\n",
    "    print(\"From inside the local namespace of read_global(), value is:\", value)\n",
    "\n",
    "def shadow_global():\n",
    "    value = -10\n",
    "    print(\"From inside the local namespace of shadow_global(), value is:\", value)\n",
    "  \n",
    "def change_global():\n",
    "    global value\n",
    "    value = -10\n",
    "    print(\"From inside the local namespace of change_global(), value is:\", value)\n",
    "\n",
    "value = 10\n",
    "print(\"In the global namespace, value has been set to:\", value, \"\\n\")\n",
    "\n",
    "read_global()\n",
    "print(\"Back in the global namespace, value is still:\", value, \"\\n\")\n",
    "\n",
    "shadow_global()\n",
    "print(\"Back in the global namespace, value is still:\", value, \"\\n\")\n",
    "\n",
    "change_global()\n",
    "print(\"Back in the global namespace, value has now changed to:\", value)\n",
    "\n"
   ]
  },
  {
   "cell_type": "code",
   "execution_count": 21,
   "metadata": {},
   "outputs": [
    {
     "name": "stdout",
     "output_type": "stream",
     "text": [
      "99\n"
     ]
    }
   ],
   "source": [
    "\n",
    "# Global names are names at the top level of the enclosing module file.\n",
    "\n",
    "# Global names must be declared only if they are assigned in a function.\n",
    "\n",
    "# Global names may be referenced in a function without being declared.\n",
    "\n",
    "X = 88 \n",
    "\n",
    "def func(  ):\n",
    "    global X\n",
    "    X = 99                     # Global X: outside def\n",
    "\n",
    "func(  )\n",
    "print(X)                        # Prints 99\n",
    "\n",
    "\n"
   ]
  },
  {
   "cell_type": "code",
   "execution_count": 22,
   "metadata": {},
   "outputs": [
    {
     "name": "stdout",
     "output_type": "stream",
     "text": [
      "99\n"
     ]
    }
   ],
   "source": [
    "\n",
    "X = 99 \n",
    "\n",
    "def selector(  ): \n",
    "    global X  # Force X to be global (everywhere)\n",
    "    print(X) \n",
    "    X = 88 \n",
    "\n",
    "selector(  )\n",
    "\n",
    "\n"
   ]
  },
  {
   "cell_type": "code",
   "execution_count": 23,
   "metadata": {},
   "outputs": [
    {
     "name": "stdout",
     "output_type": "stream",
     "text": [
      "99\n",
      "88\n"
     ]
    }
   ],
   "source": [
    "\n",
    "\n",
    "X = 99 \n",
    "def selector(  ): \n",
    "    import __main__           \n",
    "    print(__main__.X)          \n",
    "    X = 88                    \n",
    "    print(X)                   \n",
    "\n",
    "selector(  )\n",
    "\n"
   ]
  },
  {
   "cell_type": "code",
   "execution_count": 28,
   "metadata": {},
   "outputs": [],
   "source": [
    "#KEYBOARD ARGUMENTS\n"
   ]
  },
  {
   "cell_type": "code",
   "execution_count": 29,
   "metadata": {},
   "outputs": [
    {
     "name": "stdout",
     "output_type": "stream",
     "text": [
      "1 2 3\n",
      "1 2 3\n",
      "1 2 3\n",
      "1 2 3\n",
      "1 2 3\n",
      "1 4 3\n",
      "1 4 5\n",
      "1 2 6\n"
     ]
    }
   ],
   "source": [
    "\n",
    "\n",
    "\n",
    "def f(a, b, c): print(a, b, c)\n",
    "\n",
    "f(1, 2, 3)\n",
    "f(c=3, b=2, a=1)\n",
    "f(1, c=3, b=2)\n",
    "\n",
    "def f(a, b=2, c=3): print(a, b, c)\n",
    "f(1)\n",
    "f(a=1)\n",
    "f(1, 4)\n",
    "f(1, 4, 5)\n",
    "f(1, c=6)"
   ]
  },
  {
   "cell_type": "code",
   "execution_count": 30,
   "metadata": {},
   "outputs": [
    {
     "name": "stdout",
     "output_type": "stream",
     "text": [
      "voom 1000\n",
      "Blue\n",
      "a stiff\n",
      "V 1\n",
      "Blue\n",
      "a stiff\n",
      "voom A\n",
      "Blue\n",
      "state\n",
      "D B\n",
      "Blue\n",
      "C\n"
     ]
    }
   ],
   "source": [
    "\n",
    "\n",
    "def  parrot(voltage,  state='a stiff',  action='voom',  type='Blue'):\n",
    "       print(action, end=' ')\n",
    "       print(voltage) \n",
    "       print(type)\n",
    "       print(state)\n",
    "\n",
    "\n",
    "parrot(1000)\n",
    "parrot(action = 'V', voltage = 1)\n",
    "parrot('A', state = 'state')\n",
    "parrot('B', 'C', 'D')\n",
    "\n"
   ]
  },
  {
   "cell_type": "code",
   "execution_count": 31,
   "metadata": {},
   "outputs": [],
   "source": [
    "#LAMBDA EXPRESSION PARAMETER"
   ]
  },
  {
   "cell_type": "code",
   "execution_count": 32,
   "metadata": {},
   "outputs": [
    {
     "name": "stdout",
     "output_type": "stream",
     "text": [
      "9\n",
      "9\n",
      "[4, 5, 6]\n"
     ]
    }
   ],
   "source": [
    "\n",
    "\n",
    "def func(x, y, z): return x + y + z\n",
    "\n",
    "print(func(*(2, 3, 4)))\n",
    "f = lambda x, y, z: x + y + z\n",
    "print(f(*(2, 3, 4)))\n",
    "\n",
    "\n",
    "\n",
    "aList = [1, 2, 3, 4, 5, 6, 7, 8, 9]\n",
    "low = 3\n",
    "high = 7\n",
    "print(list(filter(lambda x, l=low, h=high: h>x>l, aList)))    # returns: [4, 5, 6]\n",
    "\n"
   ]
  },
  {
   "cell_type": "code",
   "execution_count": 33,
   "metadata": {},
   "outputs": [
    {
     "name": "stdout",
     "output_type": "stream",
     "text": [
      "False\n",
      "True\n"
     ]
    }
   ],
   "source": [
    "\n",
    "\n",
    "bigger = lambda a, b : a > b\n",
    "\n",
    "print(bigger(1,2))\n",
    "print(bigger(2,1))\n",
    "\n",
    "\n"
   ]
  },
  {
   "cell_type": "code",
   "execution_count": 34,
   "metadata": {},
   "outputs": [
    {
     "name": "stdout",
     "output_type": "stream",
     "text": [
      "6\n",
      "6\n",
      "6\n"
     ]
    }
   ],
   "source": [
    "\n",
    "def f(x): \n",
    "   return x*2 \n",
    " \n",
    "print(f(3)) \n",
    "g = lambda x: x*2                          \n",
    "print(g(3)) \n",
    "print((lambda x: x*2    )(3))\n"
   ]
  },
  {
   "cell_type": "code",
   "execution_count": 35,
   "metadata": {},
   "outputs": [
    {
     "name": "stdout",
     "output_type": "stream",
     "text": [
      "[0, 1, 4, 9, 16, 25]\n",
      "[0, 1, 4, 9, 16, 25]\n"
     ]
    }
   ],
   "source": [
    "\n",
    "\n",
    "print([x ** 2 for x in range(6)])\n",
    "# list comprehension statement:\n",
    "print([x ** 2 for x in range(6)])\n",
    "\n",
    "\n"
   ]
  },
  {
   "cell_type": "code",
   "execution_count": 36,
   "metadata": {},
   "outputs": [
    {
     "name": "stdout",
     "output_type": "stream",
     "text": [
      "True\n"
     ]
    }
   ],
   "source": [
    "\n",
    "def true():\n",
    "    return True\n",
    "\n",
    "def true(): return True\n",
    "\n",
    "lambda :True\n",
    "true = lambda :True\n",
    "print(true())\n",
    "\n",
    "def add(x, y): return x + y  # lambda x, y: x + y\n",
    "def usuallyAdd2(x, y=2): return x+y  # lambda x, y=2: x+y\n",
    "def showAllAsTuple(*z): return z  # lambda *z: z\n"
   ]
  },
  {
   "cell_type": "code",
   "execution_count": 37,
   "metadata": {},
   "outputs": [
    {
     "name": "stdout",
     "output_type": "stream",
     "text": [
      "5\n",
      "8\n",
      "2\n",
      "9\n",
      "(23, 'zyx')\n",
      "(42,)\n"
     ]
    }
   ],
   "source": [
    "\n",
    "a = lambda x, y=2: x + y\n",
    "print(a(3))\n",
    "print(a(3,5))\n",
    "print(a(0))\n",
    "print(a(0,9))\n",
    "b = lambda *z: z\n",
    "print(b(23, 'zyx'))\n",
    "print(b(42))"
   ]
  },
  {
   "cell_type": "code",
   "execution_count": 38,
   "metadata": {},
   "outputs": [
    {
     "name": "stdout",
     "output_type": "stream",
     "text": [
      "84\n",
      "100\n",
      "120\n"
     ]
    }
   ],
   "source": [
    "\n",
    "def weird():\n",
    "    tmp = (lambda: spam * 2)        \n",
    "    spam = 42                       \n",
    "    return tmp\n",
    "\n",
    "act = weird()\n",
    "print(act())\n",
    "\n",
    "\n",
    "\n",
    "def weird():\n",
    "    spam = 42\n",
    "    handler = (lambda: spam * 2)    \n",
    "    spam = 50\n",
    "    print(handler())                 \n",
    "    spam = 60\n",
    "    print(handler())                 \n",
    "    \n",
    "weird()"
   ]
  },
  {
   "cell_type": "code",
   "execution_count": 39,
   "metadata": {},
   "outputs": [],
   "source": [
    "#NESTED FUNCTION\n",
    "\n"
   ]
  },
  {
   "cell_type": "code",
   "execution_count": 40,
   "metadata": {},
   "outputs": [
    {
     "name": "stdout",
     "output_type": "stream",
     "text": [
      "3\n",
      "7\n",
      "3\n",
      "7\n"
     ]
    }
   ],
   "source": [
    "\n",
    "def foo():\n",
    "    m = 3\n",
    "    def bar():\n",
    "        n = 4\n",
    "        print(m + n)\n",
    "    print(m)\n",
    "    bar()\n",
    "foo()\n",
    "foo()\n",
    "\n"
   ]
  },
  {
   "cell_type": "code",
   "execution_count": 41,
   "metadata": {},
   "outputs": [
    {
     "name": "stdout",
     "output_type": "stream",
     "text": [
      "6\n",
      "7\n",
      "101\n",
      "8\n"
     ]
    }
   ],
   "source": [
    "\n",
    "def counter(start_at=0):\n",
    "     count = [start_at]\n",
    "     def incr():\n",
    "         count[0] += 1\n",
    "         return count[0]\n",
    "     return incr\n",
    "\n",
    "count = counter(5)\n",
    "print(count())\n",
    "print(count())\n",
    "count2 = counter(100)\n",
    "print(count2())\n",
    "print(count())\n"
   ]
  },
  {
   "cell_type": "code",
   "execution_count": 42,
   "metadata": {},
   "outputs": [
    {
     "name": "stdout",
     "output_type": "stream",
     "text": [
      "15\n"
     ]
    }
   ],
   "source": [
    "\n",
    "\n",
    "x = 10\n",
    "def foo():\n",
    "    y = 5\n",
    "    bar = lambda :x+y\n",
    "    print(bar())\n",
    "foo()\n",
    "\n",
    "\n"
   ]
  },
  {
   "cell_type": "code",
   "execution_count": 43,
   "metadata": {},
   "outputs": [
    {
     "name": "stdout",
     "output_type": "stream",
     "text": [
      "The objects in the global scope are:\n",
      "['Foo', 'In', 'Out', 'X', '_', '_14', '_4', '_5', '_6', '__', '___', '__builtin__', '__builtins__', '__doc__', '__loader__', '__name__', '__package__', '__spec__', '_dh', '_i', '_i1', '_i10', '_i11', '_i12', '_i13', '_i14', '_i15', '_i16', '_i17', '_i18', '_i19', '_i2', '_i20', '_i21', '_i22', '_i23', '_i24', '_i25', '_i26', '_i27', '_i28', '_i29', '_i3', '_i30', '_i31', '_i32', '_i33', '_i34', '_i35', '_i36', '_i37', '_i38', '_i39', '_i4', '_i40', '_i41', '_i42', '_i43', '_i5', '_i6', '_i7', '_i8', '_i9', '_ih', '_ii', '_iii', '_oh', 'a', 'aList', 'act', 'add', 'ask_ok', 'b', 'bar', 'bigger', 'birthday1', 'birthday2', 'c', 'change_global', 'count', 'count2', 'counter', 'd', 'dictionary', 'e', 'exit', 'f', 'foo', 'fun', 'func', 'g', 'get_ipython', 'h', 'helloSomeone', 'high', 'i', 'is_this_global', 'low', 'maximumValue', 'outer', 'parrot', 'quit', 'read_global', 'selector', 'shadow_global', 'showAllAsTuple', 'square', 'taxMe', 'true', 'tuple', 'usuallyAdd2', 'value', 'weird', 'x']\n",
      "\n",
      "Calling function outer\n",
      "\n",
      "Function outer executing\n",
      "The objects in outer's scope are: ['inner']\n",
      "\n",
      "Function inner executing\n",
      "The objects in inner's scope are: []\n",
      "Function inner finishing\n",
      "\n",
      "Function outer finishing\n",
      "\n",
      "Function outer finished\n"
     ]
    }
   ],
   "source": [
    "\n",
    "\n",
    "def outer():\n",
    "\n",
    "   def inner():\n",
    "      print(\"\\nFunction inner executing\")\n",
    "      print(\"The objects in inner's scope are:\", dir())\n",
    "      print(\"Function inner finishing\")\n",
    "\n",
    "   print(\"Function outer executing\")\n",
    "   print(\"The objects in outer's scope are:\", dir())\n",
    "   inner()\n",
    "   print(\"\\nFunction outer finishing\")\n",
    "\n",
    "print(\"The objects in the global scope are:\")\n",
    "print(dir())\n",
    "\n",
    "print(\"\\nCalling function outer\\n\")\n",
    "outer()\n",
    "print(\"\\nFunction outer finished\")"
   ]
  },
  {
   "cell_type": "code",
   "execution_count": 44,
   "metadata": {},
   "outputs": [
    {
     "name": "stdout",
     "output_type": "stream",
     "text": [
      "1 2 3 4\n",
      "1 2 3 4\n",
      "1 2 4 4\n",
      "1 2 3 4\n",
      "1 2 3 4\n"
     ]
    }
   ],
   "source": [
    "#PARAMETERIZED FUNCTION\n",
    "\n",
    "def func(a, b, c, d): print(a, b, c, d)\n",
    "args = (1, 2)\n",
    "args += (3, 4)\n",
    "func(*args)\n",
    "\n",
    "\n",
    "args = {'a': 1, 'b': 2, 'c': 3}\n",
    "args['d'] = 4\n",
    "func(**args)\n",
    "\n",
    "func(*(1, 2), **{'d': 4, 'c': 4})\n",
    "func(1, *(2, 3), **{'d': 4})\n",
    "func(1, c=3, *(2,), **{'d': 4})\n"
   ]
  },
  {
   "cell_type": "code",
   "execution_count": 45,
   "metadata": {},
   "outputs": [
    {
     "name": "stdout",
     "output_type": "stream",
     "text": [
      "77 [99, 42]\n"
     ]
    }
   ],
   "source": [
    "\n",
    "def f(x, y):\n",
    "    x = 23\n",
    "    y.append(42)\n",
    "\n",
    "a = 77\n",
    "b = [99]\n",
    "f(a, b)\n",
    "print(a, b)\n",
    "\n",
    "\n"
   ]
  },
  {
   "cell_type": "code",
   "execution_count": 46,
   "metadata": {},
   "outputs": [
    {
     "name": "stdout",
     "output_type": "stream",
     "text": [
      "Hello jello!\n"
     ]
    }
   ],
   "source": [
    "\n",
    "def echo(message): \n",
    "    print(message) \n",
    "\n",
    "\n",
    "def indirect(func, arg): \n",
    "     func(arg)     \n",
    "\n",
    "indirect(echo, 'Hello jello!')\n",
    "\n"
   ]
  },
  {
   "cell_type": "code",
   "execution_count": 47,
   "metadata": {},
   "outputs": [
    {
     "name": "stdout",
     "output_type": "stream",
     "text": [
      "in foo()\n",
      "in foo()\n"
     ]
    }
   ],
   "source": [
    "\n",
    "def foo():\n",
    "     print('in foo()')\n",
    "bar = foo\n",
    "bar()\n",
    "def bar(argfunc):\n",
    "  argfunc()\n",
    "bar(foo)\n",
    "\n"
   ]
  },
  {
   "cell_type": "code",
   "execution_count": 48,
   "metadata": {},
   "outputs": [
    {
     "name": "stdout",
     "output_type": "stream",
     "text": [
      "[123, 45, -620000000, 999999999]\n",
      "[123, 45, -620000000, 999999999]\n",
      "[123.0, 45.67, -620000000.0, 999999999.0]\n"
     ]
    }
   ],
   "source": [
    "\n",
    "def convert(func, seq):\n",
    "    return [func(eachNum) for eachNum in seq]\n",
    "\n",
    "myseq = (123, 45.67, -6.2e8, 999999999)\n",
    "print(convert(int, myseq))\n",
    "print(convert(int, myseq))\n",
    "print(convert(float, myseq))\n",
    "\n"
   ]
  },
  {
   "cell_type": "code",
   "execution_count": 50,
   "metadata": {},
   "outputs": [
    {
     "name": "stdout",
     "output_type": "stream",
     "text": [
      "Hello World!\n"
     ]
    },
    {
     "ename": "TypeError",
     "evalue": "foo() takes 1 positional argument but 2 were given",
     "output_type": "error",
     "traceback": [
      "\u001b[0;31m---------------------------------------------------------------------------\u001b[0m",
      "\u001b[0;31mTypeError\u001b[0m                                 Traceback (most recent call last)",
      "\u001b[0;32m<ipython-input-50-00f891a0baaf>\u001b[0m in \u001b[0;36m<module>\u001b[0;34m()\u001b[0m\n\u001b[1;32m      5\u001b[0m \u001b[0;31m#foo()\u001b[0m\u001b[0;34m\u001b[0m\u001b[0;34m\u001b[0m\u001b[0m\n\u001b[1;32m      6\u001b[0m \u001b[0mfoo\u001b[0m\u001b[0;34m(\u001b[0m\u001b[0;34m'World!'\u001b[0m\u001b[0;34m)\u001b[0m\u001b[0;34m\u001b[0m\u001b[0m\n\u001b[0;32m----> 7\u001b[0;31m \u001b[0mfoo\u001b[0m\u001b[0;34m(\u001b[0m\u001b[0;34m'Mr.'\u001b[0m\u001b[0;34m,\u001b[0m \u001b[0;34m'World!'\u001b[0m\u001b[0;34m)\u001b[0m\u001b[0;34m\u001b[0m\u001b[0m\n\u001b[0m\u001b[1;32m      8\u001b[0m \u001b[0;34m\u001b[0m\u001b[0m\n\u001b[1;32m      9\u001b[0m \u001b[0;34m\u001b[0m\u001b[0m\n",
      "\u001b[0;31mTypeError\u001b[0m: foo() takes 1 positional argument but 2 were given"
     ]
    }
   ],
   "source": [
    "\n",
    "def foo(who):     \n",
    "  print('Hello', who)\n",
    "\n",
    "#foo()             \n",
    "foo('World!')     \n",
    "foo('Mr.', 'World!')\n",
    "\n",
    "\n",
    "\n",
    "def multiple(x, y): \n",
    "     x = 2          \n",
    "     y = [3, 4] \n",
    "     return x, y \n",
    "\n",
    "X = 1 \n",
    "L = [1, 2] \n",
    "X, L = multiple(X, L) \n",
    "print(X, L)\n",
    "\n"
   ]
  },
  {
   "cell_type": "code",
   "execution_count": 51,
   "metadata": {},
   "outputs": [
    {
     "name": "stdout",
     "output_type": "stream",
     "text": [
      "Effects of passing entire list:\n",
      "The values of the original list are:\n",
      "1 2 3 4 5 2 4 6 8 10 aList[ 3 ] before modifyElement: 8\n",
      "aList[ 3 ] after modifyElement: 8\n",
      "aList[ 2:4 ] before modifyList: [6, 8]\n",
      "aList[ 2:4 ] after modifyList: [6, 8]\n"
     ]
    }
   ],
   "source": [
    "def modifyList( aList ):\n",
    "   for i in range( len( aList ) ):\n",
    "      aList[ i ] *= 2\n",
    "\n",
    "def modifyElement( element ):\n",
    "   element *= 2\n",
    "\n",
    "aList = [ 1, 2, 3, 4, 5 ]\n",
    "\n",
    "print(\"Effects of passing entire list:\")\n",
    "print(\"The values of the original list are:\")\n",
    "\n",
    "for item in aList:\n",
    "   print(item, end=' ')\n",
    "\n",
    "modifyList( aList )\n",
    "\n",
    "for item in aList:\n",
    "   print(item, end=' ')\n",
    "\n",
    "print(\"aList[ 3 ] before modifyElement:\", aList[ 3 ])\n",
    "modifyElement( aList[ 3 ] )\n",
    "print(\"aList[ 3 ] after modifyElement:\", aList[ 3 ])\n",
    "\n",
    "print(\"aList[ 2:4 ] before modifyList:\", aList[ 2:4 ])\n",
    "modifyList( aList[ 2:4 ] )\n",
    "print(\"aList[ 2:4 ] after modifyList:\", aList[ 2:4 ])"
   ]
  },
  {
   "cell_type": "code",
   "execution_count": 52,
   "metadata": {},
   "outputs": [],
   "source": [
    "#RECURSIVE FUNCTION"
   ]
  },
  {
   "cell_type": "code",
   "execution_count": 53,
   "metadata": {},
   "outputs": [
    {
     "name": "stdout",
     "output_type": "stream",
     "text": [
      "Effects of passing entire list:\n",
      "The values of the original list are:\n",
      "1 2 3 4 5 2 4 6 8 10 aList[ 3 ] before modifyElement: 8\n",
      "aList[ 3 ] after modifyElement: 8\n",
      "aList[ 2:4 ] before modifyList: [6, 8]\n",
      "aList[ 2:4 ] after modifyList: [6, 8]\n"
     ]
    }
   ],
   "source": [
    "def modifyList( aList ):\n",
    "   for i in range( len( aList ) ):\n",
    "      aList[ i ] *= 2\n",
    "\n",
    "def modifyElement( element ):\n",
    "   element *= 2\n",
    "\n",
    "aList = [ 1, 2, 3, 4, 5 ]\n",
    "\n",
    "print(\"Effects of passing entire list:\")\n",
    "print(\"The values of the original list are:\")\n",
    "\n",
    "for item in aList:\n",
    "   print(item, end=' ')\n",
    "\n",
    "modifyList( aList )\n",
    "\n",
    "for item in aList:\n",
    "   print(item, end=' ')\n",
    "\n",
    "print(\"aList[ 3 ] before modifyElement:\", aList[ 3 ])\n",
    "modifyElement( aList[ 3 ] )\n",
    "print(\"aList[ 3 ] after modifyElement:\", aList[ 3 ])\n",
    "\n",
    "print(\"aList[ 2:4 ] before modifyList:\", aList[ 2:4 ])\n",
    "modifyList( aList[ 2:4 ] )\n",
    "print(\"aList[ 2:4 ] after modifyList:\", aList[ 2:4 ])"
   ]
  },
  {
   "cell_type": "code",
   "execution_count": 54,
   "metadata": {},
   "outputs": [
    {
     "name": "stdout",
     "output_type": "stream",
     "text": [
      " 0! = 1\n",
      " 1! = 1\n",
      " 2! = 2\n",
      " 3! = 6\n",
      " 4! = 24\n",
      " 5! = 120\n",
      " 6! = 720\n",
      " 7! = 5040\n",
      " 8! = 40320\n",
      " 9! = 362880\n",
      "10! = 3628800\n"
     ]
    }
   ],
   "source": [
    "\n",
    "\n",
    "def factorial(n):\n",
    "    if n == 0 or n == 1: # 0! = 1! = 1\n",
    "        return 1\n",
    "    else:\n",
    "        return (n * factorial(n-1))\n",
    "    \n",
    "    \n",
    "def factorial( number ):\n",
    "\n",
    "   if number <= 1:   # base case\n",
    "      return 1\n",
    "   else:\n",
    "      return number * factorial( number - 1 )  # recursive call\n",
    "\n",
    "for i in range( 11 ):\n",
    "   print(\"%2d! = %d\" % ( i, factorial( i ) ))\n",
    "\n",
    "\n"
   ]
  },
  {
   "cell_type": "code",
   "execution_count": 55,
   "metadata": {},
   "outputs": [
    {
     "name": "stdout",
     "output_type": "stream",
     "text": [
      "Enter an integer: 22\n",
      "Fibonacci(22) = 17711\n"
     ]
    }
   ],
   "source": [
    "\n",
    "\n",
    "def fibonacci( n ):\n",
    "\n",
    "   if n < 0: \n",
    "      print(\"Cannot find the fibonacci of a negative number\")\n",
    "\n",
    "   if n == 0 or n == 1:  # base case\n",
    "      return n\n",
    "   else:\n",
    "      return fibonacci( n - 1 ) + fibonacci( n - 2 )\n",
    "\n",
    "number = int( input( \"Enter an integer: \" ) )\n",
    "result = fibonacci( number )\n",
    "print(\"Fibonacci(%d) = %d\" % ( number, result ))\n"
   ]
  },
  {
   "cell_type": "code",
   "execution_count": 56,
   "metadata": {},
   "outputs": [
    {
     "data": {
      "text/plain": [
       "1"
      ]
     },
     "execution_count": 56,
     "metadata": {},
     "output_type": "execute_result"
    }
   ],
   "source": [
    "\n",
    "\n",
    "def fact( value ):\n",
    "    if value <= 1 :\n",
    "        return 1\n",
    "    else :\n",
    "        return value * fact( value-1 )\n",
    "\n",
    "fact(4)\n",
    "fact(6)\n",
    "fact(10)\n",
    "fact(12)\n",
    "fact(1)\n",
    "\n"
   ]
  },
  {
   "cell_type": "code",
   "execution_count": 57,
   "metadata": {},
   "outputs": [],
   "source": [
    "#RETURN FUNCTION\n",
    "\n"
   ]
  },
  {
   "cell_type": "code",
   "execution_count": 58,
   "metadata": {},
   "outputs": [
    {
     "name": "stdout",
     "output_type": "stream",
     "text": [
      "9\n"
     ]
    }
   ],
   "source": [
    "\n",
    "\n",
    "def square(x):\n",
    "   return x*x\n",
    "\n",
    "print(square(3))\n",
    "\n"
   ]
  },
  {
   "cell_type": "code",
   "execution_count": 59,
   "metadata": {},
   "outputs": [
    {
     "name": "stdout",
     "output_type": "stream",
     "text": [
      "hello world\n",
      "None\n",
      "<class 'NoneType'>\n"
     ]
    }
   ],
   "source": [
    "\n",
    "def hello():\n",
    "     print('hello world')\n",
    "res = hello()\n",
    "print(res)\n",
    "print(type(res))\n"
   ]
  },
  {
   "cell_type": "code",
   "execution_count": 60,
   "metadata": {},
   "outputs": [
    {
     "name": "stdout",
     "output_type": "stream",
     "text": [
      "['xyz', 1000000, -98.6]\n"
     ]
    }
   ],
   "source": [
    "\n",
    "\n",
    "def foo():\n",
    "    return ['xyz', 1000000, -98.6]\n",
    "\n",
    "print(foo())\n",
    "\n"
   ]
  },
  {
   "cell_type": "code",
   "execution_count": 61,
   "metadata": {},
   "outputs": [
    {
     "name": "stdout",
     "output_type": "stream",
     "text": [
      "('abc', [42, 'python'], 'Guido')\n",
      "abc [42, 'python'] Guido\n",
      "('abc', [42, 'python'], 'Guido')\n"
     ]
    }
   ],
   "source": [
    "\n",
    "def bar():\n",
    "    return 'abc', [42, 'python'], \"Guido\"\n",
    "\n",
    "aTuple = bar()\n",
    "x, y, z = bar()\n",
    "(a, b, c) = bar()\n",
    "print(aTuple)\n",
    "print(x, y, z)\n",
    "print((a, b, c))\n",
    "\n"
   ]
  },
  {
   "cell_type": "code",
   "execution_count": 62,
   "metadata": {},
   "outputs": [
    {
     "name": "stdout",
     "output_type": "stream",
     "text": [
      "Here's a message for you.\n",
      "\n",
      "5\n",
      "\n",
      "Please enter 'y' or 'n': Y\n",
      "y\n"
     ]
    }
   ],
   "source": [
    "\n",
    "def display(message):\n",
    "    print(message)\n",
    "\n",
    "def give_me_five():\n",
    "    five = 5\n",
    "    return five\n",
    "\n",
    "def ask_yes_no(question):\n",
    "    response = None\n",
    "    while response not in (\"y\", \"n\"):\n",
    "        response = input(question).lower()\n",
    "    return response\n",
    "\n",
    "display(\"Here's a message for you.\\n\")\n",
    "\n",
    "number = give_me_five()\n",
    "print(number)\n",
    "\n",
    "answer = ask_yes_no(\"\\nPlease enter 'y' or 'n': \")\n",
    "print(answer)\n"
   ]
  },
  {
   "cell_type": "code",
   "execution_count": 63,
   "metadata": {},
   "outputs": [
    {
     "name": "stdout",
     "output_type": "stream",
     "text": [
      "84\n"
     ]
    }
   ],
   "source": [
    "\n",
    "\n",
    "def weird():\n",
    "    spam = 42\n",
    "    return (lambda: spam * 2)     \n",
    "\n",
    "act = weird()\n",
    "print(act())     # prints 84\n",
    "\n",
    "\n"
   ]
  },
  {
   "cell_type": "code",
   "execution_count": 64,
   "metadata": {},
   "outputs": [
    {
     "name": "stdout",
     "output_type": "stream",
     "text": [
      "testing 123...\n",
      "None\n"
     ]
    }
   ],
   "source": [
    "\n",
    "def proc(x): \n",
    "    print(x)                       \n",
    "\n",
    "x = proc('testing 123...') \n",
    "print(x)"
   ]
  },
  {
   "cell_type": "code",
   "execution_count": 65,
   "metadata": {},
   "outputs": [],
   "source": [
    "#VARIABLE LENGTH FUNCTION"
   ]
  },
  {
   "cell_type": "code",
   "execution_count": 66,
   "metadata": {},
   "outputs": [
    {
     "name": "stdout",
     "output_type": "stream",
     "text": [
      "('Testing',)\n",
      "(1, 2, 3)\n"
     ]
    }
   ],
   "source": [
    "\n",
    "\n",
    "def print_params(*params): \n",
    "    print(params) \n",
    "\n",
    "print_params('Testing') \n",
    "print_params(1, 2, 3)\n"
   ]
  },
  {
   "cell_type": "code",
   "execution_count": 67,
   "metadata": {},
   "outputs": [
    {
     "name": "stdout",
     "output_type": "stream",
     "text": [
      "formal arg 1: abc\n",
      "formal arg 2: abc\n",
      "formal arg 1: 23\n",
      "formal arg 2: 23\n",
      "formal arg 1: abc\n",
      "formal arg 2: abc\n",
      "another arg: xyz\n",
      "another arg: 456.789\n"
     ]
    }
   ],
   "source": [
    "\n",
    "def tupleVarArgs(arg1, arg2='defaultB', *theRest):\n",
    "    print('formal arg 1:', arg1)\n",
    "    print('formal arg 2:', arg1)\n",
    "    for eachXtrArg in theRest:\n",
    "        print('another arg:', eachXtrArg)\n",
    "\n",
    "tupleVarArgs('abc')\n",
    "tupleVarArgs(23, 4.56)\n",
    "tupleVarArgs('abc', 123, 'xyz', 456.789)\n",
    "\n",
    "\n"
   ]
  },
  {
   "cell_type": "code",
   "execution_count": 68,
   "metadata": {},
   "outputs": [
    {
     "name": "stdout",
     "output_type": "stream",
     "text": [
      "formal arg1: 1220\n",
      "formal arg2: 740.0\n",
      "Xtra arg c: grail\n",
      "formal arg1: mystery\n",
      "formal arg2: tales\n",
      "Xtra arg c: 123\n",
      "Xtra arg d: poe\n",
      "formal arg1: one\n",
      "formal arg2: defaultB\n",
      "Xtra arg d: 10\n",
      "Xtra arg e: zoo\n",
      "Xtra arg men: ('freud', 'gaudi')\n"
     ]
    }
   ],
   "source": [
    "\n",
    "\n",
    "def dictVarArgs(arg1, arg2='defaultB', **theRest):\n",
    "    print('formal arg1:', arg1)\n",
    "    print('formal arg2:', arg2)\n",
    "    for eachXtrArg in list(theRest.keys()):\n",
    "        print('Xtra arg %s: %s' % \\\n",
    "            (eachXtrArg, str(theRest[eachXtrArg])))\n",
    "\n",
    "dictVarArgs(1220, 740.0, c='grail')\n",
    "dictVarArgs(arg2='tales', c=123, d='poe', arg1='mystery')\n",
    "dictVarArgs('one', d=10, e='zoo', men=('freud', 'gaudi'))\n"
   ]
  },
  {
   "cell_type": "code",
   "execution_count": 69,
   "metadata": {},
   "outputs": [
    {
     "name": "stdout",
     "output_type": "stream",
     "text": [
      "arg1 is: wolf\n",
      "arg2 is: 3\n",
      "additional non-keyword arg: projects\n",
      "additional keyword arg 'freud': 90\n",
      "additional keyword arg 'gamble': 96\n"
     ]
    }
   ],
   "source": [
    "\n",
    "\n",
    "def newfoo(arg1, arg2, *nkw, **kw):\n",
    "    print('arg1 is:', arg1)\n",
    "    print('arg2 is:', arg2)\n",
    "    for eachNKW in nkw:\n",
    "        print('additional non-keyword arg:', eachNKW)\n",
    "    for eachKW in list(kw.keys()):\n",
    "        print(\"additional keyword arg '%s': %s\" % (eachKW, kw[eachKW]))\n",
    "\n",
    "newfoo('wolf', 3, 'projects', freud=90, gamble=96)\n",
    "\n"
   ]
  },
  {
   "cell_type": "code",
   "execution_count": 70,
   "metadata": {},
   "outputs": [
    {
     "name": "stdout",
     "output_type": "stream",
     "text": [
      "arg1 is: 10\n",
      "arg2 is: 20\n",
      "additional non-keyword arg: 30\n",
      "additional non-keyword arg: 40\n",
      "additional keyword arg 'foo': 50\n",
      "additional keyword arg 'bar': 60\n",
      "arg1 is: 2\n",
      "arg2 is: 4\n",
      "additional non-keyword arg: 6\n",
      "additional non-keyword arg: 8\n",
      "additional keyword arg 'foo': 10\n",
      "additional keyword arg 'bar': 12\n",
      "arg1 is: 1\n",
      "arg2 is: 2\n",
      "additional non-keyword arg: 3\n",
      "additional non-keyword arg: 6\n",
      "additional non-keyword arg: 7\n",
      "additional non-keyword arg: 8\n",
      "additional keyword arg 'x': 4\n",
      "additional keyword arg 'y': 5\n",
      "additional keyword arg 'z': 9\n"
     ]
    }
   ],
   "source": [
    "\n",
    "def newfoo(arg1, arg2, *nkw, **kw):\n",
    "    print('arg1 is:', arg1)\n",
    "    print('arg2 is:', arg2)\n",
    "    for eachNKW in nkw:\n",
    "        print('additional non-keyword arg:', eachNKW)\n",
    "    for eachKW in list(kw.keys()):\n",
    "        print(\"additional keyword arg '%s': %s\" % (eachKW, kw[eachKW]))\n",
    "\n",
    "newfoo(10, 20, 30, 40, foo=50, bar=60)\n",
    "newfoo(2, 4, *(6, 8), **{'foo': 10, 'bar': 12})\n",
    "aTuple = (6, 7, 8)\n",
    "aDict = {'z': 9}\n",
    "newfoo(1, 2, 3, x=4, y=5, *aTuple, **aDict)\n",
    "\n",
    "\n"
   ]
  },
  {
   "cell_type": "code",
   "execution_count": 71,
   "metadata": {},
   "outputs": [
    {
     "name": "stdout",
     "output_type": "stream",
     "text": [
      "{}\n",
      "{'a': 1, 'b': 2}\n",
      "1 (2, 3) {'x': 1, 'y': 2}\n"
     ]
    }
   ],
   "source": [
    "\n",
    "def f(**args): print(args)\n",
    "\n",
    "f(  )\n",
    "f(a=1, b=2)\n",
    "def f(a, *pargs, **kargs): print(a, pargs, kargs)\n",
    "f(1, 2, 3, x=1, y=2)\n",
    "\n",
    "\n"
   ]
  },
  {
   "cell_type": "code",
   "execution_count": 72,
   "metadata": {},
   "outputs": [
    {
     "name": "stdout",
     "output_type": "stream",
     "text": [
      "- Do you have any Limburger ?\n",
      "- I'm sorry, we're all out of Limburger\n",
      "It's very runny, sir.\n",
      "It's really very, VERY runny, sir.\n",
      "----------------------------------------\n",
      "client : John Cleese\n",
      "shopkeeper : Michael Palin\n",
      "sketch : Cheese Shop Sketch\n"
     ]
    }
   ],
   "source": [
    "\n",
    "def cheeseshop(kind, *arguments, **keywords):\n",
    "    print(\"- Do you have any\", kind, '?')\n",
    "    print(\"- I'm sorry, we're all out of\", kind)\n",
    "    for arg in arguments: print(arg)\n",
    "    print('-'*40)\n",
    "    for kw in list(keywords.keys()): print(kw, ':', keywords[kw])\n",
    "\n",
    "\n",
    "cheeseshop('Limburger', \"It's very runny, sir.\",\n",
    "            \"It's really very, VERY runny, sir.\",\n",
    "            client='John Cleese',\n",
    "            shopkeeper='Michael Palin',\n",
    "            sketch='Cheese Shop Sketch')\n"
   ]
  },
  {
   "cell_type": "code",
   "execution_count": 74,
   "metadata": {},
   "outputs": [],
   "source": [
    "\n",
    "\n",
    "def a_function(a, b, *args, **kwargs):\n",
    "    print(\"a is\", a)\n",
    "    print(\"b is\", b)\n",
    "    print(\"*args is this tuple:\", args)\n",
    "    print(\"**kwargs is this dictionary:\", kwargs)"
   ]
  },
  {
   "cell_type": "code",
   "execution_count": 75,
   "metadata": {},
   "outputs": [
    {
     "name": "stdout",
     "output_type": "stream",
     "text": [
      "j == 3 and k == 4\n",
      "j == 1 and k == 7\n",
      "j == 3 and k == 4\n",
      "j == 6 and k == 7\n",
      "j == 8 and k == 7\n"
     ]
    }
   ],
   "source": [
    "j, k = 1, 2\n",
    "\n",
    "def proc1():\n",
    "    j, k = 3, 4\n",
    "    print(\"j == %d and k == %d\" % (j, k))\n",
    "    k = 5\n",
    "\n",
    "def proc2():\n",
    "     j = 6\n",
    "     proc1()\n",
    "     print(\"j == %d and k == %d\" % (j, k))\n",
    "\n",
    "\n",
    "k = 7\n",
    "proc1()\n",
    "print(\"j == %d and k == %d\" % (j, k))\n",
    "\n",
    "j = 8\n",
    "proc2()\n",
    "print(\"j == %d and k == %d\" % (j, k))\n",
    "\n"
   ]
  },
  {
   "cell_type": "code",
   "execution_count": 76,
   "metadata": {},
   "outputs": [
    {
     "name": "stdout",
     "output_type": "stream",
     "text": [
      "in __main__, bar is 100\n",
      "\n",
      "calling foo()...\n",
      "in foo(), bar is 200\n"
     ]
    }
   ],
   "source": [
    "\n",
    "def foo():\n",
    "    print(\"\\ncalling foo()...\")\n",
    "    bar = 200\n",
    "    print(\"in foo(), bar is\", bar)\n",
    "\n",
    "bar = 100\n",
    "print(\"in __main__, bar is\", bar)\n",
    "foo()\n",
    "\n"
   ]
  },
  {
   "cell_type": "code",
   "execution_count": 77,
   "metadata": {},
   "outputs": [
    {
     "name": "stdout",
     "output_type": "stream",
     "text": [
      "__main__'s globals: ['__name__', '__doc__', '__package__', '__loader__', '__spec__', '__builtin__', '__builtins__', '_ih', '_oh', '_dh', 'In', 'Out', 'get_ipython', 'exit', 'quit', '_', '__', '___', '_i', '_ii', '_iii', '_i1', '_i2', 'ask_ok', '_i3', 'foo', '_i4', 'taxMe', '_4', '_i5', 'birthday1', 'birthday2', '_5', '_i6', '_6', '_i7', 'fun', 'tuple', 'dictionary', '_i8', 'func', 'Foo', '_i9', 'square', '_i10', '_i11', 'helloSomeone', 'bar', '_i12', '_i13', '_i14', 'x', 'f', '_14', '_i15', 'maximumValue', 'a', 'b', 'c', 'd', '_i16', 'e', 'g', 'h', 'i', '_i17', '_i18', 'is_this_global', '_i19', '_i20', 'read_global', 'shadow_global', 'change_global', 'value', '_i21', 'X', '_i22', 'selector', '_i23', '_i24', '_i25', '_i26', 'parrot', '_i27', '_i28', '_i29', '_i30', '_i31', '_i32', 'aList', 'low', 'high', '_i33', 'bigger', '_i34', '_i35', '_i36', 'true', 'add', 'usuallyAdd2', 'showAllAsTuple', '_i37', '_i38', 'weird', 'act', '_i39', '_i40', '_i41', 'counter', 'count', 'count2', '_i42', '_i43', 'outer', '_i44', 'args', '_i45', '_i46', 'echo', 'indirect', '_i47', '_i48', 'convert', 'myseq', '_i49', '_i50', '_i51', 'modifyList', 'modifyElement', 'item', '_i52', '_i53', '_i54', 'factorial', '_i55', 'fibonacci', 'number', 'result', '_i56', 'fact', '_56', '_i57', '_i58', '_i59', 'hello', 'res', '_i60', '_i61', 'aTuple', 'y', 'z', '_i62', 'display', 'give_me_five', 'ask_yes_no', 'answer', '_i63', '_i64', 'proc', '_i65', '_i66', 'print_params', '_i67', 'tupleVarArgs', '_i68', 'dictVarArgs', '_i69', 'newfoo', '_i70', 'aDict', '_i71', '_i72', 'cheeseshop', '_i73', 'a_function', '_i74', '_i75', 'j', 'k', 'proc1', 'proc2', '_i76', '_i77']\n",
      "__main__'s locals: ['__name__', '__doc__', '__package__', '__loader__', '__spec__', '__builtin__', '__builtins__', '_ih', '_oh', '_dh', 'In', 'Out', 'get_ipython', 'exit', 'quit', '_', '__', '___', '_i', '_ii', '_iii', '_i1', '_i2', 'ask_ok', '_i3', 'foo', '_i4', 'taxMe', '_4', '_i5', 'birthday1', 'birthday2', '_5', '_i6', '_6', '_i7', 'fun', 'tuple', 'dictionary', '_i8', 'func', 'Foo', '_i9', 'square', '_i10', '_i11', 'helloSomeone', 'bar', '_i12', '_i13', '_i14', 'x', 'f', '_14', '_i15', 'maximumValue', 'a', 'b', 'c', 'd', '_i16', 'e', 'g', 'h', 'i', '_i17', '_i18', 'is_this_global', '_i19', '_i20', 'read_global', 'shadow_global', 'change_global', 'value', '_i21', 'X', '_i22', 'selector', '_i23', '_i24', '_i25', '_i26', 'parrot', '_i27', '_i28', '_i29', '_i30', '_i31', '_i32', 'aList', 'low', 'high', '_i33', 'bigger', '_i34', '_i35', '_i36', 'true', 'add', 'usuallyAdd2', 'showAllAsTuple', '_i37', '_i38', 'weird', 'act', '_i39', '_i40', '_i41', 'counter', 'count', 'count2', '_i42', '_i43', 'outer', '_i44', 'args', '_i45', '_i46', 'echo', 'indirect', '_i47', '_i48', 'convert', 'myseq', '_i49', '_i50', '_i51', 'modifyList', 'modifyElement', 'item', '_i52', '_i53', '_i54', 'factorial', '_i55', 'fibonacci', 'number', 'result', '_i56', 'fact', '_56', '_i57', '_i58', '_i59', 'hello', 'res', '_i60', '_i61', 'aTuple', 'y', 'z', '_i62', 'display', 'give_me_five', 'ask_yes_no', 'answer', '_i63', '_i64', 'proc', '_i65', '_i66', 'print_params', '_i67', 'tupleVarArgs', '_i68', 'dictVarArgs', '_i69', 'newfoo', '_i70', 'aDict', '_i71', '_i72', 'cheeseshop', '_i73', 'a_function', '_i74', '_i75', 'j', 'k', 'proc1', 'proc2', '_i76', '_i77']\n"
     ]
    }
   ],
   "source": [
    "\n",
    "def foo():\n",
    "    print('\\ncalling foo()...')\n",
    "    aString = 'bar'\n",
    "    anInt = 42\n",
    "    print(\"foo()'s globals:\", list(globals().keys()))\n",
    "    print(\"foo()'s locals:\", list(locals().keys()))\n",
    "\n",
    "print(\"__main__'s globals:\", list(globals().keys()))\n",
    "print(\"__main__'s locals:\", list(locals().keys()))\n"
   ]
  },
  {
   "cell_type": "code",
   "execution_count": 78,
   "metadata": {},
   "outputs": [
    {
     "name": "stdout",
     "output_type": "stream",
     "text": [
      "ni\n"
     ]
    }
   ],
   "source": [
    "\n",
    "\n",
    "class MyData(object):\n",
    "    pass\n",
    "mathObj = MyData()\n",
    "mathObj.x = 4\n",
    "mathObj.y = 5\n",
    "mathObj.x + mathObj.y\n",
    "mathObj.x * mathObj.y\n",
    "\n",
    "\n",
    "\n",
    "def normal():\n",
    "    def action():\n",
    "        return spam        \n",
    "    spam = 'ni'\n",
    "    return action\n",
    "\n",
    "act = normal()\n",
    "print(act())\n",
    "\n"
   ]
  },
  {
   "cell_type": "code",
   "execution_count": 79,
   "metadata": {},
   "outputs": [
    {
     "name": "stdout",
     "output_type": "stream",
     "text": [
      "99\n",
      "in function gfunc, x =  10\n",
      "Initially, x =  10\n",
      "in function func, x =  20\n",
      "After func, x =  10\n",
      "After gfunc, x =  20\n"
     ]
    }
   ],
   "source": [
    "\n",
    "\n",
    "X = 99 \n",
    "def selector(  ):          \n",
    "    print(X)                \n",
    "\n",
    "selector(  )\n",
    "\n",
    "\n",
    "\n",
    "\n",
    "x = 10\n",
    "def func() :\n",
    "    x = 20\n",
    "    print(\"in function func, x = \", x)\n",
    "\n",
    "def gfunc() :\n",
    "    global x\n",
    "    x = 20\n",
    "print(\"in function gfunc, x = \", x)\n",
    "\n",
    "print(\"Initially, x = \", x)\n",
    "func()\n",
    "print(\"After func, x = \", x)\n",
    "gfunc()\n",
    "print(\"After gfunc, x = \", x)\n",
    "\n",
    "\n"
   ]
  },
  {
   "cell_type": "code",
   "execution_count": null,
   "metadata": {},
   "outputs": [],
   "source": []
  }
 ],
 "metadata": {
  "kernelspec": {
   "display_name": "Python 3",
   "language": "python",
   "name": "python3"
  },
  "language_info": {
   "codemirror_mode": {
    "name": "ipython",
    "version": 3
   },
   "file_extension": ".py",
   "mimetype": "text/x-python",
   "name": "python",
   "nbconvert_exporter": "python",
   "pygments_lexer": "ipython3",
   "version": "3.6.5"
  }
 },
 "nbformat": 4,
 "nbformat_minor": 2
}
