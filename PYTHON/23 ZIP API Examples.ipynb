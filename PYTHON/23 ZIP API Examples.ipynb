{
 "cells": [
  {
   "cell_type": "code",
   "execution_count": 2,
   "metadata": {},
   "outputs": [
    {
     "name": "stdout",
     "output_type": "stream",
     "text": [
      "python_files/python_basic.pdf\n",
      "\tModified:\t2016-12-09 22:57:34\n",
      "\tSystem:\t\t0(0 = Windows, 3 = Unix)\n",
      "\tZIP version:\t20\n",
      "\tCompressed:\t210098 bytes\n",
      "\tUncompressed:\t210098 bytes\n",
      "python_files/python_wiki.txt\n",
      "\tModified:\t2016-12-10 00:51:36\n",
      "\tSystem:\t\t0(0 = Windows, 3 = Unix)\n",
      "\tZIP version:\t20\n",
      "\tCompressed:\t1144 bytes\n",
      "\tUncompressed:\t1144 bytes\n",
      "python_files/logos/python_logo.jpg\n",
      "\tModified:\t2016-12-09 22:57:34\n",
      "\tSystem:\t\t0(0 = Windows, 3 = Unix)\n",
      "\tZIP version:\t20\n",
      "\tCompressed:\t46623 bytes\n",
      "\tUncompressed:\t46623 bytes\n"
     ]
    }
   ],
   "source": [
    "# importing required modules\n",
    "from zipfile import ZipFile\n",
    "import datetime\n",
    " \n",
    "# specifying the zip file name\n",
    "file_name = \"my_python_files.zip\"\n",
    " \n",
    "# opening the zip file in READ mode\n",
    "with ZipFile(file_name, 'r') as zip:\n",
    "    for info in zip.infolist():\n",
    "            print(info.filename)\n",
    "            print('\\tModified:\\t' + str(datetime.datetime(*info.date_time)))\n",
    "            print('\\tSystem:\\t\\t' + str(info.create_system) + '(0 = Windows, 3 = Unix)')\n",
    "            print('\\tZIP version:\\t' + str(info.create_version))\n",
    "            print('\\tCompressed:\\t' + str(info.compress_size) + ' bytes')\n",
    "            print('\\tUncompressed:\\t' + str(info.file_size) + ' bytes')\n"
   ]
  },
  {
   "cell_type": "code",
   "execution_count": 3,
   "metadata": {},
   "outputs": [
    {
     "name": "stdout",
     "output_type": "stream",
     "text": [
      "Following files will be zipped:\n",
      "./python_files/python_wiki.txt\n",
      "./python_files/python_basic.pdf\n",
      "./python_files/logos/python_logo.jpg\n",
      "All files zipped successfully!\n"
     ]
    }
   ],
   "source": [
    "# importing required modules\n",
    "from zipfile import ZipFile\n",
    "import os\n",
    " \n",
    "def get_all_file_paths(directory):\n",
    " \n",
    "    # initializing empty file paths list\n",
    "    file_paths = []\n",
    " \n",
    "    # crawling through directory and subdirectories\n",
    "    for root, directories, files in os.walk(directory):\n",
    "        for filename in files:\n",
    "            # join the two strings in order to form the full filepath.\n",
    "            filepath = os.path.join(root, filename)\n",
    "            file_paths.append(filepath)\n",
    " \n",
    "    # returning all file paths\n",
    "    return file_paths        \n",
    " \n",
    "def main():\n",
    "    # path to folder which needs to be zipped\n",
    "    directory = './python_files'\n",
    " \n",
    "    # calling function to get all file paths in the directory\n",
    "    file_paths = get_all_file_paths(directory)\n",
    " \n",
    "    # printing the list of all files to be zipped\n",
    "    print('Following files will be zipped:')\n",
    "    for file_name in file_paths:\n",
    "        print(file_name)\n",
    " \n",
    "    # writing files to a zipfile\n",
    "    with ZipFile('my_python_files.zip','w') as zip:\n",
    "        # writing each file one by one\n",
    "        for file in file_paths:\n",
    "            zip.write(file)\n",
    " \n",
    "    print('All files zipped successfully!')        \n",
    " \n",
    " \n",
    "if __name__ == \"__main__\":\n",
    "    main()\n"
   ]
  },
  {
   "cell_type": "code",
   "execution_count": 4,
   "metadata": {},
   "outputs": [
    {
     "name": "stdout",
     "output_type": "stream",
     "text": [
      "File Name                                             Modified             Size\n",
      "python_files/python_wiki.txt                   2018-02-06 18:14:02          986\n",
      "python_files/python_basic.pdf                  2018-02-06 18:14:02       210098\n",
      "python_files/logos/python_logo.jpg             2018-02-06 18:14:02        46623\n",
      "Extracting all the files now...\n",
      "Done!\n"
     ]
    }
   ],
   "source": [
    "# importing required modules\n",
    "from zipfile import ZipFile\n",
    " \n",
    "# specifying the zip file name\n",
    "file_name = \"my_python_files.zip\"\n",
    " \n",
    "# opening the zip file in READ mode\n",
    "with ZipFile(file_name, 'r') as zip:\n",
    "    # printing all the contents of the zip file\n",
    "    zip.printdir()\n",
    " \n",
    "    # extracting all the files\n",
    "    print('Extracting all the files now...')\n",
    "    zip.extractall()\n",
    "    print('Done!')\n"
   ]
  },
  {
   "cell_type": "code",
   "execution_count": null,
   "metadata": {},
   "outputs": [],
   "source": []
  }
 ],
 "metadata": {
  "kernelspec": {
   "display_name": "Python 3",
   "language": "python",
   "name": "python3"
  },
  "language_info": {
   "codemirror_mode": {
    "name": "ipython",
    "version": 3
   },
   "file_extension": ".py",
   "mimetype": "text/x-python",
   "name": "python",
   "nbconvert_exporter": "python",
   "pygments_lexer": "ipython3",
   "version": "3.6.5"
  }
 },
 "nbformat": 4,
 "nbformat_minor": 2
}
