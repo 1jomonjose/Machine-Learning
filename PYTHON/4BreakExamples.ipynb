{
 "cells": [
  {
   "cell_type": "code",
   "execution_count": null,
   "metadata": {},
   "outputs": [],
   "source": [
    "from math import sqrt \n",
    "\n",
    "for n in range(99, 0 -1):\n",
    "    root = sqrt(n) \n",
    "    if root == int(root):\n",
    "       print (root)\n",
    "       break\n",
    "   "
   ]
  },
  {
   "cell_type": "code",
   "execution_count": null,
   "metadata": {},
   "outputs": [],
   "source": [
    "while True: \n",
    "    word = input('Please enter a word: ')\n",
    "    if not word: break \n",
    "    print ('The word was ' + word)\n"
   ]
  },
  {
   "cell_type": "code",
   "execution_count": null,
   "metadata": {},
   "outputs": [],
   "source": [
    "\n",
    "word = \"this is a test\"\n",
    "string = \"\"\n",
    "for ch in word:\n",
    "    if ch == 'i':\n",
    "        string +='y'\n",
    "        continue\n",
    "    if ch == ' ':\n",
    "        break\n",
    "    string += ch\n",
    "print (string)"
   ]
  },
  {
   "cell_type": "code",
   "execution_count": null,
   "metadata": {},
   "outputs": [],
   "source": [
    "\n",
    "for n in range(2, 10):\n",
    "   for x in range(2, n):\n",
    "       if n % x == 0:\n",
    "           print (n, 'equals', x, '*', n/x)\n",
    "           break\n",
    "   else:\n",
    "       print (n, 'is a prime number')"
   ]
  },
  {
   "cell_type": "code",
   "execution_count": null,
   "metadata": {},
   "outputs": [],
   "source": []
  }
 ],
 "metadata": {
  "kernelspec": {
   "display_name": "Python 3",
   "language": "python",
   "name": "python3"
  },
  "language_info": {
   "codemirror_mode": {
    "name": "ipython",
    "version": 3
   },
   "file_extension": ".py",
   "mimetype": "text/x-python",
   "name": "python",
   "nbconvert_exporter": "python",
   "pygments_lexer": "ipython3",
   "version": "3.7.0"
  }
 },
 "nbformat": 4,
 "nbformat_minor": 2
}
